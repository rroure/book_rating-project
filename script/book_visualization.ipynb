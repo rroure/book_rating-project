{
 "cells": [
  {
   "cell_type": "code",
   "execution_count": 1,
   "id": "281228af",
   "metadata": {
    "ExecuteTime": {
     "end_time": "2023-02-01T13:38:10.541429Z",
     "start_time": "2023-02-01T13:38:04.662162Z"
    }
   },
   "outputs": [
    {
     "name": "stderr",
     "output_type": "stream",
     "text": [
      "C:\\Users\\romai\\anaconda3\\lib\\site-packages\\fuzzywuzzy\\fuzz.py:11: UserWarning: Using slow pure-python SequenceMatcher. Install python-Levenshtein to remove this warning\n",
      "  warnings.warn('Using slow pure-python SequenceMatcher. Install python-Levenshtein to remove this warning')\n"
     ]
    }
   ],
   "source": [
    "import numpy as np\n",
    "import pandas as pd\n",
    "from datetime import datetime\n",
    "from fuzzywuzzy import process, fuzz\n",
    "import matplotlib.pyplot as plt\n",
    "import matplotlib.ticker as mtick\n",
    "import seaborn as sns\n",
    "import plotly.express as px\n",
    "import warnings\n",
    "warnings.filterwarnings(\"ignore\")"
   ]
  },
  {
   "cell_type": "code",
   "execution_count": 2,
   "id": "4232f1ce",
   "metadata": {
    "ExecuteTime": {
     "end_time": "2023-02-01T13:38:10.619180Z",
     "start_time": "2023-02-01T13:38:10.543510Z"
    }
   },
   "outputs": [],
   "source": [
    "#import book dataset\n",
    "df=pd.read_csv(\"C:/Users/romai/Documents/DSTI/4-Python Labs/Project/Python/dataset/books_v2.csv\", index_col=\"bookID\", on_bad_lines = 'error')"
   ]
  },
  {
   "cell_type": "markdown",
   "id": "0af1c7ee",
   "metadata": {},
   "source": [
    "#Needed Cells from Cleaning"
   ]
  },
  {
   "cell_type": "code",
   "execution_count": 5,
   "id": "7a501483",
   "metadata": {
    "ExecuteTime": {
     "end_time": "2023-02-01T13:38:10.634568Z",
     "start_time": "2023-02-01T13:38:10.622062Z"
    }
   },
   "outputs": [],
   "source": [
    "#move to FE\n",
    "#Renaming '  num_pages' in order to remove the extra spaces and displaying columns names\n",
    "df.rename(columns={'  num_pages':'num_pages'}, inplace=True)"
   ]
  },
  {
   "cell_type": "code",
   "execution_count": 6,
   "id": "24f687ea",
   "metadata": {
    "ExecuteTime": {
     "end_time": "2023-02-01T13:38:10.665613Z",
     "start_time": "2023-02-01T13:38:10.637078Z"
    }
   },
   "outputs": [],
   "source": [
    "df['language_code'] = df['language_code'].replace('en-US','eng')\n",
    "df['language_code'] = df['language_code'].replace('en-GB','eng')\n",
    "df['language_code'] = df['language_code'].replace('en-CA','eng')"
   ]
  },
  {
   "cell_type": "code",
   "execution_count": 8,
   "id": "0fc3f629",
   "metadata": {
    "ExecuteTime": {
     "end_time": "2023-02-01T13:38:18.858858Z",
     "start_time": "2023-02-01T13:38:10.668586Z"
    },
    "collapsed": true
   },
   "outputs": [
    {
     "ename": "KeyboardInterrupt",
     "evalue": "",
     "output_type": "error",
     "traceback": [
      "\u001b[1;31m---------------------------------------------------------------------------\u001b[0m",
      "\u001b[1;31mKeyboardInterrupt\u001b[0m                         Traceback (most recent call last)",
      "Input \u001b[1;32mIn [8]\u001b[0m, in \u001b[0;36m<cell line: 7>\u001b[1;34m()\u001b[0m\n\u001b[0;32m      7\u001b[0m \u001b[38;5;28;01mfor\u001b[39;00m (i, element) \u001b[38;5;129;01min\u001b[39;00m \u001b[38;5;28menumerate\u001b[39m(elements):\n\u001b[0;32m      8\u001b[0m     \u001b[38;5;28;01mfor\u001b[39;00m (j, choice) \u001b[38;5;129;01min\u001b[39;00m \u001b[38;5;28menumerate\u001b[39m(elements[i\u001b[38;5;241m+\u001b[39m\u001b[38;5;241m1\u001b[39m:]):\n\u001b[1;32m----> 9\u001b[0m         \u001b[38;5;28;01mif\u001b[39;00m \u001b[43mfuzz\u001b[49m\u001b[38;5;241;43m.\u001b[39;49m\u001b[43mratio\u001b[49m\u001b[43m(\u001b[49m\u001b[43melement\u001b[49m\u001b[43m,\u001b[49m\u001b[43m \u001b[49m\u001b[43mchoice\u001b[49m\u001b[43m)\u001b[49m \u001b[38;5;241m>\u001b[39m\u001b[38;5;241m=\u001b[39m \u001b[38;5;241m90\u001b[39m:\n\u001b[0;32m     10\u001b[0m             results[i][\u001b[38;5;241m2\u001b[39m] \u001b[38;5;241m+\u001b[39m\u001b[38;5;241m=\u001b[39m \u001b[38;5;241m1\u001b[39m\n\u001b[0;32m     11\u001b[0m             results[i][\u001b[38;5;241m1\u001b[39m]\u001b[38;5;241m.\u001b[39mappend(choice)\n",
      "File \u001b[1;32m~\\anaconda3\\lib\\site-packages\\fuzzywuzzy\\utils.py:38\u001b[0m, in \u001b[0;36mcheck_for_none.<locals>.decorator\u001b[1;34m(*args, **kwargs)\u001b[0m\n\u001b[0;32m     36\u001b[0m \u001b[38;5;28;01mif\u001b[39;00m args[\u001b[38;5;241m0\u001b[39m] \u001b[38;5;129;01mis\u001b[39;00m \u001b[38;5;28;01mNone\u001b[39;00m \u001b[38;5;129;01mor\u001b[39;00m args[\u001b[38;5;241m1\u001b[39m] \u001b[38;5;129;01mis\u001b[39;00m \u001b[38;5;28;01mNone\u001b[39;00m:\n\u001b[0;32m     37\u001b[0m     \u001b[38;5;28;01mreturn\u001b[39;00m \u001b[38;5;241m0\u001b[39m\n\u001b[1;32m---> 38\u001b[0m \u001b[38;5;28;01mreturn\u001b[39;00m func(\u001b[38;5;241m*\u001b[39margs, \u001b[38;5;241m*\u001b[39m\u001b[38;5;241m*\u001b[39mkwargs)\n",
      "File \u001b[1;32m~\\anaconda3\\lib\\site-packages\\fuzzywuzzy\\utils.py:29\u001b[0m, in \u001b[0;36mcheck_for_equivalence.<locals>.decorator\u001b[1;34m(*args, **kwargs)\u001b[0m\n\u001b[0;32m     27\u001b[0m \u001b[38;5;28;01mif\u001b[39;00m args[\u001b[38;5;241m0\u001b[39m] \u001b[38;5;241m==\u001b[39m args[\u001b[38;5;241m1\u001b[39m]:\n\u001b[0;32m     28\u001b[0m     \u001b[38;5;28;01mreturn\u001b[39;00m \u001b[38;5;241m100\u001b[39m\n\u001b[1;32m---> 29\u001b[0m \u001b[38;5;28;01mreturn\u001b[39;00m func(\u001b[38;5;241m*\u001b[39margs, \u001b[38;5;241m*\u001b[39m\u001b[38;5;241m*\u001b[39mkwargs)\n",
      "File \u001b[1;32m~\\anaconda3\\lib\\site-packages\\fuzzywuzzy\\utils.py:47\u001b[0m, in \u001b[0;36mcheck_empty_string.<locals>.decorator\u001b[1;34m(*args, **kwargs)\u001b[0m\n\u001b[0;32m     45\u001b[0m \u001b[38;5;28;01mif\u001b[39;00m \u001b[38;5;28mlen\u001b[39m(args[\u001b[38;5;241m0\u001b[39m]) \u001b[38;5;241m==\u001b[39m \u001b[38;5;241m0\u001b[39m \u001b[38;5;129;01mor\u001b[39;00m \u001b[38;5;28mlen\u001b[39m(args[\u001b[38;5;241m1\u001b[39m]) \u001b[38;5;241m==\u001b[39m \u001b[38;5;241m0\u001b[39m:\n\u001b[0;32m     46\u001b[0m     \u001b[38;5;28;01mreturn\u001b[39;00m \u001b[38;5;241m0\u001b[39m\n\u001b[1;32m---> 47\u001b[0m \u001b[38;5;28;01mreturn\u001b[39;00m func(\u001b[38;5;241m*\u001b[39margs, \u001b[38;5;241m*\u001b[39m\u001b[38;5;241m*\u001b[39mkwargs)\n",
      "File \u001b[1;32m~\\anaconda3\\lib\\site-packages\\fuzzywuzzy\\fuzz.py:28\u001b[0m, in \u001b[0;36mratio\u001b[1;34m(s1, s2)\u001b[0m\n\u001b[0;32m     25\u001b[0m s1, s2 \u001b[38;5;241m=\u001b[39m utils\u001b[38;5;241m.\u001b[39mmake_type_consistent(s1, s2)\n\u001b[0;32m     27\u001b[0m m \u001b[38;5;241m=\u001b[39m SequenceMatcher(\u001b[38;5;28;01mNone\u001b[39;00m, s1, s2)\n\u001b[1;32m---> 28\u001b[0m \u001b[38;5;28;01mreturn\u001b[39;00m utils\u001b[38;5;241m.\u001b[39mintr(\u001b[38;5;241m100\u001b[39m \u001b[38;5;241m*\u001b[39m \u001b[43mm\u001b[49m\u001b[38;5;241;43m.\u001b[39;49m\u001b[43mratio\u001b[49m\u001b[43m(\u001b[49m\u001b[43m)\u001b[49m)\n",
      "File \u001b[1;32m~\\anaconda3\\lib\\difflib.py:619\u001b[0m, in \u001b[0;36mSequenceMatcher.ratio\u001b[1;34m(self)\u001b[0m\n\u001b[0;32m    597\u001b[0m \u001b[38;5;28;01mdef\u001b[39;00m \u001b[38;5;21mratio\u001b[39m(\u001b[38;5;28mself\u001b[39m):\n\u001b[0;32m    598\u001b[0m     \u001b[38;5;124;03m\"\"\"Return a measure of the sequences' similarity (float in [0,1]).\u001b[39;00m\n\u001b[0;32m    599\u001b[0m \n\u001b[0;32m    600\u001b[0m \u001b[38;5;124;03m    Where T is the total number of elements in both sequences, and\u001b[39;00m\n\u001b[1;32m   (...)\u001b[0m\n\u001b[0;32m    616\u001b[0m \u001b[38;5;124;03m    1.0\u001b[39;00m\n\u001b[0;32m    617\u001b[0m \u001b[38;5;124;03m    \"\"\"\u001b[39;00m\n\u001b[1;32m--> 619\u001b[0m     matches \u001b[38;5;241m=\u001b[39m \u001b[38;5;28msum\u001b[39m(triple[\u001b[38;5;241m-\u001b[39m\u001b[38;5;241m1\u001b[39m] \u001b[38;5;28;01mfor\u001b[39;00m triple \u001b[38;5;129;01min\u001b[39;00m \u001b[38;5;28;43mself\u001b[39;49m\u001b[38;5;241;43m.\u001b[39;49m\u001b[43mget_matching_blocks\u001b[49m\u001b[43m(\u001b[49m\u001b[43m)\u001b[49m)\n\u001b[0;32m    620\u001b[0m     \u001b[38;5;28;01mreturn\u001b[39;00m _calculate_ratio(matches, \u001b[38;5;28mlen\u001b[39m(\u001b[38;5;28mself\u001b[39m\u001b[38;5;241m.\u001b[39ma) \u001b[38;5;241m+\u001b[39m \u001b[38;5;28mlen\u001b[39m(\u001b[38;5;28mself\u001b[39m\u001b[38;5;241m.\u001b[39mb))\n",
      "\u001b[1;31mKeyboardInterrupt\u001b[0m: "
     ]
    }
   ],
   "source": [
    "pub = df.publisher.unique()\n",
    "elements = list(pub)\n",
    "# elements = ['vikash', 'vikas', 'Vinod', 'Vikky', 'Akash', 'Vinodh', 'Sachin', 'Salman', 'Ajay', 'Suchin', 'vIkas', 'salman', 'salMa', 'Akash', 'vikahs']\n",
    "\n",
    "results = [[name, [], 0] for name in elements]\n",
    "\n",
    "for (i, element) in enumerate(elements):\n",
    "    for (j, choice) in enumerate(elements[i+1:]):\n",
    "        if fuzz.ratio(element, choice) >= 90:\n",
    "            results[i][2] += 1\n",
    "            results[i][1].append(choice)\n",
    "            results[j+i+1][2] += 1\n",
    "            results[j+i+1][1].append(element)\n",
    "\n",
    "data = pd.DataFrame(results, columns=['name', 'duplicates', 'duplicate_count'])\n",
    "\n",
    "data = data.sort_values(by=['duplicate_count'],ascending=False)"
   ]
  },
  {
   "cell_type": "code",
   "execution_count": null,
   "id": "22af1239",
   "metadata": {
    "ExecuteTime": {
     "end_time": "2023-02-01T13:38:19.169989Z",
     "start_time": "2023-02-01T13:38:18.859831Z"
    },
    "scrolled": false
   },
   "outputs": [],
   "source": [
    "to_remove = []\n",
    "test = {}\n",
    "\n",
    "for i,j in data.iterrows():\n",
    "    if data.name[i] in list(test.keys()):\n",
    "        for x in j.duplicates:\n",
    "            if x not in test : \n",
    "                test[x]=test[data.name[i]]\n",
    "    else : \n",
    "        test[data.name[i]] = data.name[i]\n",
    "        for x in j.duplicates:\n",
    "            if x not in test : \n",
    "                test[x]=data.name[i]\n",
    "#                 print(data.name[i], \"****\", x,\"--\" , data.name[i])\n",
    "        \n",
    "\n",
    "                    \n",
    "# print(test)\n",
    "data['pub'] = data['name'].map(test)\n",
    "display(data)"
   ]
  },
  {
   "cell_type": "code",
   "execution_count": null,
   "id": "a832596b",
   "metadata": {
    "ExecuteTime": {
     "end_time": "2023-02-01T13:38:19.185884Z",
     "start_time": "2023-02-01T13:38:19.172011Z"
    }
   },
   "outputs": [],
   "source": [
    "df['publisher_iso'] = df['publisher'].map(test)"
   ]
  },
  {
   "cell_type": "code",
   "execution_count": null,
   "id": "267f01f8",
   "metadata": {
    "ExecuteTime": {
     "end_time": "2023-02-01T13:38:19.216992Z",
     "start_time": "2023-02-01T13:38:19.187891Z"
    },
    "scrolled": true
   },
   "outputs": [],
   "source": [
    "df"
   ]
  },
  {
   "cell_type": "markdown",
   "id": "49552bd8",
   "metadata": {},
   "source": [
    "# Visualization\n",
    "to be added in EDA "
   ]
  },
  {
   "cell_type": "markdown",
   "id": "18d2f13a",
   "metadata": {},
   "source": [
    "## Rating distribution\n",
    "\n",
    "**move to EDA (part of description)**"
   ]
  },
  {
   "cell_type": "code",
   "execution_count": 17,
   "id": "01698550",
   "metadata": {
    "ExecuteTime": {
     "end_time": "2023-02-01T13:39:54.803184Z",
     "start_time": "2023-02-01T13:39:54.500760Z"
    },
    "scrolled": true
   },
   "outputs": [
    {
     "data": {
      "text/plain": [
       "<function matplotlib.pyplot.show(close=None, block=None)>"
      ]
     },
     "execution_count": 17,
     "metadata": {},
     "output_type": "execute_result"
    },
    {
     "data": {
      "image/png": "[encoded data removed]",
      "text/plain": [
       "<Figure size 720x720 with 1 Axes>"
      ]
     },
     "metadata": {
      "needs_background": "light"
     },
     "output_type": "display_data"
    }
   ],
   "source": [
    "plt.figure(figsize=(10,10))\n",
    "sns.histplot(df['average_rating'], kde = True, bins = 20, palette = \"hls\" )\n",
    "plt.xticks(rotation = 90)\n",
    "plt.ylabel('Frequency')\n",
    "plt.grid()\n",
    "plt.show"
   ]
  },
  {
   "cell_type": "markdown",
   "id": "92c01763",
   "metadata": {},
   "source": [
    "--> Median= 3.9/4 as showed in the describe table"
   ]
  },
  {
   "cell_type": "markdown",
   "id": "f92f6cb5",
   "metadata": {},
   "source": [
    "## Categorizing average rating and creating an extra column"
   ]
  },
  {
   "cell_type": "code",
   "execution_count": 18,
   "id": "aab6b50e",
   "metadata": {
    "ExecuteTime": {
     "end_time": "2023-01-30T17:37:10.793320Z",
     "start_time": "2023-01-30T17:37:10.773312Z"
    }
   },
   "outputs": [],
   "source": [
    "bins = [0, 1, 2, 3, 4, 5]\n",
    "label = ['<1', '1-2', '2-3', '3-4', '4-5']\n",
    "df['cat_rating'] = pd.cut(df['average_rating'], bins, labels=label)"
   ]
  },
  {
   "cell_type": "code",
   "execution_count": 19,
   "id": "bc252e8f",
   "metadata": {
    "ExecuteTime": {
     "end_time": "2023-01-30T17:37:10.825635Z",
     "start_time": "2023-01-30T17:37:10.793320Z"
    }
   },
   "outputs": [
    {
     "name": "stdout",
     "output_type": "stream",
     "text": [
      "3-4    6288\n",
      "4-5    4735\n",
      "2-3      69\n",
      "1-2       7\n",
      "<1        2\n",
      "Name: cat_rating, dtype: int64\n"
     ]
    }
   ],
   "source": [
    "rating_frequency = df[\"cat_rating\"].value_counts()\n",
    "print((rating_frequency))"
   ]
  },
  {
   "cell_type": "code",
   "execution_count": 20,
   "id": "111d57d4",
   "metadata": {
    "ExecuteTime": {
     "end_time": "2023-01-30T17:37:11.193287Z",
     "start_time": "2023-01-30T17:37:10.826145Z"
    }
   },
   "outputs": [
    {
     "data": {
      "image/png": "[encoded data removed]",
      "text/plain": [
       "<Figure size 576x576 with 1 Axes>"
      ]
     },
     "metadata": {
      "needs_background": "light"
     },
     "output_type": "display_data"
    }
   ],
   "source": [
    "# Chart for average rating by category \n",
    "# Adding the % for the histogram (couldn't)\n",
    "\n",
    "hist = df['cat_rating'].value_counts().plot(kind = 'bar', figsize=(8, 8)).legend()\n"
   ]
  },
  {
   "cell_type": "code",
   "execution_count": 21,
   "id": "35611611",
   "metadata": {
    "ExecuteTime": {
     "end_time": "2023-01-30T17:37:11.258832Z",
     "start_time": "2023-01-30T17:37:11.197959Z"
    }
   },
   "outputs": [
    {
     "data": {
      "text/html": [
       "<div>\n",
       "<style scoped>\n",
       "    .dataframe tbody tr th:only-of-type {\n",
       "        vertical-align: middle;\n",
       "    }\n",
       "\n",
       "    .dataframe tbody tr th {\n",
       "        vertical-align: top;\n",
       "    }\n",
       "\n",
       "    .dataframe thead th {\n",
       "        text-align: right;\n",
       "    }\n",
       "</style>\n",
       "<table border=\"1\" class=\"dataframe\">\n",
       "  <thead>\n",
       "    <tr style=\"text-align: right;\">\n",
       "      <th></th>\n",
       "      <th>title</th>\n",
       "      <th>authors</th>\n",
       "      <th>average_rating</th>\n",
       "      <th>isbn</th>\n",
       "      <th>isbn13</th>\n",
       "      <th>language_code</th>\n",
       "      <th>num_pages</th>\n",
       "      <th>ratings_count</th>\n",
       "      <th>text_reviews_count</th>\n",
       "      <th>publication_date</th>\n",
       "      <th>publisher</th>\n",
       "      <th>cat_rating</th>\n",
       "    </tr>\n",
       "    <tr>\n",
       "      <th>bookID</th>\n",
       "      <th></th>\n",
       "      <th></th>\n",
       "      <th></th>\n",
       "      <th></th>\n",
       "      <th></th>\n",
       "      <th></th>\n",
       "      <th></th>\n",
       "      <th></th>\n",
       "      <th></th>\n",
       "      <th></th>\n",
       "      <th></th>\n",
       "      <th></th>\n",
       "    </tr>\n",
       "  </thead>\n",
       "  <tbody>\n",
       "    <tr>\n",
       "      <th>1</th>\n",
       "      <td>Harry Potter and the Half-Blood Prince (Harry ...</td>\n",
       "      <td>J.K. Rowling/Mary GrandPré</td>\n",
       "      <td>4.57</td>\n",
       "      <td>439785960</td>\n",
       "      <td>9.780000e+12</td>\n",
       "      <td>eng</td>\n",
       "      <td>652</td>\n",
       "      <td>2095690</td>\n",
       "      <td>27591</td>\n",
       "      <td>9/16/2006</td>\n",
       "      <td>Scholastic Inc.</td>\n",
       "      <td>4-5</td>\n",
       "    </tr>\n",
       "    <tr>\n",
       "      <th>2</th>\n",
       "      <td>Harry Potter and the Order of the Phoenix (Har...</td>\n",
       "      <td>J.K. Rowling/Mary GrandPré</td>\n",
       "      <td>4.49</td>\n",
       "      <td>439358078</td>\n",
       "      <td>9.780000e+12</td>\n",
       "      <td>eng</td>\n",
       "      <td>870</td>\n",
       "      <td>2153167</td>\n",
       "      <td>29221</td>\n",
       "      <td>09/01/2004</td>\n",
       "      <td>Scholastic Inc.</td>\n",
       "      <td>4-5</td>\n",
       "    </tr>\n",
       "    <tr>\n",
       "      <th>4</th>\n",
       "      <td>Harry Potter and the Chamber of Secrets (Harry...</td>\n",
       "      <td>J.K. Rowling</td>\n",
       "      <td>4.42</td>\n",
       "      <td>439554896</td>\n",
       "      <td>9.780000e+12</td>\n",
       "      <td>eng</td>\n",
       "      <td>352</td>\n",
       "      <td>6333</td>\n",
       "      <td>244</td>\n",
       "      <td>11/01/2003</td>\n",
       "      <td>Scholastic</td>\n",
       "      <td>4-5</td>\n",
       "    </tr>\n",
       "    <tr>\n",
       "      <th>5</th>\n",
       "      <td>Harry Potter and the Prisoner of Azkaban (Harr...</td>\n",
       "      <td>J.K. Rowling/Mary GrandPré</td>\n",
       "      <td>4.56</td>\n",
       "      <td>043965548X</td>\n",
       "      <td>9.780000e+12</td>\n",
       "      <td>eng</td>\n",
       "      <td>435</td>\n",
       "      <td>2339585</td>\n",
       "      <td>36325</td>\n",
       "      <td>05/01/2004</td>\n",
       "      <td>Scholastic Inc.</td>\n",
       "      <td>4-5</td>\n",
       "    </tr>\n",
       "    <tr>\n",
       "      <th>8</th>\n",
       "      <td>Harry Potter Boxed Set  Books 1-5 (Harry Potte...</td>\n",
       "      <td>J.K. Rowling/Mary GrandPré</td>\n",
       "      <td>4.78</td>\n",
       "      <td>439682584</td>\n",
       "      <td>9.780000e+12</td>\n",
       "      <td>eng</td>\n",
       "      <td>2690</td>\n",
       "      <td>41428</td>\n",
       "      <td>164</td>\n",
       "      <td>9/13/2004</td>\n",
       "      <td>Scholastic</td>\n",
       "      <td>4-5</td>\n",
       "    </tr>\n",
       "    <tr>\n",
       "      <th>...</th>\n",
       "      <td>...</td>\n",
       "      <td>...</td>\n",
       "      <td>...</td>\n",
       "      <td>...</td>\n",
       "      <td>...</td>\n",
       "      <td>...</td>\n",
       "      <td>...</td>\n",
       "      <td>...</td>\n",
       "      <td>...</td>\n",
       "      <td>...</td>\n",
       "      <td>...</td>\n",
       "      <td>...</td>\n",
       "    </tr>\n",
       "    <tr>\n",
       "      <th>44734</th>\n",
       "      <td>Fullmetal Alchemist  Vol. 6 (Fullmetal Alchemi...</td>\n",
       "      <td>Hiromu Arakawa/Akira Watanabe</td>\n",
       "      <td>4.58</td>\n",
       "      <td>1421503190</td>\n",
       "      <td>9.780000e+12</td>\n",
       "      <td>eng</td>\n",
       "      <td>200</td>\n",
       "      <td>10052</td>\n",
       "      <td>201</td>\n",
       "      <td>3/21/2006</td>\n",
       "      <td>VIZ Media LLC</td>\n",
       "      <td>4-5</td>\n",
       "    </tr>\n",
       "    <tr>\n",
       "      <th>44826</th>\n",
       "      <td>The Price of the Ticket: Collected Nonfiction ...</td>\n",
       "      <td>James Baldwin</td>\n",
       "      <td>4.70</td>\n",
       "      <td>312643063</td>\n",
       "      <td>9.780000e+12</td>\n",
       "      <td>eng</td>\n",
       "      <td>712</td>\n",
       "      <td>404</td>\n",
       "      <td>30</td>\n",
       "      <td>9/15/1985</td>\n",
       "      <td>St. Martin's Press</td>\n",
       "      <td>4-5</td>\n",
       "    </tr>\n",
       "    <tr>\n",
       "      <th>44849</th>\n",
       "      <td>Code Check Electrical: An Illustrated Guide to...</td>\n",
       "      <td>Michael      Casey/Redwood Kardon/Douglas Hansen</td>\n",
       "      <td>4.67</td>\n",
       "      <td>1561587389</td>\n",
       "      <td>9.780000e+12</td>\n",
       "      <td>eng</td>\n",
       "      <td>29</td>\n",
       "      <td>3</td>\n",
       "      <td>0</td>\n",
       "      <td>11/11/2005</td>\n",
       "      <td>Taunton Press</td>\n",
       "      <td>4-5</td>\n",
       "    </tr>\n",
       "    <tr>\n",
       "      <th>44972</th>\n",
       "      <td>Bob Marley - Songs of Freedom</td>\n",
       "      <td>Bob Marley</td>\n",
       "      <td>4.48</td>\n",
       "      <td>793536693</td>\n",
       "      <td>9.780000e+12</td>\n",
       "      <td>eng</td>\n",
       "      <td>200</td>\n",
       "      <td>16</td>\n",
       "      <td>1</td>\n",
       "      <td>12/01/1995</td>\n",
       "      <td>Hal Leonard Publishing Corporation</td>\n",
       "      <td>4-5</td>\n",
       "    </tr>\n",
       "    <tr>\n",
       "      <th>45161</th>\n",
       "      <td>The Roald Dahl Audio Collection</td>\n",
       "      <td>Roald Dahl</td>\n",
       "      <td>4.41</td>\n",
       "      <td>61214965</td>\n",
       "      <td>9.780000e+12</td>\n",
       "      <td>eng</td>\n",
       "      <td>4</td>\n",
       "      <td>199</td>\n",
       "      <td>36</td>\n",
       "      <td>2/20/2007</td>\n",
       "      <td>HarperCollins Publishers</td>\n",
       "      <td>4-5</td>\n",
       "    </tr>\n",
       "  </tbody>\n",
       "</table>\n",
       "<p>504 rows × 12 columns</p>\n",
       "</div>"
      ],
      "text/plain": [
       "                                                    title  \\\n",
       "bookID                                                      \n",
       "1       Harry Potter and the Half-Blood Prince (Harry ...   \n",
       "2       Harry Potter and the Order of the Phoenix (Har...   \n",
       "4       Harry Potter and the Chamber of Secrets (Harry...   \n",
       "5       Harry Potter and the Prisoner of Azkaban (Harr...   \n",
       "8       Harry Potter Boxed Set  Books 1-5 (Harry Potte...   \n",
       "...                                                   ...   \n",
       "44734   Fullmetal Alchemist  Vol. 6 (Fullmetal Alchemi...   \n",
       "44826   The Price of the Ticket: Collected Nonfiction ...   \n",
       "44849   Code Check Electrical: An Illustrated Guide to...   \n",
       "44972                       Bob Marley - Songs of Freedom   \n",
       "45161                     The Roald Dahl Audio Collection   \n",
       "\n",
       "                                                 authors  average_rating  \\\n",
       "bookID                                                                     \n",
       "1                             J.K. Rowling/Mary GrandPré            4.57   \n",
       "2                             J.K. Rowling/Mary GrandPré            4.49   \n",
       "4                                           J.K. Rowling            4.42   \n",
       "5                             J.K. Rowling/Mary GrandPré            4.56   \n",
       "8                             J.K. Rowling/Mary GrandPré            4.78   \n",
       "...                                                  ...             ...   \n",
       "44734                      Hiromu Arakawa/Akira Watanabe            4.58   \n",
       "44826                                      James Baldwin            4.70   \n",
       "44849   Michael      Casey/Redwood Kardon/Douglas Hansen            4.67   \n",
       "44972                                         Bob Marley            4.48   \n",
       "45161                                         Roald Dahl            4.41   \n",
       "\n",
       "              isbn        isbn13 language_code  num_pages  ratings_count  \\\n",
       "bookID                                                                     \n",
       "1        439785960  9.780000e+12           eng        652        2095690   \n",
       "2        439358078  9.780000e+12           eng        870        2153167   \n",
       "4        439554896  9.780000e+12           eng        352           6333   \n",
       "5       043965548X  9.780000e+12           eng        435        2339585   \n",
       "8        439682584  9.780000e+12           eng       2690          41428   \n",
       "...            ...           ...           ...        ...            ...   \n",
       "44734   1421503190  9.780000e+12           eng        200          10052   \n",
       "44826    312643063  9.780000e+12           eng        712            404   \n",
       "44849   1561587389  9.780000e+12           eng         29              3   \n",
       "44972    793536693  9.780000e+12           eng        200             16   \n",
       "45161     61214965  9.780000e+12           eng          4            199   \n",
       "\n",
       "        text_reviews_count publication_date  \\\n",
       "bookID                                        \n",
       "1                    27591        9/16/2006   \n",
       "2                    29221       09/01/2004   \n",
       "4                      244       11/01/2003   \n",
       "5                    36325       05/01/2004   \n",
       "8                      164        9/13/2004   \n",
       "...                    ...              ...   \n",
       "44734                  201        3/21/2006   \n",
       "44826                   30        9/15/1985   \n",
       "44849                    0       11/11/2005   \n",
       "44972                    1       12/01/1995   \n",
       "45161                   36        2/20/2007   \n",
       "\n",
       "                                 publisher cat_rating  \n",
       "bookID                                                 \n",
       "1                          Scholastic Inc.        4-5  \n",
       "2                          Scholastic Inc.        4-5  \n",
       "4                               Scholastic        4-5  \n",
       "5                          Scholastic Inc.        4-5  \n",
       "8                               Scholastic        4-5  \n",
       "...                                    ...        ...  \n",
       "44734                        VIZ Media LLC        4-5  \n",
       "44826                   St. Martin's Press        4-5  \n",
       "44849                        Taunton Press        4-5  \n",
       "44972   Hal Leonard Publishing Corporation        4-5  \n",
       "45161             HarperCollins Publishers        4-5  \n",
       "\n",
       "[504 rows x 12 columns]"
      ]
     },
     "execution_count": 21,
     "metadata": {},
     "output_type": "execute_result"
    }
   ],
   "source": [
    "# Move to exploratory part \n",
    "high_rated_author = df[df['average_rating']>=4.4]\n",
    "high_rated_author"
   ]
  },
  {
   "cell_type": "markdown",
   "id": "68bc5962",
   "metadata": {},
   "source": [
    "The same title has the same avg rating but all other columns are different \n"
   ]
  },
  {
   "cell_type": "code",
   "execution_count": 14,
   "id": "7566993a",
   "metadata": {
    "ExecuteTime": {
     "end_time": "2023-01-30T17:37:11.298939Z",
     "start_time": "2023-01-30T17:37:11.261442Z"
    }
   },
   "outputs": [
    {
     "data": {
      "text/html": [
       "<div>\n",
       "<style scoped>\n",
       "    .dataframe tbody tr th:only-of-type {\n",
       "        vertical-align: middle;\n",
       "    }\n",
       "\n",
       "    .dataframe tbody tr th {\n",
       "        vertical-align: top;\n",
       "    }\n",
       "\n",
       "    .dataframe thead th {\n",
       "        text-align: right;\n",
       "    }\n",
       "</style>\n",
       "<table border=\"1\" class=\"dataframe\">\n",
       "  <thead>\n",
       "    <tr style=\"text-align: right;\">\n",
       "      <th></th>\n",
       "      <th>title</th>\n",
       "      <th>authors</th>\n",
       "      <th>average_rating</th>\n",
       "      <th>isbn</th>\n",
       "      <th>isbn13</th>\n",
       "      <th>language_code</th>\n",
       "      <th>num_pages</th>\n",
       "      <th>ratings_count</th>\n",
       "      <th>text_reviews_count</th>\n",
       "      <th>publication_date</th>\n",
       "      <th>publisher</th>\n",
       "      <th>cat_rating</th>\n",
       "    </tr>\n",
       "    <tr>\n",
       "      <th>bookID</th>\n",
       "      <th></th>\n",
       "      <th></th>\n",
       "      <th></th>\n",
       "      <th></th>\n",
       "      <th></th>\n",
       "      <th></th>\n",
       "      <th></th>\n",
       "      <th></th>\n",
       "      <th></th>\n",
       "      <th></th>\n",
       "      <th></th>\n",
       "      <th></th>\n",
       "    </tr>\n",
       "  </thead>\n",
       "  <tbody>\n",
       "    <tr>\n",
       "      <th>1381</th>\n",
       "      <td>The Odyssey</td>\n",
       "      <td>Homer/Robert Fagles/Bernard Knox</td>\n",
       "      <td>3.76</td>\n",
       "      <td>143039954</td>\n",
       "      <td>9.780000e+12</td>\n",
       "      <td>eng</td>\n",
       "      <td>541</td>\n",
       "      <td>760871</td>\n",
       "      <td>6557</td>\n",
       "      <td>11/30/2006</td>\n",
       "      <td>Penguin Classics</td>\n",
       "      <td>3-4</td>\n",
       "    </tr>\n",
       "    <tr>\n",
       "      <th>1382</th>\n",
       "      <td>The Odyssey</td>\n",
       "      <td>Homer/Robert Fitzgerald/D.S. Carne-Ross</td>\n",
       "      <td>3.76</td>\n",
       "      <td>374525749</td>\n",
       "      <td>9.780000e+12</td>\n",
       "      <td>eng</td>\n",
       "      <td>515</td>\n",
       "      <td>1713</td>\n",
       "      <td>179</td>\n",
       "      <td>11/05/1998</td>\n",
       "      <td>Farrar  Straus and Giroux</td>\n",
       "      <td>3-4</td>\n",
       "    </tr>\n",
       "    <tr>\n",
       "      <th>1383</th>\n",
       "      <td>The Odyssey</td>\n",
       "      <td>Homer/Richmond Lattimore</td>\n",
       "      <td>3.76</td>\n",
       "      <td>60931957</td>\n",
       "      <td>9.780000e+12</td>\n",
       "      <td>eng</td>\n",
       "      <td>374</td>\n",
       "      <td>1131</td>\n",
       "      <td>78</td>\n",
       "      <td>06/01/1999</td>\n",
       "      <td>Harper Perennial</td>\n",
       "      <td>3-4</td>\n",
       "    </tr>\n",
       "    <tr>\n",
       "      <th>1384</th>\n",
       "      <td>The Odyssey</td>\n",
       "      <td>Homer/E.V. Rieu/Peter Jones/D.C.H. Rieu</td>\n",
       "      <td>3.76</td>\n",
       "      <td>140449116</td>\n",
       "      <td>9.780000e+12</td>\n",
       "      <td>eng</td>\n",
       "      <td>324</td>\n",
       "      <td>2543</td>\n",
       "      <td>167</td>\n",
       "      <td>1/30/2003</td>\n",
       "      <td>Penguin Classics</td>\n",
       "      <td>3-4</td>\n",
       "    </tr>\n",
       "    <tr>\n",
       "      <th>1387</th>\n",
       "      <td>The Odyssey</td>\n",
       "      <td>Homer/W.H.D. Rouse</td>\n",
       "      <td>3.76</td>\n",
       "      <td>451527364</td>\n",
       "      <td>9.780000e+12</td>\n",
       "      <td>eng</td>\n",
       "      <td>304</td>\n",
       "      <td>262</td>\n",
       "      <td>24</td>\n",
       "      <td>08/01/1999</td>\n",
       "      <td>Signet Classics</td>\n",
       "      <td>3-4</td>\n",
       "    </tr>\n",
       "    <tr>\n",
       "      <th>19282</th>\n",
       "      <td>The Odyssey</td>\n",
       "      <td>Homer/Robert Fitzgerald/Seamus Heaney</td>\n",
       "      <td>3.76</td>\n",
       "      <td>1857150945</td>\n",
       "      <td>9.780000e+12</td>\n",
       "      <td>eng</td>\n",
       "      <td>509</td>\n",
       "      <td>48</td>\n",
       "      <td>3</td>\n",
       "      <td>10/08/1992</td>\n",
       "      <td>Everyman</td>\n",
       "      <td>3-4</td>\n",
       "    </tr>\n",
       "    <tr>\n",
       "      <th>26447</th>\n",
       "      <td>The Odyssey</td>\n",
       "      <td>Homer/Edward McCrorie/Richard P. Martin</td>\n",
       "      <td>3.76</td>\n",
       "      <td>801882672</td>\n",
       "      <td>9.780000e+12</td>\n",
       "      <td>eng</td>\n",
       "      <td>472</td>\n",
       "      <td>57</td>\n",
       "      <td>2</td>\n",
       "      <td>8/23/2005</td>\n",
       "      <td>Johns Hopkins University Press</td>\n",
       "      <td>3-4</td>\n",
       "    </tr>\n",
       "    <tr>\n",
       "      <th>37804</th>\n",
       "      <td>The Odyssey</td>\n",
       "      <td>Homer/George Herbert Palmer</td>\n",
       "      <td>3.76</td>\n",
       "      <td>486406547</td>\n",
       "      <td>9.780000e+12</td>\n",
       "      <td>eng</td>\n",
       "      <td>239</td>\n",
       "      <td>242</td>\n",
       "      <td>25</td>\n",
       "      <td>12/23/1998</td>\n",
       "      <td>Dover Publications</td>\n",
       "      <td>3-4</td>\n",
       "    </tr>\n",
       "  </tbody>\n",
       "</table>\n",
       "</div>"
      ],
      "text/plain": [
       "              title                                  authors  average_rating  \\\n",
       "bookID                                                                         \n",
       "1381    The Odyssey         Homer/Robert Fagles/Bernard Knox            3.76   \n",
       "1382    The Odyssey  Homer/Robert Fitzgerald/D.S. Carne-Ross            3.76   \n",
       "1383    The Odyssey                 Homer/Richmond Lattimore            3.76   \n",
       "1384    The Odyssey  Homer/E.V. Rieu/Peter Jones/D.C.H. Rieu            3.76   \n",
       "1387    The Odyssey                       Homer/W.H.D. Rouse            3.76   \n",
       "19282   The Odyssey    Homer/Robert Fitzgerald/Seamus Heaney            3.76   \n",
       "26447   The Odyssey  Homer/Edward McCrorie/Richard P. Martin            3.76   \n",
       "37804   The Odyssey              Homer/George Herbert Palmer            3.76   \n",
       "\n",
       "              isbn        isbn13 language_code  num_pages  ratings_count  \\\n",
       "bookID                                                                     \n",
       "1381     143039954  9.780000e+12           eng        541         760871   \n",
       "1382     374525749  9.780000e+12           eng        515           1713   \n",
       "1383      60931957  9.780000e+12           eng        374           1131   \n",
       "1384     140449116  9.780000e+12           eng        324           2543   \n",
       "1387     451527364  9.780000e+12           eng        304            262   \n",
       "19282   1857150945  9.780000e+12           eng        509             48   \n",
       "26447    801882672  9.780000e+12           eng        472             57   \n",
       "37804    486406547  9.780000e+12           eng        239            242   \n",
       "\n",
       "        text_reviews_count publication_date                       publisher  \\\n",
       "bookID                                                                        \n",
       "1381                  6557       11/30/2006                Penguin Classics   \n",
       "1382                   179       11/05/1998       Farrar  Straus and Giroux   \n",
       "1383                    78       06/01/1999                Harper Perennial   \n",
       "1384                   167        1/30/2003                Penguin Classics   \n",
       "1387                    24       08/01/1999                 Signet Classics   \n",
       "19282                    3       10/08/1992                        Everyman   \n",
       "26447                    2        8/23/2005  Johns Hopkins University Press   \n",
       "37804                   25       12/23/1998              Dover Publications   \n",
       "\n",
       "       cat_rating  \n",
       "bookID             \n",
       "1381          3-4  \n",
       "1382          3-4  \n",
       "1383          3-4  \n",
       "1384          3-4  \n",
       "1387          3-4  \n",
       "19282         3-4  \n",
       "26447         3-4  \n",
       "37804         3-4  "
      ]
     },
     "execution_count": 14,
     "metadata": {},
     "output_type": "execute_result"
    }
   ],
   "source": [
    "df.loc[df['title'] == \"The Odyssey\"]"
   ]
  },
  {
   "cell_type": "markdown",
   "id": "bc4402da",
   "metadata": {
    "ExecuteTime": {
     "end_time": "2023-01-29T12:49:48.080657Z",
     "start_time": "2023-01-29T12:49:48.072205Z"
    }
   },
   "source": [
    "## 10 Most published authors "
   ]
  },
  {
   "cell_type": "code",
   "execution_count": 15,
   "id": "a628df52",
   "metadata": {
    "ExecuteTime": {
     "end_time": "2023-01-30T17:37:11.742016Z",
     "start_time": "2023-01-30T17:37:11.300301Z"
    }
   },
   "outputs": [
    {
     "data": {
      "text/plain": [
       "<AxesSubplot:xlabel='authors'>"
      ]
     },
     "execution_count": 15,
     "metadata": {},
     "output_type": "execute_result"
    },
    {
     "data": {
      "image/png": "[encoded data removed]",
      "text/plain": [
       "<Figure size 432x288 with 1 Axes>"
      ]
     },
     "metadata": {
      "needs_background": "light"
     },
     "output_type": "display_data"
    }
   ],
   "source": [
    "count_authors = df['authors'].value_counts().head(10)\n",
    "count_authors\n",
    "sns.barplot(x = count_authors, y = count_authors.index)"
   ]
  },
  {
   "cell_type": "markdown",
   "id": "6bc929e3",
   "metadata": {},
   "source": [
    "## TOP 10 publisher (before and after)"
   ]
  },
  {
   "cell_type": "code",
   "execution_count": 16,
   "id": "b7786dbf",
   "metadata": {
    "ExecuteTime": {
     "end_time": "2023-01-30T17:37:11.769486Z",
     "start_time": "2023-01-30T17:37:11.744247Z"
    },
    "scrolled": true
   },
   "outputs": [
    {
     "ename": "AttributeError",
     "evalue": "'DataFrame' object has no attribute 'publisher_iso'",
     "output_type": "error",
     "traceback": [
      "\u001b[1;31m---------------------------------------------------------------------------\u001b[0m",
      "\u001b[1;31mAttributeError\u001b[0m                            Traceback (most recent call last)",
      "Input \u001b[1;32mIn [16]\u001b[0m, in \u001b[0;36m<cell line: 1>\u001b[1;34m()\u001b[0m\n\u001b[1;32m----> 1\u001b[0m \u001b[43mdf\u001b[49m\u001b[38;5;241;43m.\u001b[39;49m\u001b[43mpublisher_iso\u001b[49m\u001b[38;5;241m.\u001b[39mvalue_counts()\n",
      "File \u001b[1;32m~\\anaconda3\\lib\\site-packages\\pandas\\core\\generic.py:5575\u001b[0m, in \u001b[0;36mNDFrame.__getattr__\u001b[1;34m(self, name)\u001b[0m\n\u001b[0;32m   5568\u001b[0m \u001b[38;5;28;01mif\u001b[39;00m (\n\u001b[0;32m   5569\u001b[0m     name \u001b[38;5;129;01mnot\u001b[39;00m \u001b[38;5;129;01min\u001b[39;00m \u001b[38;5;28mself\u001b[39m\u001b[38;5;241m.\u001b[39m_internal_names_set\n\u001b[0;32m   5570\u001b[0m     \u001b[38;5;129;01mand\u001b[39;00m name \u001b[38;5;129;01mnot\u001b[39;00m \u001b[38;5;129;01min\u001b[39;00m \u001b[38;5;28mself\u001b[39m\u001b[38;5;241m.\u001b[39m_metadata\n\u001b[0;32m   5571\u001b[0m     \u001b[38;5;129;01mand\u001b[39;00m name \u001b[38;5;129;01mnot\u001b[39;00m \u001b[38;5;129;01min\u001b[39;00m \u001b[38;5;28mself\u001b[39m\u001b[38;5;241m.\u001b[39m_accessors\n\u001b[0;32m   5572\u001b[0m     \u001b[38;5;129;01mand\u001b[39;00m \u001b[38;5;28mself\u001b[39m\u001b[38;5;241m.\u001b[39m_info_axis\u001b[38;5;241m.\u001b[39m_can_hold_identifiers_and_holds_name(name)\n\u001b[0;32m   5573\u001b[0m ):\n\u001b[0;32m   5574\u001b[0m     \u001b[38;5;28;01mreturn\u001b[39;00m \u001b[38;5;28mself\u001b[39m[name]\n\u001b[1;32m-> 5575\u001b[0m \u001b[38;5;28;01mreturn\u001b[39;00m \u001b[38;5;28;43mobject\u001b[39;49m\u001b[38;5;241;43m.\u001b[39;49m\u001b[38;5;21;43m__getattribute__\u001b[39;49m\u001b[43m(\u001b[49m\u001b[38;5;28;43mself\u001b[39;49m\u001b[43m,\u001b[49m\u001b[43m \u001b[49m\u001b[43mname\u001b[49m\u001b[43m)\u001b[49m\n",
      "\u001b[1;31mAttributeError\u001b[0m: 'DataFrame' object has no attribute 'publisher_iso'"
     ]
    }
   ],
   "source": [
    "df.publisher_iso.value_counts()"
   ]
  },
  {
   "cell_type": "code",
   "execution_count": null,
   "id": "8fff0af6",
   "metadata": {
    "ExecuteTime": {
     "end_time": "2023-01-30T17:37:12.166058Z",
     "start_time": "2023-01-30T17:37:11.771993Z"
    }
   },
   "outputs": [],
   "source": [
    "count_publisher = df['publisher'].value_counts().head(10)\n",
    "sns.barplot(x = count_publisher, y = count_publisher.index)"
   ]
  },
  {
   "cell_type": "code",
   "execution_count": null,
   "id": "920469db",
   "metadata": {
    "ExecuteTime": {
     "end_time": "2023-01-30T17:37:12.535800Z",
     "start_time": "2023-01-30T17:37:12.168971Z"
    }
   },
   "outputs": [],
   "source": [
    "count_publisher_iso = df['publisher_iso'].value_counts().head(10)\n",
    "sns.barplot(x = count_publisher_iso, y = count_publisher.index)"
   ]
  },
  {
   "cell_type": "markdown",
   "id": "a17ab01f",
   "metadata": {
    "ExecuteTime": {
     "end_time": "2023-01-29T12:54:10.099556Z",
     "start_time": "2023-01-29T12:54:10.088456Z"
    }
   },
   "source": [
    "## TOP 5 Languages"
   ]
  },
  {
   "cell_type": "code",
   "execution_count": null,
   "id": "ed350d07",
   "metadata": {
    "ExecuteTime": {
     "end_time": "2023-01-30T17:37:13.061680Z",
     "start_time": "2023-01-30T17:37:12.540665Z"
    }
   },
   "outputs": [],
   "source": [
    "df['language_code'].value_counts().head(5).plot(kind = 'pie', autopct='%1.1f%%', figsize=(8, 8)).legend()"
   ]
  },
  {
   "cell_type": "markdown",
   "id": "e606a7b3",
   "metadata": {},
   "source": [
    "## Count per series (same title)"
   ]
  },
  {
   "cell_type": "code",
   "execution_count": null,
   "id": "16316a9b",
   "metadata": {
    "ExecuteTime": {
     "end_time": "2023-01-30T17:37:13.430122Z",
     "start_time": "2023-01-30T17:37:13.065116Z"
    }
   },
   "outputs": [],
   "source": [
    "count_title = df.title.value_counts()[:10]\n",
    "sns.barplot(x = count_title, y = count_title.index)"
   ]
  },
  {
   "cell_type": "markdown",
   "id": "90bcd653",
   "metadata": {},
   "source": [
    "## Outliers"
   ]
  },
  {
   "cell_type": "code",
   "execution_count": null,
   "id": "e5da13fb",
   "metadata": {
    "ExecuteTime": {
     "end_time": "2023-01-30T17:37:16.556182Z",
     "start_time": "2023-01-30T17:37:13.431921Z"
    },
    "scrolled": true
   },
   "outputs": [],
   "source": [
    "#Checking for Outliers columns: num_pages, Text Reviews Count, ratings_count\n",
    "#num_pages Violin Plot \n",
    "fig = px.violin(df.num_pages, y=\"num_pages\")\n",
    "fig.show()\n",
    "\n",
    "#Text Reviews Count Violin Plot \n",
    "fig2 = px.violin(df.text_reviews_count, y=\"text_reviews_count\")\n",
    "fig2.show()\n",
    "\n",
    "#Ratings Count(in million) Violin Plot \n",
    "fig3 = px.violin(df.ratings_count, y=\"ratings_count\")\n",
    "fig3.show()"
   ]
  },
  {
   "cell_type": "markdown",
   "id": "b09807e3",
   "metadata": {},
   "source": [
    "# Correlation"
   ]
  },
  {
   "cell_type": "markdown",
   "id": "63035e33",
   "metadata": {},
   "source": [
    "## Average Rating (>=4.4) //  10 authors"
   ]
  },
  {
   "cell_type": "code",
   "execution_count": null,
   "id": "66c4994c",
   "metadata": {},
   "outputs": [],
   "source": [
    "df.groupby('authors')['title'].count().reset_index().sort_values('title', ascending = False).head(10).set_index('authors')"
   ]
  },
  {
   "cell_type": "code",
   "execution_count": null,
   "id": "8d17b572",
   "metadata": {
    "ExecuteTime": {
     "end_time": "2023-01-30T17:37:17.035815Z",
     "start_time": "2023-01-30T17:37:16.558411Z"
    }
   },
   "outputs": [],
   "source": [
    "high_rated_title = df[df['average_rating']>=4.4]\n",
    "high_rated_author = high_rated_title.groupby('authors')['title'].count().reset_index().sort_values('title', ascending = False).head(10).set_index('authors')\n",
    "plt.figure(figsize=(15,10))\n",
    "ax = sns.barplot(high_rated_author['title'], high_rated_author.index, palette='Set2')\n",
    "ax.set_xlabel(\"Number of Books Average rating > 4.4\")\n",
    "ax.set_ylabel(\"Authors\")\n"
   ]
  },
  {
   "cell_type": "markdown",
   "id": "3e31d5fa",
   "metadata": {},
   "source": [
    "## Average Rating (>=4.4) // publisher "
   ]
  },
  {
   "cell_type": "code",
   "execution_count": null,
   "id": "cd16676d",
   "metadata": {
    "ExecuteTime": {
     "end_time": "2023-01-30T17:37:17.484545Z",
     "start_time": "2023-01-30T17:37:17.043015Z"
    }
   },
   "outputs": [],
   "source": [
    "high_rated_title = df[df['average_rating']>=4.4]\n",
    "high_rated_publisher = high_rated_title.groupby('publisher_iso')['title'].count().reset_index().sort_values('title', ascending = False).head(10).set_index('publisher_iso')\n",
    "plt.figure(figsize=(15,10))\n",
    "ax = sns.barplot(high_rated_publisher['title'], high_rated_publisher.index, palette='Set2')\n",
    "ax.set_xlabel(\"Number of Books Average rating > 4.4\")\n",
    "ax.set_ylabel(\"Publisher\")"
   ]
  },
  {
   "cell_type": "markdown",
   "id": "2447fb70",
   "metadata": {},
   "source": [
    "***\n",
    "**MOVE TO EDA** (below)"
   ]
  },
  {
   "cell_type": "code",
   "execution_count": null,
   "id": "d55bfe22",
   "metadata": {
    "ExecuteTime": {
     "end_time": "2023-01-30T17:37:59.985303Z",
     "start_time": "2023-01-30T17:37:17.488527Z"
    },
    "scrolled": true
   },
   "outputs": [],
   "source": [
    "### Average Rating // number of pages\n",
    "ax1 = sns.jointplot(x=\"average_rating\", y=\"num_pages\", data = df, color = 'crimson')\n",
    "ax1.set_axis_labels(\"Average Rating\", \"Number of Pages\")\n",
    "\n",
    "#Average Rating // Text Review Count\n",
    "ax2 = sns.jointplot(x=\"average_rating\", y=\"text_reviews_count\", data = df, color = 'orange')\n",
    "ax2.set_axis_labels(\"Average Rating\", \"Text review Count\")\n",
    "\n",
    "#Average Rating // Reviews Count\n",
    "ax2 = sns.jointplot(x=\"average_rating\", y=\"ratings_count\", data = df, color = 'violet')\n",
    "ax2.set_axis_labels(\"Average Rating\", \"Ratings Count\")\n",
    "\n",
    "\n",
    "#plt.show()"
   ]
  },
  {
   "cell_type": "markdown",
   "id": "d26def1d",
   "metadata": {},
   "source": [
    "## Average Rating // languages"
   ]
  },
  {
   "cell_type": "code",
   "execution_count": null,
   "id": "70bd9dec",
   "metadata": {
    "ExecuteTime": {
     "end_time": "2023-01-30T17:38:00.042564Z",
     "start_time": "2023-01-30T17:37:59.988597Z"
    }
   },
   "outputs": [],
   "source": [
    "df.groupby('language_code')['average_rating'].agg(['mean','count'])"
   ]
  },
  {
   "cell_type": "markdown",
   "id": "f3f38fa4",
   "metadata": {},
   "source": [
    "# Feature Engineering:\n",
    "- Delete Unnecessary columns \n",
    "- Filling missing values \n",
    "- Dropping outliers for columns: num_pages, ratings count, Text review Count"
   ]
  },
  {
   "cell_type": "code",
   "execution_count": 22,
   "id": "ddb4c45c",
   "metadata": {
    "ExecuteTime": {
     "end_time": "2023-01-30T17:38:00.068527Z",
     "start_time": "2023-01-30T17:38:00.044295Z"
    }
   },
   "outputs": [],
   "source": [
    "#Renaming '  num_pages' in order to remove the extra spaces and displaying columns names\n",
    "df.rename(columns={'  num_pages':'num_pages'}, inplace=True)"
   ]
  },
  {
   "cell_type": "code",
   "execution_count": 23,
   "id": "d58c8325",
   "metadata": {
    "ExecuteTime": {
     "end_time": "2023-01-30T17:38:00.091281Z",
     "start_time": "2023-01-30T17:38:00.073047Z"
    }
   },
   "outputs": [],
   "source": [
    "#Dropping useless columns: isbn and isbn13\n",
    "df = df.drop(columns = ['isbn','isbn13'])"
   ]
  },
  {
   "cell_type": "code",
   "execution_count": 24,
   "id": "1d06a1ba",
   "metadata": {},
   "outputs": [],
   "source": [
    "#Dropping Authors = \"NOT A BOOK\"\n",
    "#df = df.drop(df[df.authors == \"NOT A BOOK\"].index)\n",
    "#df[df.authors == 'NOT A BOOK']\n",
    "\n",
    "#NOT A BOOK are audio book so keep (see part on PAGES)"
   ]
  },
  {
   "cell_type": "code",
   "execution_count": 25,
   "id": "7907f434",
   "metadata": {},
   "outputs": [
    {
     "data": {
      "text/html": [
       "<div>\n",
       "<style scoped>\n",
       "    .dataframe tbody tr th:only-of-type {\n",
       "        vertical-align: middle;\n",
       "    }\n",
       "\n",
       "    .dataframe tbody tr th {\n",
       "        vertical-align: top;\n",
       "    }\n",
       "\n",
       "    .dataframe thead th {\n",
       "        text-align: right;\n",
       "    }\n",
       "</style>\n",
       "<table border=\"1\" class=\"dataframe\">\n",
       "  <thead>\n",
       "    <tr style=\"text-align: right;\">\n",
       "      <th></th>\n",
       "      <th>title</th>\n",
       "      <th>authors</th>\n",
       "      <th>average_rating</th>\n",
       "      <th>language_code</th>\n",
       "      <th>num_pages</th>\n",
       "      <th>ratings_count</th>\n",
       "      <th>text_reviews_count</th>\n",
       "      <th>publication_date</th>\n",
       "      <th>publisher</th>\n",
       "      <th>cat_rating</th>\n",
       "    </tr>\n",
       "    <tr>\n",
       "      <th>bookID</th>\n",
       "      <th></th>\n",
       "      <th></th>\n",
       "      <th></th>\n",
       "      <th></th>\n",
       "      <th></th>\n",
       "      <th></th>\n",
       "      <th></th>\n",
       "      <th></th>\n",
       "      <th></th>\n",
       "      <th></th>\n",
       "    </tr>\n",
       "  </thead>\n",
       "  <tbody>\n",
       "    <tr>\n",
       "      <th>1</th>\n",
       "      <td>Harry Potter and the Half-Blood Prince (Harry ...</td>\n",
       "      <td>J.K. Rowling/Mary GrandPré</td>\n",
       "      <td>4.57</td>\n",
       "      <td>eng</td>\n",
       "      <td>652</td>\n",
       "      <td>2095690</td>\n",
       "      <td>27591</td>\n",
       "      <td>9/16/2006</td>\n",
       "      <td>Scholastic Inc.</td>\n",
       "      <td>4-5</td>\n",
       "    </tr>\n",
       "    <tr>\n",
       "      <th>2</th>\n",
       "      <td>Harry Potter and the Order of the Phoenix (Har...</td>\n",
       "      <td>J.K. Rowling/Mary GrandPré</td>\n",
       "      <td>4.49</td>\n",
       "      <td>eng</td>\n",
       "      <td>870</td>\n",
       "      <td>2153167</td>\n",
       "      <td>29221</td>\n",
       "      <td>09/01/2004</td>\n",
       "      <td>Scholastic Inc.</td>\n",
       "      <td>4-5</td>\n",
       "    </tr>\n",
       "  </tbody>\n",
       "</table>\n",
       "</div>"
      ],
      "text/plain": [
       "                                                    title  \\\n",
       "bookID                                                      \n",
       "1       Harry Potter and the Half-Blood Prince (Harry ...   \n",
       "2       Harry Potter and the Order of the Phoenix (Har...   \n",
       "\n",
       "                           authors  average_rating language_code  num_pages  \\\n",
       "bookID                                                                        \n",
       "1       J.K. Rowling/Mary GrandPré            4.57           eng        652   \n",
       "2       J.K. Rowling/Mary GrandPré            4.49           eng        870   \n",
       "\n",
       "        ratings_count  text_reviews_count publication_date        publisher  \\\n",
       "bookID                                                                        \n",
       "1             2095690               27591        9/16/2006  Scholastic Inc.   \n",
       "2             2153167               29221       09/01/2004  Scholastic Inc.   \n",
       "\n",
       "       cat_rating  \n",
       "bookID             \n",
       "1             4-5  \n",
       "2             4-5  "
      ]
     },
     "execution_count": 25,
     "metadata": {},
     "output_type": "execute_result"
    }
   ],
   "source": [
    "df.head(2)"
   ]
  },
  {
   "cell_type": "markdown",
   "id": "b7217b0d",
   "metadata": {},
   "source": [
    "## Title"
   ]
  },
  {
   "cell_type": "markdown",
   "id": "083b6740",
   "metadata": {},
   "source": [
    "## Authors"
   ]
  },
  {
   "cell_type": "code",
   "execution_count": 26,
   "id": "edd0187a",
   "metadata": {},
   "outputs": [
    {
     "data": {
      "text/html": [
       "<div>\n",
       "<style scoped>\n",
       "    .dataframe tbody tr th:only-of-type {\n",
       "        vertical-align: middle;\n",
       "    }\n",
       "\n",
       "    .dataframe tbody tr th {\n",
       "        vertical-align: top;\n",
       "    }\n",
       "\n",
       "    .dataframe thead th {\n",
       "        text-align: right;\n",
       "    }\n",
       "</style>\n",
       "<table border=\"1\" class=\"dataframe\">\n",
       "  <thead>\n",
       "    <tr style=\"text-align: right;\">\n",
       "      <th></th>\n",
       "      <th>title</th>\n",
       "      <th>authors</th>\n",
       "      <th>average_rating</th>\n",
       "      <th>language_code</th>\n",
       "      <th>num_pages</th>\n",
       "      <th>ratings_count</th>\n",
       "      <th>text_reviews_count</th>\n",
       "      <th>publication_date</th>\n",
       "      <th>publisher</th>\n",
       "      <th>cat_rating</th>\n",
       "      <th>number_of_authors</th>\n",
       "      <th>primary_author</th>\n",
       "    </tr>\n",
       "    <tr>\n",
       "      <th>bookID</th>\n",
       "      <th></th>\n",
       "      <th></th>\n",
       "      <th></th>\n",
       "      <th></th>\n",
       "      <th></th>\n",
       "      <th></th>\n",
       "      <th></th>\n",
       "      <th></th>\n",
       "      <th></th>\n",
       "      <th></th>\n",
       "      <th></th>\n",
       "      <th></th>\n",
       "    </tr>\n",
       "  </thead>\n",
       "  <tbody>\n",
       "    <tr>\n",
       "      <th>1</th>\n",
       "      <td>Harry Potter and the Half-Blood Prince (Harry ...</td>\n",
       "      <td>J.K. Rowling/Mary GrandPré</td>\n",
       "      <td>4.57</td>\n",
       "      <td>eng</td>\n",
       "      <td>652</td>\n",
       "      <td>2095690</td>\n",
       "      <td>27591</td>\n",
       "      <td>9/16/2006</td>\n",
       "      <td>Scholastic Inc.</td>\n",
       "      <td>4-5</td>\n",
       "      <td>multiple</td>\n",
       "      <td>J.K. Rowling</td>\n",
       "    </tr>\n",
       "    <tr>\n",
       "      <th>2</th>\n",
       "      <td>Harry Potter and the Order of the Phoenix (Har...</td>\n",
       "      <td>J.K. Rowling/Mary GrandPré</td>\n",
       "      <td>4.49</td>\n",
       "      <td>eng</td>\n",
       "      <td>870</td>\n",
       "      <td>2153167</td>\n",
       "      <td>29221</td>\n",
       "      <td>09/01/2004</td>\n",
       "      <td>Scholastic Inc.</td>\n",
       "      <td>4-5</td>\n",
       "      <td>multiple</td>\n",
       "      <td>J.K. Rowling</td>\n",
       "    </tr>\n",
       "    <tr>\n",
       "      <th>4</th>\n",
       "      <td>Harry Potter and the Chamber of Secrets (Harry...</td>\n",
       "      <td>J.K. Rowling</td>\n",
       "      <td>4.42</td>\n",
       "      <td>eng</td>\n",
       "      <td>352</td>\n",
       "      <td>6333</td>\n",
       "      <td>244</td>\n",
       "      <td>11/01/2003</td>\n",
       "      <td>Scholastic</td>\n",
       "      <td>4-5</td>\n",
       "      <td>single</td>\n",
       "      <td>J.K. Rowling</td>\n",
       "    </tr>\n",
       "  </tbody>\n",
       "</table>\n",
       "</div>"
      ],
      "text/plain": [
       "                                                    title  \\\n",
       "bookID                                                      \n",
       "1       Harry Potter and the Half-Blood Prince (Harry ...   \n",
       "2       Harry Potter and the Order of the Phoenix (Har...   \n",
       "4       Harry Potter and the Chamber of Secrets (Harry...   \n",
       "\n",
       "                           authors  average_rating language_code  num_pages  \\\n",
       "bookID                                                                        \n",
       "1       J.K. Rowling/Mary GrandPré            4.57           eng        652   \n",
       "2       J.K. Rowling/Mary GrandPré            4.49           eng        870   \n",
       "4                     J.K. Rowling            4.42           eng        352   \n",
       "\n",
       "        ratings_count  text_reviews_count publication_date        publisher  \\\n",
       "bookID                                                                        \n",
       "1             2095690               27591        9/16/2006  Scholastic Inc.   \n",
       "2             2153167               29221       09/01/2004  Scholastic Inc.   \n",
       "4                6333                 244       11/01/2003       Scholastic   \n",
       "\n",
       "       cat_rating number_of_authors primary_author  \n",
       "bookID                                              \n",
       "1             4-5          multiple   J.K. Rowling  \n",
       "2             4-5          multiple   J.K. Rowling  \n",
       "4             4-5            single   J.K. Rowling  "
      ]
     },
     "execution_count": 26,
     "metadata": {},
     "output_type": "execute_result"
    }
   ],
   "source": [
    "# single author vs multiple authors -> new column \"Authors_2\" = Single/Multiple -> boolean\n",
    "df['number_of_authors']=np.where(df['authors'].str.split(pat=\"/\").str.len()==1, \"single\", \"multiple\")\n",
    "\n",
    "#keep 1st author in case of multiple authors and analyze correlation\n",
    "df['primary_author']=df['authors'].str.split(pat=\"/\").str[0]\n",
    "\n",
    "df.head(3)"
   ]
  },
  {
   "cell_type": "code",
   "execution_count": 27,
   "id": "e664e0c2",
   "metadata": {
    "scrolled": true
   },
   "outputs": [
    {
     "data": {
      "text/html": [
       "<div>\n",
       "<style scoped>\n",
       "    .dataframe tbody tr th:only-of-type {\n",
       "        vertical-align: middle;\n",
       "    }\n",
       "\n",
       "    .dataframe tbody tr th {\n",
       "        vertical-align: top;\n",
       "    }\n",
       "\n",
       "    .dataframe thead th {\n",
       "        text-align: right;\n",
       "    }\n",
       "</style>\n",
       "<table border=\"1\" class=\"dataframe\">\n",
       "  <thead>\n",
       "    <tr style=\"text-align: right;\">\n",
       "      <th></th>\n",
       "      <th>count</th>\n",
       "      <th>mean</th>\n",
       "      <th>std</th>\n",
       "      <th>min</th>\n",
       "      <th>25%</th>\n",
       "      <th>50%</th>\n",
       "      <th>75%</th>\n",
       "      <th>max</th>\n",
       "    </tr>\n",
       "    <tr>\n",
       "      <th>number_of_authors</th>\n",
       "      <th></th>\n",
       "      <th></th>\n",
       "      <th></th>\n",
       "      <th></th>\n",
       "      <th></th>\n",
       "      <th></th>\n",
       "      <th></th>\n",
       "      <th></th>\n",
       "    </tr>\n",
       "  </thead>\n",
       "  <tbody>\n",
       "    <tr>\n",
       "      <th>multiple</th>\n",
       "      <td>4564.0</td>\n",
       "      <td>3.964963</td>\n",
       "      <td>0.357029</td>\n",
       "      <td>0.0</td>\n",
       "      <td>3.8075</td>\n",
       "      <td>3.99</td>\n",
       "      <td>4.17</td>\n",
       "      <td>5.0</td>\n",
       "    </tr>\n",
       "    <tr>\n",
       "      <th>single</th>\n",
       "      <td>6563.0</td>\n",
       "      <td>3.911842</td>\n",
       "      <td>0.347588</td>\n",
       "      <td>0.0</td>\n",
       "      <td>3.7500</td>\n",
       "      <td>3.94</td>\n",
       "      <td>4.11</td>\n",
       "      <td>5.0</td>\n",
       "    </tr>\n",
       "  </tbody>\n",
       "</table>\n",
       "</div>"
      ],
      "text/plain": [
       "                    count      mean       std  min     25%   50%   75%  max\n",
       "number_of_authors                                                          \n",
       "multiple           4564.0  3.964963  0.357029  0.0  3.8075  3.99  4.17  5.0\n",
       "single             6563.0  3.911842  0.347588  0.0  3.7500  3.94  4.11  5.0"
      ]
     },
     "execution_count": 27,
     "metadata": {},
     "output_type": "execute_result"
    }
   ],
   "source": [
    "df.groupby([\"number_of_authors\"]).describe().average_rating"
   ]
  },
  {
   "cell_type": "code",
   "execution_count": 28,
   "id": "fd17a3d4",
   "metadata": {},
   "outputs": [
    {
     "data": {
      "text/html": [
       "<div>\n",
       "<style scoped>\n",
       "    .dataframe tbody tr th:only-of-type {\n",
       "        vertical-align: middle;\n",
       "    }\n",
       "\n",
       "    .dataframe tbody tr th {\n",
       "        vertical-align: top;\n",
       "    }\n",
       "\n",
       "    .dataframe thead th {\n",
       "        text-align: right;\n",
       "    }\n",
       "</style>\n",
       "<table border=\"1\" class=\"dataframe\">\n",
       "  <thead>\n",
       "    <tr style=\"text-align: right;\">\n",
       "      <th></th>\n",
       "      <th>count</th>\n",
       "      <th>mean</th>\n",
       "      <th>std</th>\n",
       "      <th>min</th>\n",
       "      <th>25%</th>\n",
       "      <th>50%</th>\n",
       "      <th>75%</th>\n",
       "      <th>max</th>\n",
       "    </tr>\n",
       "    <tr>\n",
       "      <th>number_of_authors</th>\n",
       "      <th></th>\n",
       "      <th></th>\n",
       "      <th></th>\n",
       "      <th></th>\n",
       "      <th></th>\n",
       "      <th></th>\n",
       "      <th></th>\n",
       "      <th></th>\n",
       "    </tr>\n",
       "  </thead>\n",
       "  <tbody>\n",
       "    <tr>\n",
       "      <th>multiple</th>\n",
       "      <td>4564.0</td>\n",
       "      <td>13947.581288</td>\n",
       "      <td>101337.197228</td>\n",
       "      <td>0.0</td>\n",
       "      <td>70.0</td>\n",
       "      <td>400.0</td>\n",
       "      <td>2563.75</td>\n",
       "      <td>2339585.0</td>\n",
       "    </tr>\n",
       "    <tr>\n",
       "      <th>single</th>\n",
       "      <td>6563.0</td>\n",
       "      <td>20710.294530</td>\n",
       "      <td>119546.777221</td>\n",
       "      <td>0.0</td>\n",
       "      <td>161.5</td>\n",
       "      <td>1193.0</td>\n",
       "      <td>7209.00</td>\n",
       "      <td>4597666.0</td>\n",
       "    </tr>\n",
       "  </tbody>\n",
       "</table>\n",
       "</div>"
      ],
      "text/plain": [
       "                    count          mean            std  min    25%     50%  \\\n",
       "number_of_authors                                                            \n",
       "multiple           4564.0  13947.581288  101337.197228  0.0   70.0   400.0   \n",
       "single             6563.0  20710.294530  119546.777221  0.0  161.5  1193.0   \n",
       "\n",
       "                       75%        max  \n",
       "number_of_authors                      \n",
       "multiple           2563.75  2339585.0  \n",
       "single             7209.00  4597666.0  "
      ]
     },
     "execution_count": 28,
     "metadata": {},
     "output_type": "execute_result"
    }
   ],
   "source": [
    "df.groupby([\"number_of_authors\"]).describe().ratings_count"
   ]
  },
  {
   "cell_type": "markdown",
   "id": "447f0e85",
   "metadata": {},
   "source": [
    "***\n",
    "Number of books an pages per authors and average rating"
   ]
  },
  {
   "cell_type": "code",
   "execution_count": null,
   "id": "cdf3e9ed",
   "metadata": {},
   "outputs": [],
   "source": [
    "author=df.groupby('primary_author').agg({'average_rating':['count','mean'], 'num_pages':['mean']})\n",
    "author.columns = [\" \".join(x) for x in author.columns.ravel()]\n",
    "author"
   ]
  },
  {
   "cell_type": "code",
   "execution_count": null,
   "id": "18fe9648",
   "metadata": {},
   "outputs": [],
   "source": [
    "ax3 = sns.jointplot(y=\"average_rating count\", x=\"average_rating mean\", data = author, color = 'violet')\n",
    "ax4 = sns.jointplot(y=\"num_pages mean\", x=\"average_rating mean\", data = author, color = 'green')\n",
    "\n",
    "plt.show()"
   ]
  },
  {
   "cell_type": "code",
   "execution_count": 27,
   "id": "fce461df",
   "metadata": {
    "collapsed": true
   },
   "outputs": [
    {
     "data": {
      "text/html": [
       "<div>\n",
       "<style scoped>\n",
       "    .dataframe tbody tr th:only-of-type {\n",
       "        vertical-align: middle;\n",
       "    }\n",
       "\n",
       "    .dataframe tbody tr th {\n",
       "        vertical-align: top;\n",
       "    }\n",
       "\n",
       "    .dataframe thead th {\n",
       "        text-align: right;\n",
       "    }\n",
       "</style>\n",
       "<table border=\"1\" class=\"dataframe\">\n",
       "  <thead>\n",
       "    <tr style=\"text-align: right;\">\n",
       "      <th></th>\n",
       "      <th>0</th>\n",
       "      <th>1</th>\n",
       "      <th>2</th>\n",
       "      <th>3</th>\n",
       "      <th>4</th>\n",
       "      <th>5</th>\n",
       "      <th>6</th>\n",
       "      <th>7</th>\n",
       "      <th>8</th>\n",
       "      <th>9</th>\n",
       "      <th>...</th>\n",
       "      <th>10342</th>\n",
       "      <th>10343</th>\n",
       "      <th>10344</th>\n",
       "      <th>10345</th>\n",
       "      <th>10346</th>\n",
       "      <th>10347</th>\n",
       "      <th>10348</th>\n",
       "      <th>10349</th>\n",
       "      <th>10350</th>\n",
       "      <th>10351</th>\n",
       "    </tr>\n",
       "  </thead>\n",
       "  <tbody>\n",
       "    <tr>\n",
       "      <th>0</th>\n",
       "      <td>0.0</td>\n",
       "      <td>0.0</td>\n",
       "      <td>0.0</td>\n",
       "      <td>0.0</td>\n",
       "      <td>0.0</td>\n",
       "      <td>0.0</td>\n",
       "      <td>0.0</td>\n",
       "      <td>0.0</td>\n",
       "      <td>0.0</td>\n",
       "      <td>0.0</td>\n",
       "      <td>...</td>\n",
       "      <td>0.0</td>\n",
       "      <td>0.0</td>\n",
       "      <td>0.0</td>\n",
       "      <td>0.0</td>\n",
       "      <td>0.0</td>\n",
       "      <td>0.0</td>\n",
       "      <td>0.0</td>\n",
       "      <td>0.0</td>\n",
       "      <td>0.0</td>\n",
       "      <td>0.0</td>\n",
       "    </tr>\n",
       "    <tr>\n",
       "      <th>1</th>\n",
       "      <td>0.0</td>\n",
       "      <td>0.0</td>\n",
       "      <td>0.0</td>\n",
       "      <td>0.0</td>\n",
       "      <td>0.0</td>\n",
       "      <td>0.0</td>\n",
       "      <td>0.0</td>\n",
       "      <td>0.0</td>\n",
       "      <td>0.0</td>\n",
       "      <td>0.0</td>\n",
       "      <td>...</td>\n",
       "      <td>0.0</td>\n",
       "      <td>0.0</td>\n",
       "      <td>0.0</td>\n",
       "      <td>0.0</td>\n",
       "      <td>0.0</td>\n",
       "      <td>0.0</td>\n",
       "      <td>0.0</td>\n",
       "      <td>0.0</td>\n",
       "      <td>0.0</td>\n",
       "      <td>0.0</td>\n",
       "    </tr>\n",
       "    <tr>\n",
       "      <th>2</th>\n",
       "      <td>0.0</td>\n",
       "      <td>0.0</td>\n",
       "      <td>0.0</td>\n",
       "      <td>0.0</td>\n",
       "      <td>0.0</td>\n",
       "      <td>0.0</td>\n",
       "      <td>0.0</td>\n",
       "      <td>0.0</td>\n",
       "      <td>0.0</td>\n",
       "      <td>0.0</td>\n",
       "      <td>...</td>\n",
       "      <td>0.0</td>\n",
       "      <td>0.0</td>\n",
       "      <td>0.0</td>\n",
       "      <td>0.0</td>\n",
       "      <td>0.0</td>\n",
       "      <td>0.0</td>\n",
       "      <td>0.0</td>\n",
       "      <td>0.0</td>\n",
       "      <td>0.0</td>\n",
       "      <td>0.0</td>\n",
       "    </tr>\n",
       "    <tr>\n",
       "      <th>3</th>\n",
       "      <td>0.0</td>\n",
       "      <td>0.0</td>\n",
       "      <td>0.0</td>\n",
       "      <td>0.0</td>\n",
       "      <td>0.0</td>\n",
       "      <td>0.0</td>\n",
       "      <td>0.0</td>\n",
       "      <td>0.0</td>\n",
       "      <td>0.0</td>\n",
       "      <td>0.0</td>\n",
       "      <td>...</td>\n",
       "      <td>0.0</td>\n",
       "      <td>0.0</td>\n",
       "      <td>0.0</td>\n",
       "      <td>0.0</td>\n",
       "      <td>0.0</td>\n",
       "      <td>0.0</td>\n",
       "      <td>0.0</td>\n",
       "      <td>0.0</td>\n",
       "      <td>0.0</td>\n",
       "      <td>0.0</td>\n",
       "    </tr>\n",
       "    <tr>\n",
       "      <th>4</th>\n",
       "      <td>0.0</td>\n",
       "      <td>0.0</td>\n",
       "      <td>0.0</td>\n",
       "      <td>0.0</td>\n",
       "      <td>0.0</td>\n",
       "      <td>0.0</td>\n",
       "      <td>0.0</td>\n",
       "      <td>0.0</td>\n",
       "      <td>0.0</td>\n",
       "      <td>0.0</td>\n",
       "      <td>...</td>\n",
       "      <td>0.0</td>\n",
       "      <td>0.0</td>\n",
       "      <td>0.0</td>\n",
       "      <td>0.0</td>\n",
       "      <td>0.0</td>\n",
       "      <td>0.0</td>\n",
       "      <td>0.0</td>\n",
       "      <td>0.0</td>\n",
       "      <td>0.0</td>\n",
       "      <td>0.0</td>\n",
       "    </tr>\n",
       "    <tr>\n",
       "      <th>...</th>\n",
       "      <td>...</td>\n",
       "      <td>...</td>\n",
       "      <td>...</td>\n",
       "      <td>...</td>\n",
       "      <td>...</td>\n",
       "      <td>...</td>\n",
       "      <td>...</td>\n",
       "      <td>...</td>\n",
       "      <td>...</td>\n",
       "      <td>...</td>\n",
       "      <td>...</td>\n",
       "      <td>...</td>\n",
       "      <td>...</td>\n",
       "      <td>...</td>\n",
       "      <td>...</td>\n",
       "      <td>...</td>\n",
       "      <td>...</td>\n",
       "      <td>...</td>\n",
       "      <td>...</td>\n",
       "      <td>...</td>\n",
       "      <td>...</td>\n",
       "    </tr>\n",
       "    <tr>\n",
       "      <th>11122</th>\n",
       "      <td>0.0</td>\n",
       "      <td>0.0</td>\n",
       "      <td>0.0</td>\n",
       "      <td>0.0</td>\n",
       "      <td>0.0</td>\n",
       "      <td>0.0</td>\n",
       "      <td>0.0</td>\n",
       "      <td>0.0</td>\n",
       "      <td>0.0</td>\n",
       "      <td>0.0</td>\n",
       "      <td>...</td>\n",
       "      <td>0.0</td>\n",
       "      <td>0.0</td>\n",
       "      <td>0.0</td>\n",
       "      <td>0.0</td>\n",
       "      <td>0.0</td>\n",
       "      <td>0.0</td>\n",
       "      <td>0.0</td>\n",
       "      <td>0.0</td>\n",
       "      <td>0.0</td>\n",
       "      <td>0.0</td>\n",
       "    </tr>\n",
       "    <tr>\n",
       "      <th>11123</th>\n",
       "      <td>0.0</td>\n",
       "      <td>0.0</td>\n",
       "      <td>0.0</td>\n",
       "      <td>0.0</td>\n",
       "      <td>0.0</td>\n",
       "      <td>0.0</td>\n",
       "      <td>0.0</td>\n",
       "      <td>0.0</td>\n",
       "      <td>0.0</td>\n",
       "      <td>0.0</td>\n",
       "      <td>...</td>\n",
       "      <td>0.0</td>\n",
       "      <td>0.0</td>\n",
       "      <td>0.0</td>\n",
       "      <td>0.0</td>\n",
       "      <td>0.0</td>\n",
       "      <td>0.0</td>\n",
       "      <td>0.0</td>\n",
       "      <td>0.0</td>\n",
       "      <td>0.0</td>\n",
       "      <td>0.0</td>\n",
       "    </tr>\n",
       "    <tr>\n",
       "      <th>11124</th>\n",
       "      <td>0.0</td>\n",
       "      <td>0.0</td>\n",
       "      <td>0.0</td>\n",
       "      <td>0.0</td>\n",
       "      <td>0.0</td>\n",
       "      <td>0.0</td>\n",
       "      <td>0.0</td>\n",
       "      <td>0.0</td>\n",
       "      <td>0.0</td>\n",
       "      <td>0.0</td>\n",
       "      <td>...</td>\n",
       "      <td>0.0</td>\n",
       "      <td>0.0</td>\n",
       "      <td>0.0</td>\n",
       "      <td>0.0</td>\n",
       "      <td>0.0</td>\n",
       "      <td>0.0</td>\n",
       "      <td>0.0</td>\n",
       "      <td>0.0</td>\n",
       "      <td>0.0</td>\n",
       "      <td>0.0</td>\n",
       "    </tr>\n",
       "    <tr>\n",
       "      <th>11125</th>\n",
       "      <td>0.0</td>\n",
       "      <td>0.0</td>\n",
       "      <td>0.0</td>\n",
       "      <td>0.0</td>\n",
       "      <td>0.0</td>\n",
       "      <td>0.0</td>\n",
       "      <td>0.0</td>\n",
       "      <td>0.0</td>\n",
       "      <td>0.0</td>\n",
       "      <td>0.0</td>\n",
       "      <td>...</td>\n",
       "      <td>0.0</td>\n",
       "      <td>0.0</td>\n",
       "      <td>0.0</td>\n",
       "      <td>0.0</td>\n",
       "      <td>0.0</td>\n",
       "      <td>0.0</td>\n",
       "      <td>0.0</td>\n",
       "      <td>0.0</td>\n",
       "      <td>0.0</td>\n",
       "      <td>0.0</td>\n",
       "    </tr>\n",
       "    <tr>\n",
       "      <th>11126</th>\n",
       "      <td>0.0</td>\n",
       "      <td>0.0</td>\n",
       "      <td>0.0</td>\n",
       "      <td>0.0</td>\n",
       "      <td>0.0</td>\n",
       "      <td>0.0</td>\n",
       "      <td>0.0</td>\n",
       "      <td>0.0</td>\n",
       "      <td>0.0</td>\n",
       "      <td>0.0</td>\n",
       "      <td>...</td>\n",
       "      <td>0.0</td>\n",
       "      <td>0.0</td>\n",
       "      <td>0.0</td>\n",
       "      <td>0.0</td>\n",
       "      <td>0.0</td>\n",
       "      <td>0.0</td>\n",
       "      <td>0.0</td>\n",
       "      <td>0.0</td>\n",
       "      <td>0.0</td>\n",
       "      <td>0.0</td>\n",
       "    </tr>\n",
       "  </tbody>\n",
       "</table>\n",
       "<p>11127 rows × 10352 columns</p>\n",
       "</div>"
      ],
      "text/plain": [
       "       0      1      2      3      4      5      6      7      8      9      \\\n",
       "0        0.0    0.0    0.0    0.0    0.0    0.0    0.0    0.0    0.0    0.0   \n",
       "1        0.0    0.0    0.0    0.0    0.0    0.0    0.0    0.0    0.0    0.0   \n",
       "2        0.0    0.0    0.0    0.0    0.0    0.0    0.0    0.0    0.0    0.0   \n",
       "3        0.0    0.0    0.0    0.0    0.0    0.0    0.0    0.0    0.0    0.0   \n",
       "4        0.0    0.0    0.0    0.0    0.0    0.0    0.0    0.0    0.0    0.0   \n",
       "...      ...    ...    ...    ...    ...    ...    ...    ...    ...    ...   \n",
       "11122    0.0    0.0    0.0    0.0    0.0    0.0    0.0    0.0    0.0    0.0   \n",
       "11123    0.0    0.0    0.0    0.0    0.0    0.0    0.0    0.0    0.0    0.0   \n",
       "11124    0.0    0.0    0.0    0.0    0.0    0.0    0.0    0.0    0.0    0.0   \n",
       "11125    0.0    0.0    0.0    0.0    0.0    0.0    0.0    0.0    0.0    0.0   \n",
       "11126    0.0    0.0    0.0    0.0    0.0    0.0    0.0    0.0    0.0    0.0   \n",
       "\n",
       "       ...  10342  10343  10344  10345  10346  10347  10348  10349  10350  \\\n",
       "0      ...    0.0    0.0    0.0    0.0    0.0    0.0    0.0    0.0    0.0   \n",
       "1      ...    0.0    0.0    0.0    0.0    0.0    0.0    0.0    0.0    0.0   \n",
       "2      ...    0.0    0.0    0.0    0.0    0.0    0.0    0.0    0.0    0.0   \n",
       "3      ...    0.0    0.0    0.0    0.0    0.0    0.0    0.0    0.0    0.0   \n",
       "4      ...    0.0    0.0    0.0    0.0    0.0    0.0    0.0    0.0    0.0   \n",
       "...    ...    ...    ...    ...    ...    ...    ...    ...    ...    ...   \n",
       "11122  ...    0.0    0.0    0.0    0.0    0.0    0.0    0.0    0.0    0.0   \n",
       "11123  ...    0.0    0.0    0.0    0.0    0.0    0.0    0.0    0.0    0.0   \n",
       "11124  ...    0.0    0.0    0.0    0.0    0.0    0.0    0.0    0.0    0.0   \n",
       "11125  ...    0.0    0.0    0.0    0.0    0.0    0.0    0.0    0.0    0.0   \n",
       "11126  ...    0.0    0.0    0.0    0.0    0.0    0.0    0.0    0.0    0.0   \n",
       "\n",
       "       10351  \n",
       "0        0.0  \n",
       "1        0.0  \n",
       "2        0.0  \n",
       "3        0.0  \n",
       "4        0.0  \n",
       "...      ...  \n",
       "11122    0.0  \n",
       "11123    0.0  \n",
       "11124    0.0  \n",
       "11125    0.0  \n",
       "11126    0.0  \n",
       "\n",
       "[11127 rows x 10352 columns]"
      ]
     },
     "execution_count": 27,
     "metadata": {},
     "output_type": "execute_result"
    }
   ],
   "source": [
    "from sklearn.preprocessing import OneHotEncoder\n",
    "\n",
    "#creating instance of one-hot-encoder\n",
    "encoder = OneHotEncoder(handle_unknown='ignore')\n",
    "\n",
    "#perform one-hot encoding on 'team' column \n",
    "encoder_df = pd.DataFrame(encoder.fit_transform(df[['title']]).toarray())\n",
    "\n",
    "#merge one-hot encoded columns back with original DataFrame\n",
    "encoder_df"
   ]
  },
  {
   "cell_type": "code",
   "execution_count": 30,
   "id": "c65aa39b",
   "metadata": {
    "scrolled": true
   },
   "outputs": [
    {
     "data": {
      "text/html": [
       "<div>\n",
       "<style scoped>\n",
       "    .dataframe tbody tr th:only-of-type {\n",
       "        vertical-align: middle;\n",
       "    }\n",
       "\n",
       "    .dataframe tbody tr th {\n",
       "        vertical-align: top;\n",
       "    }\n",
       "\n",
       "    .dataframe thead th {\n",
       "        text-align: right;\n",
       "    }\n",
       "</style>\n",
       "<table border=\"1\" class=\"dataframe\">\n",
       "  <thead>\n",
       "    <tr style=\"text-align: right;\">\n",
       "      <th></th>\n",
       "      <th>19</th>\n",
       "      <th>abaire</th>\n",
       "      <th>abani</th>\n",
       "      <th>abbey</th>\n",
       "      <th>abbie</th>\n",
       "      <th>abbott</th>\n",
       "      <th>abdal</th>\n",
       "      <th>abdul</th>\n",
       "      <th>abdulin</th>\n",
       "      <th>abe</th>\n",
       "      <th>...</th>\n",
       "      <th>zwiebach</th>\n",
       "      <th>zwonitzer</th>\n",
       "      <th>zöllner</th>\n",
       "      <th>åsne</th>\n",
       "      <th>émile</th>\n",
       "      <th>éric</th>\n",
       "      <th>özdamar</th>\n",
       "      <th>čapek</th>\n",
       "      <th>ōe</th>\n",
       "      <th>žižek</th>\n",
       "    </tr>\n",
       "  </thead>\n",
       "  <tbody>\n",
       "    <tr>\n",
       "      <th>0</th>\n",
       "      <td>0</td>\n",
       "      <td>0</td>\n",
       "      <td>0</td>\n",
       "      <td>0</td>\n",
       "      <td>0</td>\n",
       "      <td>0</td>\n",
       "      <td>0</td>\n",
       "      <td>0</td>\n",
       "      <td>0</td>\n",
       "      <td>0</td>\n",
       "      <td>...</td>\n",
       "      <td>0</td>\n",
       "      <td>0</td>\n",
       "      <td>0</td>\n",
       "      <td>0</td>\n",
       "      <td>0</td>\n",
       "      <td>0</td>\n",
       "      <td>0</td>\n",
       "      <td>0</td>\n",
       "      <td>0</td>\n",
       "      <td>0</td>\n",
       "    </tr>\n",
       "    <tr>\n",
       "      <th>1</th>\n",
       "      <td>0</td>\n",
       "      <td>0</td>\n",
       "      <td>0</td>\n",
       "      <td>0</td>\n",
       "      <td>0</td>\n",
       "      <td>0</td>\n",
       "      <td>0</td>\n",
       "      <td>0</td>\n",
       "      <td>0</td>\n",
       "      <td>0</td>\n",
       "      <td>...</td>\n",
       "      <td>0</td>\n",
       "      <td>0</td>\n",
       "      <td>0</td>\n",
       "      <td>0</td>\n",
       "      <td>0</td>\n",
       "      <td>0</td>\n",
       "      <td>0</td>\n",
       "      <td>0</td>\n",
       "      <td>0</td>\n",
       "      <td>0</td>\n",
       "    </tr>\n",
       "    <tr>\n",
       "      <th>2</th>\n",
       "      <td>0</td>\n",
       "      <td>0</td>\n",
       "      <td>0</td>\n",
       "      <td>0</td>\n",
       "      <td>0</td>\n",
       "      <td>0</td>\n",
       "      <td>0</td>\n",
       "      <td>0</td>\n",
       "      <td>0</td>\n",
       "      <td>0</td>\n",
       "      <td>...</td>\n",
       "      <td>0</td>\n",
       "      <td>0</td>\n",
       "      <td>0</td>\n",
       "      <td>0</td>\n",
       "      <td>0</td>\n",
       "      <td>0</td>\n",
       "      <td>0</td>\n",
       "      <td>0</td>\n",
       "      <td>0</td>\n",
       "      <td>0</td>\n",
       "    </tr>\n",
       "    <tr>\n",
       "      <th>3</th>\n",
       "      <td>0</td>\n",
       "      <td>0</td>\n",
       "      <td>0</td>\n",
       "      <td>0</td>\n",
       "      <td>0</td>\n",
       "      <td>0</td>\n",
       "      <td>0</td>\n",
       "      <td>0</td>\n",
       "      <td>0</td>\n",
       "      <td>0</td>\n",
       "      <td>...</td>\n",
       "      <td>0</td>\n",
       "      <td>0</td>\n",
       "      <td>0</td>\n",
       "      <td>0</td>\n",
       "      <td>0</td>\n",
       "      <td>0</td>\n",
       "      <td>0</td>\n",
       "      <td>0</td>\n",
       "      <td>0</td>\n",
       "      <td>0</td>\n",
       "    </tr>\n",
       "    <tr>\n",
       "      <th>4</th>\n",
       "      <td>0</td>\n",
       "      <td>0</td>\n",
       "      <td>0</td>\n",
       "      <td>0</td>\n",
       "      <td>0</td>\n",
       "      <td>0</td>\n",
       "      <td>0</td>\n",
       "      <td>0</td>\n",
       "      <td>0</td>\n",
       "      <td>0</td>\n",
       "      <td>...</td>\n",
       "      <td>0</td>\n",
       "      <td>0</td>\n",
       "      <td>0</td>\n",
       "      <td>0</td>\n",
       "      <td>0</td>\n",
       "      <td>0</td>\n",
       "      <td>0</td>\n",
       "      <td>0</td>\n",
       "      <td>0</td>\n",
       "      <td>0</td>\n",
       "    </tr>\n",
       "    <tr>\n",
       "      <th>...</th>\n",
       "      <td>...</td>\n",
       "      <td>...</td>\n",
       "      <td>...</td>\n",
       "      <td>...</td>\n",
       "      <td>...</td>\n",
       "      <td>...</td>\n",
       "      <td>...</td>\n",
       "      <td>...</td>\n",
       "      <td>...</td>\n",
       "      <td>...</td>\n",
       "      <td>...</td>\n",
       "      <td>...</td>\n",
       "      <td>...</td>\n",
       "      <td>...</td>\n",
       "      <td>...</td>\n",
       "      <td>...</td>\n",
       "      <td>...</td>\n",
       "      <td>...</td>\n",
       "      <td>...</td>\n",
       "      <td>...</td>\n",
       "      <td>...</td>\n",
       "    </tr>\n",
       "    <tr>\n",
       "      <th>11122</th>\n",
       "      <td>0</td>\n",
       "      <td>0</td>\n",
       "      <td>0</td>\n",
       "      <td>0</td>\n",
       "      <td>0</td>\n",
       "      <td>0</td>\n",
       "      <td>0</td>\n",
       "      <td>0</td>\n",
       "      <td>0</td>\n",
       "      <td>0</td>\n",
       "      <td>...</td>\n",
       "      <td>0</td>\n",
       "      <td>0</td>\n",
       "      <td>0</td>\n",
       "      <td>0</td>\n",
       "      <td>0</td>\n",
       "      <td>0</td>\n",
       "      <td>0</td>\n",
       "      <td>0</td>\n",
       "      <td>0</td>\n",
       "      <td>0</td>\n",
       "    </tr>\n",
       "    <tr>\n",
       "      <th>11123</th>\n",
       "      <td>0</td>\n",
       "      <td>0</td>\n",
       "      <td>0</td>\n",
       "      <td>0</td>\n",
       "      <td>0</td>\n",
       "      <td>0</td>\n",
       "      <td>0</td>\n",
       "      <td>0</td>\n",
       "      <td>0</td>\n",
       "      <td>0</td>\n",
       "      <td>...</td>\n",
       "      <td>0</td>\n",
       "      <td>0</td>\n",
       "      <td>0</td>\n",
       "      <td>0</td>\n",
       "      <td>0</td>\n",
       "      <td>0</td>\n",
       "      <td>0</td>\n",
       "      <td>0</td>\n",
       "      <td>0</td>\n",
       "      <td>0</td>\n",
       "    </tr>\n",
       "    <tr>\n",
       "      <th>11124</th>\n",
       "      <td>0</td>\n",
       "      <td>0</td>\n",
       "      <td>0</td>\n",
       "      <td>0</td>\n",
       "      <td>0</td>\n",
       "      <td>0</td>\n",
       "      <td>0</td>\n",
       "      <td>0</td>\n",
       "      <td>0</td>\n",
       "      <td>0</td>\n",
       "      <td>...</td>\n",
       "      <td>0</td>\n",
       "      <td>0</td>\n",
       "      <td>0</td>\n",
       "      <td>0</td>\n",
       "      <td>0</td>\n",
       "      <td>0</td>\n",
       "      <td>0</td>\n",
       "      <td>0</td>\n",
       "      <td>0</td>\n",
       "      <td>0</td>\n",
       "    </tr>\n",
       "    <tr>\n",
       "      <th>11125</th>\n",
       "      <td>0</td>\n",
       "      <td>0</td>\n",
       "      <td>0</td>\n",
       "      <td>0</td>\n",
       "      <td>0</td>\n",
       "      <td>0</td>\n",
       "      <td>0</td>\n",
       "      <td>0</td>\n",
       "      <td>0</td>\n",
       "      <td>0</td>\n",
       "      <td>...</td>\n",
       "      <td>0</td>\n",
       "      <td>0</td>\n",
       "      <td>0</td>\n",
       "      <td>0</td>\n",
       "      <td>0</td>\n",
       "      <td>0</td>\n",
       "      <td>0</td>\n",
       "      <td>0</td>\n",
       "      <td>0</td>\n",
       "      <td>0</td>\n",
       "    </tr>\n",
       "    <tr>\n",
       "      <th>11126</th>\n",
       "      <td>0</td>\n",
       "      <td>0</td>\n",
       "      <td>0</td>\n",
       "      <td>0</td>\n",
       "      <td>0</td>\n",
       "      <td>0</td>\n",
       "      <td>0</td>\n",
       "      <td>0</td>\n",
       "      <td>0</td>\n",
       "      <td>0</td>\n",
       "      <td>...</td>\n",
       "      <td>0</td>\n",
       "      <td>0</td>\n",
       "      <td>0</td>\n",
       "      <td>0</td>\n",
       "      <td>0</td>\n",
       "      <td>0</td>\n",
       "      <td>0</td>\n",
       "      <td>0</td>\n",
       "      <td>0</td>\n",
       "      <td>0</td>\n",
       "    </tr>\n",
       "  </tbody>\n",
       "</table>\n",
       "<p>11127 rows × 4551 columns</p>\n",
       "</div>"
      ],
      "text/plain": [
       "       19  abaire  abani  abbey  abbie  abbott  abdal  abdul  abdulin  abe  \\\n",
       "0       0       0      0      0      0       0      0      0        0    0   \n",
       "1       0       0      0      0      0       0      0      0        0    0   \n",
       "2       0       0      0      0      0       0      0      0        0    0   \n",
       "3       0       0      0      0      0       0      0      0        0    0   \n",
       "4       0       0      0      0      0       0      0      0        0    0   \n",
       "...    ..     ...    ...    ...    ...     ...    ...    ...      ...  ...   \n",
       "11122   0       0      0      0      0       0      0      0        0    0   \n",
       "11123   0       0      0      0      0       0      0      0        0    0   \n",
       "11124   0       0      0      0      0       0      0      0        0    0   \n",
       "11125   0       0      0      0      0       0      0      0        0    0   \n",
       "11126   0       0      0      0      0       0      0      0        0    0   \n",
       "\n",
       "       ...  zwiebach  zwonitzer  zöllner  åsne  émile  éric  özdamar  čapek  \\\n",
       "0      ...         0          0        0     0      0     0        0      0   \n",
       "1      ...         0          0        0     0      0     0        0      0   \n",
       "2      ...         0          0        0     0      0     0        0      0   \n",
       "3      ...         0          0        0     0      0     0        0      0   \n",
       "4      ...         0          0        0     0      0     0        0      0   \n",
       "...    ...       ...        ...      ...   ...    ...   ...      ...    ...   \n",
       "11122  ...         0          0        0     0      0     0        0      0   \n",
       "11123  ...         0          0        0     0      0     0        0      0   \n",
       "11124  ...         0          0        0     0      0     0        0      0   \n",
       "11125  ...         0          0        0     0      0     0        0      0   \n",
       "11126  ...         0          0        0     0      0     0        0      0   \n",
       "\n",
       "       ōe  žižek  \n",
       "0       0      0  \n",
       "1       0      0  \n",
       "2       0      0  \n",
       "3       0      0  \n",
       "4       0      0  \n",
       "...    ..    ...  \n",
       "11122   0      0  \n",
       "11123   0      0  \n",
       "11124   0      0  \n",
       "11125   0      0  \n",
       "11126   0      0  \n",
       "\n",
       "[11127 rows x 4551 columns]"
      ]
     },
     "execution_count": 30,
     "metadata": {},
     "output_type": "execute_result"
    }
   ],
   "source": [
    "from sklearn.feature_extraction.text import CountVectorizer\n",
    "count_vectorizer = CountVectorizer()\n",
    "bag_of_words = count_vectorizer.fit_transform(df['primary_author'])\n",
    "bag_of_words = pd.DataFrame(bag_of_words.toarray(), columns = count_vectorizer.get_feature_names())\n",
    "bag_of_words\n"
   ]
  },
  {
   "cell_type": "code",
   "execution_count": null,
   "id": "09998f8e",
   "metadata": {},
   "outputs": [],
   "source": [
    "bags="
   ]
  },
  {
   "cell_type": "markdown",
   "id": "0db097fb",
   "metadata": {},
   "source": [
    "***\n",
    "Average number of pages per author and average rating"
   ]
  },
  {
   "cell_type": "code",
   "execution_count": null,
   "id": "e81e56f7",
   "metadata": {},
   "outputs": [],
   "source": [
    "author_page=df.groupby('primary_author')['num_pages'].mean()\n",
    "frames=[author_page, author]\n",
    "pd.concat(frames,axis=1).sort_values('count', ascending = False)"
   ]
  },
  {
   "cell_type": "markdown",
   "id": "d6f31581",
   "metadata": {},
   "source": [
    "## Publication_date"
   ]
  },
  {
   "cell_type": "code",
   "execution_count": null,
   "id": "2f6898ec",
   "metadata": {},
   "outputs": [],
   "source": [
    "#Change the format of column \"publication_date\" \n",
    "# to match with standard date format then add 2 new columns \"Month\" and \"Year\" -> seasonality effect?\n",
    "df['publication_date'] = pd.to_datetime(df['publication_date'], dayfirst = False, yearfirst = False, errors = 'coerce')"
   ]
  },
  {
   "cell_type": "code",
   "execution_count": null,
   "id": "eedc0121",
   "metadata": {},
   "outputs": [],
   "source": [
    "df.head(2)"
   ]
  },
  {
   "cell_type": "code",
   "execution_count": null,
   "id": "41733b25",
   "metadata": {},
   "outputs": [],
   "source": [
    "df.isna().sum()"
   ]
  },
  {
   "cell_type": "code",
   "execution_count": null,
   "id": "e8625dff",
   "metadata": {},
   "outputs": [],
   "source": [
    "df.loc[df.publication_date.isna(),:]"
   ]
  },
  {
   "cell_type": "markdown",
   "id": "5852c2bd",
   "metadata": {},
   "source": [
    "those 2 dates are unreal in the sense that\n",
    "    # November doesn't have 31 days (11/31/2000)\n",
    "    # June doesn't have 31 days (31/06/1982)\n",
    "    \n",
    "=> replace by correct date for those 2 rows\n",
    "\n",
    "    #31373 published October 31, 2000 by Bantam Books (https://www.goodreads.com/book/show/31373.In_Pursuit_of_the_Proper_Sinner?ac=1&from_search=true&qid=3A5Zotzgsy&rank=1)\n",
    "    \n",
    "    #45531 published June 30, 1982 by Folio histoire (https://www.goodreads.com/book/show/45531.Montaillou_village_occitan_de_1294_1324)"
   ]
  },
  {
   "cell_type": "code",
   "execution_count": null,
   "id": "c80d833e",
   "metadata": {},
   "outputs": [],
   "source": [
    "#correcting 2 NaT by correct date\n",
    "df.loc[31373,\"publication_date\"]='10/30/2000'\n",
    "df.loc[45531,\"publication_date\"] ='6/30/1982'\n",
    "df.loc[[31373,45531]]"
   ]
  },
  {
   "cell_type": "code",
   "execution_count": null,
   "id": "5d0214a7",
   "metadata": {},
   "outputs": [],
   "source": [
    "# Splitting date column into month and year columns - move in FE\n",
    "df['publication_month'] = df['publication_date'].dt.strftime('%m')\n",
    "df['publication_year'] = df['publication_date'].dt.strftime('%Y')\n",
    "\n",
    "df.head(2)"
   ]
  },
  {
   "cell_type": "code",
   "execution_count": null,
   "id": "a8effbb7",
   "metadata": {},
   "outputs": [],
   "source": [
    "print(\"Type of publication_month is:\", df.publication_month.dtypes)\n",
    "print(\"Type of publication_year is:\",df.publication_year.dtypes)\n",
    "#return type 'Object' -> convert to integer type"
   ]
  },
  {
   "cell_type": "code",
   "execution_count": null,
   "id": "c04f2c83",
   "metadata": {},
   "outputs": [],
   "source": [
    "df['publication_month']=df.publication_month.astype(int)\n",
    "df['publication_year']=df.publication_year.astype(int)"
   ]
  },
  {
   "cell_type": "code",
   "execution_count": null,
   "id": "a4ab1aa4",
   "metadata": {},
   "outputs": [],
   "source": [
    "df.groupby([\"publication_month\"]).describe().average_rating"
   ]
  },
  {
   "cell_type": "code",
   "execution_count": null,
   "id": "7334475f",
   "metadata": {},
   "outputs": [],
   "source": [
    "yearly_rating=df.groupby([\"publication_year\"]).describe().average_rating\n",
    "yearly_rating"
   ]
  },
  {
   "cell_type": "code",
   "execution_count": null,
   "id": "fed73ccc",
   "metadata": {},
   "outputs": [],
   "source": [
    "ax1 = sns.jointplot(y=\"average_rating\", x=\"publication_year\", data = df, color = 'crimson')\n",
    "ax1.set_axis_labels(\"year\", \"Average Rating\",)\n",
    "\n",
    "ax2 = sns.jointplot(y=\"average_rating\", x=\"publication_month\", data = df, color = 'crimson')\n",
    "ax2.set_axis_labels(\"month\", \"Average Rating\")"
   ]
  },
  {
   "cell_type": "markdown",
   "id": "5fb08917",
   "metadata": {},
   "source": [
    "## Pages"
   ]
  },
  {
   "cell_type": "code",
   "execution_count": null,
   "id": "e09eea28",
   "metadata": {},
   "outputs": [],
   "source": [
    "df.num_pages.describe()"
   ]
  },
  {
   "cell_type": "code",
   "execution_count": null,
   "id": "a49df9d9",
   "metadata": {},
   "outputs": [],
   "source": [
    "df.num_pages.value_counts().sort_index(axis = 0).head(30)"
   ]
  },
  {
   "cell_type": "code",
   "execution_count": null,
   "id": "ec48fbae",
   "metadata": {},
   "outputs": [],
   "source": [
    "df[df.num_pages == 1].head(15)"
   ]
  },
  {
   "cell_type": "markdown",
   "id": "2e623846",
   "metadata": {},
   "source": [
    "* Num_pages == 0 to 15 seems to be Audio Books -> remove or create a new column AUDIBLE vs READABLE\n",
    "***"
   ]
  },
  {
   "cell_type": "code",
   "execution_count": null,
   "id": "d5489cf5",
   "metadata": {},
   "outputs": [],
   "source": [
    "publisher_df=df\n",
    "publisher_df['publisher_group']=publisher_df.publisher.str[0]\n",
    "publisher_df=publisher_df.groupby('publisher_group').publisher.value_counts().to_frame('counts').sort_values(by = ['publisher'])\n",
    "print(publisher_df.to_string())"
   ]
  },
  {
   "cell_type": "code",
   "execution_count": null,
   "id": "90c1e002",
   "metadata": {},
   "outputs": [],
   "source": [
    "audio_df=df[df.num_pages>24]\n",
    "audio_df.sort_values(by = ['num_pages']).head(10)"
   ]
  },
  {
   "cell_type": "code",
   "execution_count": null,
   "id": "b6601672",
   "metadata": {},
   "outputs": [],
   "source": [
    "# look at different publisher name to see if audio book or not\n",
    "keep= [\"fono\"]\n",
    "\n",
    "#filter for rows that contain the partial string \"Wes\" in the conference column\n",
    "df[df.publisher.str.contains('|'.join(keep))].sort_values(by = ['num_pages'])\n",
    "\n",
    "# \"Tantor Media\"-containing publisher name = AUDIO (note: pages <= 6)\n",
    "# \"Caedmon\"-containing publisher name = AUDIO (note: pages <= 11)\n",
    "# \"HarperFestival\"-containing publisher name = AUDIO (note: 1 \"book\" counts 31 pages but it's 31 CDs)\n",
    "# \"Pimsleur\"-containing publisher name = AUDIO (note: only 1 book)\n",
    "# \"FonoLibro\"-containing publisher name = AUDIO (note: only 1 book - 18 pages\n",
    "# \"Disney Press\", Warne\" AND \"TSR Inc\" publish short book for kids\n",
    "# \"Studio\"-containing publisher name = only paper book - to keep"
   ]
  },
  {
   "cell_type": "markdown",
   "id": "be70a125",
   "metadata": {},
   "source": [
    "Create new column \"Type\" with 2 categories: AUDIBLE or READABLE\n",
    "* 1. Select title with CD\n",
    "* 2. Apply on publisher based on the list [\"Audio\", \"Record\", \"Sound\", \"Tape\", \"Tantor\", \"Warner Adult\", \"HarperFestival\",\"Pimsleur\", \"FonoLibro\"]\n",
    "* 3. Apply on num_pages <=15 (assumption that all books with less (or equal) than 15 pages are Audio)"
   ]
  },
  {
   "cell_type": "code",
   "execution_count": null,
   "id": "a5d1466e",
   "metadata": {},
   "outputs": [],
   "source": [
    "keep= [\"Audio\", \"Record\", \"Sound\", \"Tape\", \"Tantor\", \"Warner Adult\", \"HarperFestival\",\"Pimsleur\", \"FonoLibro\"]\n",
    "conditions = [df.authors == 'NOT A BOOK', df.title.str.contains('|'.join([\"CD\"])), df.publisher.str.contains('|'.join(keep)), df.num_pages <= 15]\n",
    "choices =['audible','audible', 'audible','audible']                                                                                  \n",
    "df['type'] = np.select(conditions, choices, default=\"readable\")                                                                             \n",
    "                                                                                  \n",
    "#df[df.authors == 'NOT A BOOK']\n",
    "df.head(15)"
   ]
  },
  {
   "cell_type": "code",
   "execution_count": null,
   "id": "3fee3a6a",
   "metadata": {},
   "outputs": [],
   "source": [
    "df.groupby([\"type\"]).describe().average_rating\n",
    "#imbalanced "
   ]
  },
  {
   "cell_type": "code",
   "execution_count": null,
   "id": "0c3beb34",
   "metadata": {},
   "outputs": [],
   "source": [
    "ax3 = sns.jointplot(y=\"average_rating\", x=\"type\", data = df, color = 'crimson')\n",
    "ax3.set_axis_labels(\"Type\", \"Average Rating\")"
   ]
  },
  {
   "cell_type": "code",
   "execution_count": null,
   "id": "b9a85fa2",
   "metadata": {},
   "outputs": [],
   "source": [
    "#Replacing the 'num_pages' 0 values with the mean and checking the result\n",
    "#df['num_pages'] = df['num_pages'].replace(0,df['num_pages'].mean())"
   ]
  },
  {
   "cell_type": "code",
   "execution_count": null,
   "id": "56c3376d",
   "metadata": {
    "ExecuteTime": {
     "end_time": "2023-01-30T17:38:00.124400Z",
     "start_time": "2023-01-30T17:38:00.099398Z"
    }
   },
   "outputs": [],
   "source": [
    "#len(df[df.num_pages > 1500])"
   ]
  },
  {
   "cell_type": "code",
   "execution_count": null,
   "id": "42df225f",
   "metadata": {
    "ExecuteTime": {
     "end_time": "2023-01-30T17:38:00.164771Z",
     "start_time": "2023-01-30T17:38:00.124400Z"
    }
   },
   "outputs": [],
   "source": [
    "#Dropping outliers for 'num_pages' column \n",
    "#df = df.drop(index = df[df.num_pages > 1500].index)"
   ]
  },
  {
   "cell_type": "code",
   "execution_count": null,
   "id": "4e9a4e06",
   "metadata": {
    "ExecuteTime": {
     "end_time": "2023-01-30T17:38:01.474934Z",
     "start_time": "2023-01-30T17:38:00.171132Z"
    }
   },
   "outputs": [],
   "source": [
    "ax1 = sns.jointplot(x=\"average_rating\", y=\"num_pages\", data = df, color = 'blue')\n",
    "ax1.set_axis_labels(\"Average Rating\", \"Number of Pages\")"
   ]
  },
  {
   "cell_type": "markdown",
   "id": "b1b95dc3",
   "metadata": {},
   "source": [
    "## Rating_count"
   ]
  },
  {
   "cell_type": "code",
   "execution_count": null,
   "id": "1682fdca",
   "metadata": {
    "ExecuteTime": {
     "end_time": "2023-01-30T17:38:01.499376Z",
     "start_time": "2023-01-30T17:38:01.477496Z"
    }
   },
   "outputs": [],
   "source": [
    "len(df[df.ratings_count > 2000000])"
   ]
  },
  {
   "cell_type": "code",
   "execution_count": null,
   "id": "59e444ea",
   "metadata": {
    "ExecuteTime": {
     "end_time": "2023-01-30T17:38:01.523645Z",
     "start_time": "2023-01-30T17:38:01.499376Z"
    }
   },
   "outputs": [],
   "source": [
    "#Dropping outliers for 'ratings_count' column \n",
    "df = df.drop(index = df[df.ratings_count > 2000000].index)"
   ]
  },
  {
   "cell_type": "code",
   "execution_count": null,
   "id": "420def9f",
   "metadata": {
    "ExecuteTime": {
     "end_time": "2023-01-30T17:38:01.548024Z",
     "start_time": "2023-01-30T17:38:01.526476Z"
    }
   },
   "outputs": [],
   "source": [
    "# Dropping the rows where the 'ratings_count' of a book is set to 0 and the average rating is different from 0 \n",
    "df = df.drop(index = df[df.average_rating == 0].index)"
   ]
  },
  {
   "cell_type": "markdown",
   "id": "936b4d35",
   "metadata": {},
   "source": [
    "## Text_Review"
   ]
  },
  {
   "cell_type": "code",
   "execution_count": null,
   "id": "03eecffd",
   "metadata": {
    "ExecuteTime": {
     "end_time": "2023-01-30T17:38:01.580023Z",
     "start_time": "2023-01-30T17:38:01.556006Z"
    }
   },
   "outputs": [],
   "source": [
    "len(df[df.text_reviews_count > 50000])"
   ]
  },
  {
   "cell_type": "code",
   "execution_count": null,
   "id": "a4b67033",
   "metadata": {
    "ExecuteTime": {
     "end_time": "2023-01-30T17:38:01.596041Z",
     "start_time": "2023-01-30T17:38:01.580023Z"
    }
   },
   "outputs": [],
   "source": [
    "#Dropping outliers for 'text_reviews_count' column \n",
    "df = df.drop(index = df[df.text_reviews_count > 50000].index)"
   ]
  },
  {
   "cell_type": "markdown",
   "id": "357a62a0",
   "metadata": {},
   "source": [
    "##  Average_rating / ratings_counts / text_review_counts"
   ]
  },
  {
   "cell_type": "code",
   "execution_count": null,
   "id": "afff43c4",
   "metadata": {},
   "outputs": [],
   "source": [
    "print('Number of average_rating = 0: ', df['average_rating'].value_counts()[0])\n",
    "print('Number of rating_counts = 0: ', df['ratings_count'].value_counts()[0])\n",
    "print('Number of text_reviews_count = 0: ', df['text_reviews_count'].value_counts()[0])\n",
    "\n",
    "#rating = 0 with rating_count = 0 -> is it relevant to keep it ro should we replace by the average rating?\n",
    "# average_rating but no ratings_count or texte_reviews_count? how to consider them"
   ]
  },
  {
   "cell_type": "code",
   "execution_count": null,
   "id": "cd820d24",
   "metadata": {},
   "outputs": [],
   "source": [
    "df[df.average_rating==0].describe()"
   ]
  },
  {
   "cell_type": "code",
   "execution_count": null,
   "id": "810e4a4a",
   "metadata": {},
   "outputs": [],
   "source": [
    "df[df.average_rating==0].loc[df.text_reviews_count!=0]\n",
    "#1 text review but no rating associated (ratings count =0)"
   ]
  },
  {
   "cell_type": "markdown",
   "id": "1fcd9cc8",
   "metadata": {},
   "source": [
    "Based on those observations, an average rating equal to 0 have a rating count equal to 0 and a text review equal to 0 <br>\n",
    "There is only one case where we have a text review but still no rating count <br>\n",
    "Those 26 rows (average rating = 0) are suspicious based on that.<br>\n",
    "\n",
    "Remove or keep them (that could help predict a rating of 0 meaning that no one take the time to rate a book because it's too long!)\n",
    "***"
   ]
  },
  {
   "cell_type": "code",
   "execution_count": null,
   "id": "845863b5",
   "metadata": {},
   "outputs": [],
   "source": [
    "df=df.drop(df.loc[df.average_rating ==0].index)\n",
    "df.describe()"
   ]
  },
  {
   "cell_type": "code",
   "execution_count": null,
   "id": "d372f0c6",
   "metadata": {},
   "outputs": [],
   "source": [
    "#print('Number of average_rating = 0: ', books_df_copy['average_rating'].value_counts()[0])\n",
    "print('Number of rating_counts = 0: ', df['ratings_count'].value_counts()[0]) #80-26=54\n",
    "print('Number of text_reviews_count = 0: ', df['text_reviews_count'].value_counts()[0])#622-26+1 ( text review=1)= 600"
   ]
  },
  {
   "cell_type": "markdown",
   "id": "bd4d5e37",
   "metadata": {},
   "source": [
    "Still 55 rating_count equal to 0 whereas we have an average_rating at least equal to 1 => how can we have a rating without any count? <br> Let's dig a bit more\n",
    "***"
   ]
  },
  {
   "cell_type": "code",
   "execution_count": null,
   "id": "e71ef5c4",
   "metadata": {
    "scrolled": true
   },
   "outputs": [],
   "source": [
    "df[df.ratings_count==0].head(5)"
   ]
  },
  {
   "cell_type": "markdown",
   "id": "8fd67fad",
   "metadata": {},
   "source": [
    "Replace 0 by average ratings_counts or drop? **Replace** by mean ratings_counts"
   ]
  },
  {
   "cell_type": "code",
   "execution_count": null,
   "id": "12cb0ff7",
   "metadata": {},
   "outputs": [],
   "source": [
    "avg_rating_count=df[df['ratings_count']!=0].ratings_count.mean()\n",
    "avg_rating_count"
   ]
  },
  {
   "cell_type": "code",
   "execution_count": null,
   "id": "df8c7f22",
   "metadata": {},
   "outputs": [],
   "source": [
    "df.ratings_count.replace(to_replace = 0, value =avg_rating_count ,inplace = True)\n",
    "df['ratings_count'].describe()"
   ]
  },
  {
   "cell_type": "code",
   "execution_count": null,
   "id": "fa57c471",
   "metadata": {},
   "outputs": [],
   "source": [
    "df['text_reviews_count'].describe()"
   ]
  },
  {
   "cell_type": "code",
   "execution_count": null,
   "id": "a930ea98",
   "metadata": {},
   "outputs": [],
   "source": [
    "df['text_reviews_count'].value_counts()[0]"
   ]
  },
  {
   "cell_type": "code",
   "execution_count": null,
   "id": "e55c46c9",
   "metadata": {},
   "outputs": [],
   "source": [
    "#Average Rating // Text Review Count\n",
    "ax2 = sns.jointplot(x=\"average_rating\", y=\"text_reviews_count\", data = df, color = 'orange')\n",
    "ax2.set_axis_labels(\"Average Rating\", \"Text review Count\")\n",
    "\n",
    "#drop text_reviews_count above 30000?\n",
    "\n",
    "#Average Rating // Reviews Count\n",
    "ax2 = sns.jointplot(x=\"average_rating\", y=\"ratings_count\", data = df, color = 'violet')\n",
    "ax2.set_axis_labels(\"Average Rating\", \"Ratings Count\")\n",
    "\n",
    "\n",
    "plt.show()"
   ]
  },
  {
   "cell_type": "code",
   "execution_count": null,
   "id": "79996000",
   "metadata": {
    "ExecuteTime": {
     "end_time": "2023-01-29T13:59:44.063523Z",
     "start_time": "2023-01-29T13:59:44.052447Z"
    }
   },
   "outputs": [],
   "source": [
    "# Dropping the rows where the  average rating of a book is set to 0 AND rating counts set to 0\n",
    "#len(df.loc[(df[df.text_reviews_count == 0]) & (df['ratings_count'] == 0)])"
   ]
  },
  {
   "cell_type": "markdown",
   "id": "ad57cb9c",
   "metadata": {},
   "source": [
    "## Average_rating\n",
    "Create a new feature combining average rating and number of rating and/or nulber of text rating"
   ]
  },
  {
   "cell_type": "code",
   "execution_count": null,
   "id": "a21e92fa",
   "metadata": {},
   "outputs": [],
   "source": [
    "rating_df= df[['title','average_rating','ratings_count','text_reviews_count']]\n",
    "rating_df.head(10)"
   ]
  },
  {
   "cell_type": "code",
   "execution_count": null,
   "id": "8de4691f",
   "metadata": {},
   "outputs": [],
   "source": [
    "rating_df=rating_df.drop(columns =['book_occurence', 'weighted_text_reviews'])\n",
    "\n",
    "rating_df['book_occurence'] = df.groupby('title')['title'].transform('count')\n",
    "rating_df['weighted_text_reviews']=rating_df['text_reviews_count']/rating_df['ratings_count']\n",
    "\n",
    "\n",
    "rating_df.head(10)"
   ]
  },
  {
   "cell_type": "code",
   "execution_count": null,
   "id": "c0bec6cb",
   "metadata": {},
   "outputs": [],
   "source": [
    "rating_df.corr()"
   ]
  },
  {
   "cell_type": "markdown",
   "id": "710ddc47",
   "metadata": {},
   "source": [
    "## Visualization w/o outliers"
   ]
  },
  {
   "cell_type": "code",
   "execution_count": null,
   "id": "9101a790",
   "metadata": {
    "ExecuteTime": {
     "end_time": "2023-01-29T13:59:44.480768Z",
     "start_time": "2023-01-29T13:59:44.066348Z"
    }
   },
   "outputs": [],
   "source": [
    "plt.figure(figsize=(10,10))\n",
    "sns.heatmap(df.corr(),annot=True)\n",
    "plt.show()"
   ]
  },
  {
   "cell_type": "code",
   "execution_count": null,
   "id": "34ccdf7c",
   "metadata": {
    "ExecuteTime": {
     "end_time": "2023-01-29T13:59:45.095046Z",
     "start_time": "2023-01-29T13:59:44.482883Z"
    }
   },
   "outputs": [],
   "source": [
    "plt.figure(figsize=(15,10))\n",
    "sns.set_context('paper')\n",
    "ax = sns.jointplot(x=\"average_rating\", y=\"num_pages\", data = df, color = 'crimson')\n",
    "ax.set_axis_labels(\"Average Rating\", \"Number of Pages\")"
   ]
  },
  {
   "cell_type": "markdown",
   "id": "d0dd5f1d",
   "metadata": {},
   "source": [
    "Best rated books are between 180 and 420 pages"
   ]
  },
  {
   "cell_type": "code",
   "execution_count": null,
   "id": "9ae76bf1",
   "metadata": {
    "ExecuteTime": {
     "end_time": "2023-01-29T13:59:52.064356Z",
     "start_time": "2023-01-29T13:59:45.097297Z"
    }
   },
   "outputs": [],
   "source": [
    "plt.figure(figsize=(15,10))\n",
    "sns.set_context('paper')\n",
    "ax = sns.jointplot(x=\"average_rating\", y=\"ratings_count\", data = df, color = 'violet')\n",
    "ax.set_axis_labels(\"Average Rating\", \"ratings_count\")"
   ]
  },
  {
   "cell_type": "code",
   "execution_count": null,
   "id": "dbde0b4e",
   "metadata": {
    "ExecuteTime": {
     "end_time": "2023-01-29T13:59:56.154523Z",
     "start_time": "2023-01-29T13:59:52.066213Z"
    },
    "scrolled": true
   },
   "outputs": [],
   "source": [
    "plt.figure(figsize=(15,10))\n",
    "sns.set_context('paper')\n",
    "ax = sns.jointplot(x=\"average_rating\", y=\"text_reviews_count\", data = df, color = 'orange')\n",
    "ax.set_axis_labels(\"Average Rating\", \"text_reviews_count\")"
   ]
  },
  {
   "cell_type": "markdown",
   "id": "08685c30",
   "metadata": {},
   "source": [
    "# Next Steps\n",
    "\n",
    "1. In the correlation section\n",
    "   * Avg rating // language (visual)\n",
    "   * Avg rating for top published authors over time (year) (bof)\n",
    "   * Avg rating for top publishers over time (bof)\n",
    "   * Corr month publication // avg rating / rating counts / text review\n",
    "   * Corr year publication // avg rating / rating counts / text review\n",
    "   \n",
    "\n",
    "2. jointplot for text_reviews_count and ratings_count --> no histogram \n",
    "\n",
    "3. After dropping all outliers, how does the heatmap look like? \n",
    "\n",
    "4. Transforming categorical columns into numerical columns \n",
    "    * Title\n",
    "    * Authors \n",
    "    * Language \n",
    "    * Publisher \n",
    "\n",
    "5. New column that identifies if the book has been written by a single or multiple authors\n",
    "    Or trying to select only the first author of the book \n",
    "\n",
    "6. Identify similar publishers ??? \n",
    "\n",
    "7. Dropping the rows where the avg rating is 0\n",
    "\n",
    "8. Dropping the rows where rating counts and text review counts are set to 0"
   ]
  },
  {
   "cell_type": "code",
   "execution_count": null,
   "id": "abe7414c",
   "metadata": {},
   "outputs": [],
   "source": []
  }
 ],
 "metadata": {
  "kernelspec": {
   "display_name": "Python 3 (ipykernel)",
   "language": "python",
   "name": "python3"
  },
  "language_info": {
   "codemirror_mode": {
    "name": "ipython",
    "version": 3
   },
   "file_extension": ".py",
   "mimetype": "text/x-python",
   "name": "python",
   "nbconvert_exporter": "python",
   "pygments_lexer": "ipython3",
   "version": "3.9.12"
  },
  "toc": {
   "base_numbering": 1,
   "nav_menu": {},
   "number_sections": true,
   "sideBar": true,
   "skip_h1_title": false,
   "title_cell": "Table of Contents",
   "title_sidebar": "Contents",
   "toc_cell": false,
   "toc_position": {},
   "toc_section_display": true,
   "toc_window_display": false
  }
 },
 "nbformat": 4,
 "nbformat_minor": 5
}
