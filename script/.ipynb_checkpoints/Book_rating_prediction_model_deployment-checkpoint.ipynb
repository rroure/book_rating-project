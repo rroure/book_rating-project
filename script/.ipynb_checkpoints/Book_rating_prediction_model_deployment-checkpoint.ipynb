{
 "cells": [
  {
   "cell_type": "markdown",
   "id": "e1160691",
   "metadata": {},
   "source": [
    "# Import libraries"
   ]
  },
  {
   "cell_type": "markdown",
   "id": "83f25264",
   "metadata": {},
   "source": [
    "### General libraries"
   ]
  },
  {
   "cell_type": "code",
   "execution_count": 159,
   "id": "e2ca5afb",
   "metadata": {
    "ExecuteTime": {
     "end_time": "2023-01-30T16:44:35.911734Z",
     "start_time": "2023-01-30T16:44:28.798601Z"
    },
    "scrolled": true
   },
   "outputs": [],
   "source": [
    "import numpy as np\n",
    "import pandas as pd\n",
    "from datetime import datetime\n",
    "import time\n",
    "\n",
    "import matplotlib.pyplot as plt\n",
    "import matplotlib.ticker as mtick\n",
    "import seaborn as sns\n",
    "import plotly.express as px\n",
    "import plotly.express as px\n",
    "import plotly.graph_objs as go\n",
    "from plotly.subplots import make_subplots\n",
    "import warnings\n",
    "\n",
    "warnings.filterwarnings(\"ignore\")"
   ]
  },
  {
   "cell_type": "markdown",
   "id": "ba6ea5ce",
   "metadata": {},
   "source": [
    "### Pre proceesing libraries"
   ]
  },
  {
   "cell_type": "code",
   "execution_count": 160,
   "id": "93ec0fd0",
   "metadata": {},
   "outputs": [],
   "source": [
    "from sklearn.preprocessing import LabelEncoder"
   ]
  },
  {
   "cell_type": "markdown",
   "id": "8bc4d22d",
   "metadata": {},
   "source": [
    "### Modeling libraries"
   ]
  },
  {
   "cell_type": "code",
   "execution_count": 2,
   "id": "b5825b10",
   "metadata": {},
   "outputs": [],
   "source": [
    "from sklearn.model_selection import train_test_split\n",
    "\n",
    "from imblearn.over_sampling import SMOTE\n",
    "from imblearn.under_sampling import RandomUnderSampler\n",
    "from sklearn.model_selection import RandomizedSearchCV\n",
    "\n",
    "from xgboost import XGBClassifier\n",
    "import xgboost as xgb\n",
    "\n",
    "from scikitplot.metrics import plot_roc\n",
    "from scikitplot.metrics import plot_precision_recall\n",
    "from sklearn.metrics import classification_report, confusion_matrix, accuracy_score"
   ]
  },
  {
   "cell_type": "markdown",
   "id": "4d926e35",
   "metadata": {},
   "source": [
    "# Import dataset"
   ]
  },
  {
   "cell_type": "code",
   "execution_count": 3,
   "id": "d34c790e",
   "metadata": {
    "ExecuteTime": {
     "end_time": "2023-01-30T16:44:36.017907Z",
     "start_time": "2023-01-30T16:44:35.911734Z"
    }
   },
   "outputs": [
    {
     "ename": "NameError",
     "evalue": "name 'pd' is not defined",
     "output_type": "error",
     "traceback": [
      "\u001b[1;31m---------------------------------------------------------------------------\u001b[0m",
      "\u001b[1;31mNameError\u001b[0m                                 Traceback (most recent call last)",
      "Input \u001b[1;32mIn [3]\u001b[0m, in \u001b[0;36m<cell line: 3>\u001b[1;34m()\u001b[0m\n\u001b[0;32m      1\u001b[0m \u001b[38;5;66;03m# import book dataset from the folder where you store it.\u001b[39;00m\n\u001b[0;32m      2\u001b[0m \u001b[38;5;66;03m# change the link below accordinlgy\u001b[39;00m\n\u001b[1;32m----> 3\u001b[0m df\u001b[38;5;241m=\u001b[39m\u001b[43mpd\u001b[49m\u001b[38;5;241m.\u001b[39mread_csv(\u001b[38;5;124m\"\u001b[39m\u001b[38;5;124mC:/Users/romai/Documents/DSTI/4-Python Labs/Project/Python/dataset/books_v2.csv\u001b[39m\u001b[38;5;124m\"\u001b[39m, index_col\u001b[38;5;241m=\u001b[39m\u001b[38;5;124m\"\u001b[39m\u001b[38;5;124mbookID\u001b[39m\u001b[38;5;124m\"\u001b[39m, on_bad_lines \u001b[38;5;241m=\u001b[39m \u001b[38;5;124m'\u001b[39m\u001b[38;5;124merror\u001b[39m\u001b[38;5;124m'\u001b[39m)\n",
      "\u001b[1;31mNameError\u001b[0m: name 'pd' is not defined"
     ]
    }
   ],
   "source": [
    "# import book dataset from the folder where you store it.\n",
    "# change the link below accordinlgy\n",
    "df=pd.read_csv(\"C:/Users/romai/Documents/DSTI/4-Python Labs/Project/Python/dataset/books_v2.csv\", index_col=\"bookID\", on_bad_lines = 'error')"
   ]
  },
  {
   "cell_type": "markdown",
   "id": "06360654",
   "metadata": {},
   "source": [
    "# Data Cleaning & Feature Engineering "
   ]
  },
  {
   "cell_type": "markdown",
   "id": "84800841",
   "metadata": {},
   "source": [
    "## Features"
   ]
  },
  {
   "cell_type": "code",
   "execution_count": 186,
   "id": "e6400878",
   "metadata": {},
   "outputs": [],
   "source": [
    "#Dropping useless columns: isbn and isbn13\n",
    "df = df.drop(columns = ['isbn','isbn13'])"
   ]
  },
  {
   "cell_type": "code",
   "execution_count": 187,
   "id": "7f31d659",
   "metadata": {
    "ExecuteTime": {
     "end_time": "2023-01-30T16:44:36.360491Z",
     "start_time": "2023-01-30T16:44:36.347316Z"
    }
   },
   "outputs": [],
   "source": [
    "#Renaming '  num_pages' in order to remove the extra spaces and displaying columns names\n",
    "df.rename(columns={'  num_pages':'num_pages'}, inplace=True)"
   ]
  },
  {
   "cell_type": "code",
   "execution_count": 188,
   "id": "74f74c10",
   "metadata": {},
   "outputs": [
    {
     "data": {
      "text/plain": [
       "Index(['title', 'authors', 'average_rating', 'language_code', 'num_pages',\n",
       "       'ratings_count', 'text_reviews_count', 'publication_date', 'publisher'],\n",
       "      dtype='object')"
      ]
     },
     "execution_count": 188,
     "metadata": {},
     "output_type": "execute_result"
    }
   ],
   "source": [
    "df.columns"
   ]
  },
  {
   "cell_type": "markdown",
   "id": "615f64f8",
   "metadata": {},
   "source": [
    "### Publication date formatting\n",
    "+create 2 new features: publication_month and publication_year"
   ]
  },
  {
   "cell_type": "code",
   "execution_count": 189,
   "id": "6172fc92",
   "metadata": {},
   "outputs": [],
   "source": [
    "#Change the format of column \"publication_date\" \n",
    "df['publication_date'] = pd.to_datetime(df['publication_date'], dayfirst = False, yearfirst = False, errors = 'coerce')"
   ]
  },
  {
   "cell_type": "code",
   "execution_count": 190,
   "id": "bd74f164",
   "metadata": {},
   "outputs": [
    {
     "data": {
      "text/html": [
       "<div>\n",
       "<style scoped>\n",
       "    .dataframe tbody tr th:only-of-type {\n",
       "        vertical-align: middle;\n",
       "    }\n",
       "\n",
       "    .dataframe tbody tr th {\n",
       "        vertical-align: top;\n",
       "    }\n",
       "\n",
       "    .dataframe thead th {\n",
       "        text-align: right;\n",
       "    }\n",
       "</style>\n",
       "<table border=\"1\" class=\"dataframe\">\n",
       "  <thead>\n",
       "    <tr style=\"text-align: right;\">\n",
       "      <th></th>\n",
       "      <th>title</th>\n",
       "      <th>authors</th>\n",
       "      <th>average_rating</th>\n",
       "      <th>language_code</th>\n",
       "      <th>num_pages</th>\n",
       "      <th>ratings_count</th>\n",
       "      <th>text_reviews_count</th>\n",
       "      <th>publication_date</th>\n",
       "      <th>publisher</th>\n",
       "    </tr>\n",
       "    <tr>\n",
       "      <th>bookID</th>\n",
       "      <th></th>\n",
       "      <th></th>\n",
       "      <th></th>\n",
       "      <th></th>\n",
       "      <th></th>\n",
       "      <th></th>\n",
       "      <th></th>\n",
       "      <th></th>\n",
       "      <th></th>\n",
       "    </tr>\n",
       "  </thead>\n",
       "  <tbody>\n",
       "    <tr>\n",
       "      <th>1</th>\n",
       "      <td>Harry Potter and the Half-Blood Prince (Harry ...</td>\n",
       "      <td>J.K. Rowling/Mary GrandPré</td>\n",
       "      <td>4.57</td>\n",
       "      <td>eng</td>\n",
       "      <td>652</td>\n",
       "      <td>2095690</td>\n",
       "      <td>27591</td>\n",
       "      <td>2006-09-16</td>\n",
       "      <td>Scholastic Inc.</td>\n",
       "    </tr>\n",
       "    <tr>\n",
       "      <th>2</th>\n",
       "      <td>Harry Potter and the Order of the Phoenix (Har...</td>\n",
       "      <td>J.K. Rowling/Mary GrandPré</td>\n",
       "      <td>4.49</td>\n",
       "      <td>eng</td>\n",
       "      <td>870</td>\n",
       "      <td>2153167</td>\n",
       "      <td>29221</td>\n",
       "      <td>2004-09-01</td>\n",
       "      <td>Scholastic Inc.</td>\n",
       "    </tr>\n",
       "  </tbody>\n",
       "</table>\n",
       "</div>"
      ],
      "text/plain": [
       "                                                    title  \\\n",
       "bookID                                                      \n",
       "1       Harry Potter and the Half-Blood Prince (Harry ...   \n",
       "2       Harry Potter and the Order of the Phoenix (Har...   \n",
       "\n",
       "                           authors  average_rating language_code  num_pages  \\\n",
       "bookID                                                                        \n",
       "1       J.K. Rowling/Mary GrandPré            4.57           eng        652   \n",
       "2       J.K. Rowling/Mary GrandPré            4.49           eng        870   \n",
       "\n",
       "        ratings_count  text_reviews_count publication_date        publisher  \n",
       "bookID                                                                       \n",
       "1             2095690               27591       2006-09-16  Scholastic Inc.  \n",
       "2             2153167               29221       2004-09-01  Scholastic Inc.  "
      ]
     },
     "execution_count": 190,
     "metadata": {},
     "output_type": "execute_result"
    }
   ],
   "source": [
    "df.head(2)"
   ]
  },
  {
   "cell_type": "code",
   "execution_count": 191,
   "id": "dd65e2f0",
   "metadata": {},
   "outputs": [
    {
     "data": {
      "text/plain": [
       "title                 0\n",
       "authors               0\n",
       "average_rating        0\n",
       "language_code         0\n",
       "num_pages             0\n",
       "ratings_count         0\n",
       "text_reviews_count    0\n",
       "publication_date      2\n",
       "publisher             0\n",
       "dtype: int64"
      ]
     },
     "execution_count": 191,
     "metadata": {},
     "output_type": "execute_result"
    }
   ],
   "source": [
    "df.isna().sum()"
   ]
  },
  {
   "cell_type": "code",
   "execution_count": 192,
   "id": "8520f67b",
   "metadata": {},
   "outputs": [
    {
     "data": {
      "text/html": [
       "<div>\n",
       "<style scoped>\n",
       "    .dataframe tbody tr th:only-of-type {\n",
       "        vertical-align: middle;\n",
       "    }\n",
       "\n",
       "    .dataframe tbody tr th {\n",
       "        vertical-align: top;\n",
       "    }\n",
       "\n",
       "    .dataframe thead th {\n",
       "        text-align: right;\n",
       "    }\n",
       "</style>\n",
       "<table border=\"1\" class=\"dataframe\">\n",
       "  <thead>\n",
       "    <tr style=\"text-align: right;\">\n",
       "      <th></th>\n",
       "      <th>title</th>\n",
       "      <th>authors</th>\n",
       "      <th>average_rating</th>\n",
       "      <th>language_code</th>\n",
       "      <th>num_pages</th>\n",
       "      <th>ratings_count</th>\n",
       "      <th>text_reviews_count</th>\n",
       "      <th>publication_date</th>\n",
       "      <th>publisher</th>\n",
       "    </tr>\n",
       "    <tr>\n",
       "      <th>bookID</th>\n",
       "      <th></th>\n",
       "      <th></th>\n",
       "      <th></th>\n",
       "      <th></th>\n",
       "      <th></th>\n",
       "      <th></th>\n",
       "      <th></th>\n",
       "      <th></th>\n",
       "      <th></th>\n",
       "    </tr>\n",
       "  </thead>\n",
       "  <tbody>\n",
       "    <tr>\n",
       "      <th>31373</th>\n",
       "      <td>In Pursuit of the Proper Sinner (Inspector Lyn...</td>\n",
       "      <td>Elizabeth  George</td>\n",
       "      <td>4.10</td>\n",
       "      <td>eng</td>\n",
       "      <td>718</td>\n",
       "      <td>10608</td>\n",
       "      <td>295</td>\n",
       "      <td>NaT</td>\n",
       "      <td>Bantam Books</td>\n",
       "    </tr>\n",
       "    <tr>\n",
       "      <th>45531</th>\n",
       "      <td>Montaillou  village occitan de 1294 à 1324</td>\n",
       "      <td>Emmanuel Le Roy Ladurie/Emmanuel Le Roy-Ladurie</td>\n",
       "      <td>3.96</td>\n",
       "      <td>fre</td>\n",
       "      <td>640</td>\n",
       "      <td>15</td>\n",
       "      <td>2</td>\n",
       "      <td>NaT</td>\n",
       "      <td>Folio histoire</td>\n",
       "    </tr>\n",
       "  </tbody>\n",
       "</table>\n",
       "</div>"
      ],
      "text/plain": [
       "                                                    title  \\\n",
       "bookID                                                      \n",
       "31373   In Pursuit of the Proper Sinner (Inspector Lyn...   \n",
       "45531          Montaillou  village occitan de 1294 à 1324   \n",
       "\n",
       "                                                authors  average_rating  \\\n",
       "bookID                                                                    \n",
       "31373                                 Elizabeth  George            4.10   \n",
       "45531   Emmanuel Le Roy Ladurie/Emmanuel Le Roy-Ladurie            3.96   \n",
       "\n",
       "       language_code  num_pages  ratings_count  text_reviews_count  \\\n",
       "bookID                                                               \n",
       "31373            eng        718          10608                 295   \n",
       "45531            fre        640             15                   2   \n",
       "\n",
       "       publication_date       publisher  \n",
       "bookID                                   \n",
       "31373               NaT    Bantam Books  \n",
       "45531               NaT  Folio histoire  "
      ]
     },
     "execution_count": 192,
     "metadata": {},
     "output_type": "execute_result"
    }
   ],
   "source": [
    "df.loc[df.publication_date.isna(),:]"
   ]
  },
  {
   "cell_type": "markdown",
   "id": "417881ab",
   "metadata": {},
   "source": [
    "Those 2 dates are unreal in the sense that\n",
    "    # November doesn't have 31 days (11/31/2000)\n",
    "    # June doesn't have 31 days (31/06/1982)\n",
    "    \n",
    "=> replace by correct date for those 2 rows\n",
    "\n",
    "    #31373 published October 31, 2000 by Bantam Books (https://www.goodreads.com/book/show/31373.In_Pursuit_of_the_Proper_Sinner?ac=1&from_search=true&qid=3A5Zotzgsy&rank=1)\n",
    "    \n",
    "    #45531 published June 30, 1982 by Folio histoire (https://www.goodreads.com/book/show/45531.Montaillou_village_occitan_de_1294_1324)"
   ]
  },
  {
   "cell_type": "code",
   "execution_count": 193,
   "id": "2f3d9e52",
   "metadata": {},
   "outputs": [
    {
     "data": {
      "text/html": [
       "<div>\n",
       "<style scoped>\n",
       "    .dataframe tbody tr th:only-of-type {\n",
       "        vertical-align: middle;\n",
       "    }\n",
       "\n",
       "    .dataframe tbody tr th {\n",
       "        vertical-align: top;\n",
       "    }\n",
       "\n",
       "    .dataframe thead th {\n",
       "        text-align: right;\n",
       "    }\n",
       "</style>\n",
       "<table border=\"1\" class=\"dataframe\">\n",
       "  <thead>\n",
       "    <tr style=\"text-align: right;\">\n",
       "      <th></th>\n",
       "      <th>title</th>\n",
       "      <th>authors</th>\n",
       "      <th>average_rating</th>\n",
       "      <th>language_code</th>\n",
       "      <th>num_pages</th>\n",
       "      <th>ratings_count</th>\n",
       "      <th>text_reviews_count</th>\n",
       "      <th>publication_date</th>\n",
       "      <th>publisher</th>\n",
       "    </tr>\n",
       "    <tr>\n",
       "      <th>bookID</th>\n",
       "      <th></th>\n",
       "      <th></th>\n",
       "      <th></th>\n",
       "      <th></th>\n",
       "      <th></th>\n",
       "      <th></th>\n",
       "      <th></th>\n",
       "      <th></th>\n",
       "      <th></th>\n",
       "    </tr>\n",
       "  </thead>\n",
       "  <tbody>\n",
       "    <tr>\n",
       "      <th>31373</th>\n",
       "      <td>In Pursuit of the Proper Sinner (Inspector Lyn...</td>\n",
       "      <td>Elizabeth  George</td>\n",
       "      <td>4.10</td>\n",
       "      <td>eng</td>\n",
       "      <td>718</td>\n",
       "      <td>10608</td>\n",
       "      <td>295</td>\n",
       "      <td>2000-10-30</td>\n",
       "      <td>Bantam Books</td>\n",
       "    </tr>\n",
       "    <tr>\n",
       "      <th>45531</th>\n",
       "      <td>Montaillou  village occitan de 1294 à 1324</td>\n",
       "      <td>Emmanuel Le Roy Ladurie/Emmanuel Le Roy-Ladurie</td>\n",
       "      <td>3.96</td>\n",
       "      <td>fre</td>\n",
       "      <td>640</td>\n",
       "      <td>15</td>\n",
       "      <td>2</td>\n",
       "      <td>1982-06-30</td>\n",
       "      <td>Folio histoire</td>\n",
       "    </tr>\n",
       "  </tbody>\n",
       "</table>\n",
       "</div>"
      ],
      "text/plain": [
       "                                                    title  \\\n",
       "bookID                                                      \n",
       "31373   In Pursuit of the Proper Sinner (Inspector Lyn...   \n",
       "45531          Montaillou  village occitan de 1294 à 1324   \n",
       "\n",
       "                                                authors  average_rating  \\\n",
       "bookID                                                                    \n",
       "31373                                 Elizabeth  George            4.10   \n",
       "45531   Emmanuel Le Roy Ladurie/Emmanuel Le Roy-Ladurie            3.96   \n",
       "\n",
       "       language_code  num_pages  ratings_count  text_reviews_count  \\\n",
       "bookID                                                               \n",
       "31373            eng        718          10608                 295   \n",
       "45531            fre        640             15                   2   \n",
       "\n",
       "       publication_date       publisher  \n",
       "bookID                                   \n",
       "31373        2000-10-30    Bantam Books  \n",
       "45531        1982-06-30  Folio histoire  "
      ]
     },
     "execution_count": 193,
     "metadata": {},
     "output_type": "execute_result"
    }
   ],
   "source": [
    "#correcting 2 NaT by correct date\n",
    "df.loc[31373,\"publication_date\"]='10/30/2000'\n",
    "df.loc[45531,\"publication_date\"] ='6/30/1982'\n",
    "df.loc[[31373,45531]]"
   ]
  },
  {
   "cell_type": "code",
   "execution_count": 194,
   "id": "5754b2ae",
   "metadata": {},
   "outputs": [
    {
     "data": {
      "text/html": [
       "<div>\n",
       "<style scoped>\n",
       "    .dataframe tbody tr th:only-of-type {\n",
       "        vertical-align: middle;\n",
       "    }\n",
       "\n",
       "    .dataframe tbody tr th {\n",
       "        vertical-align: top;\n",
       "    }\n",
       "\n",
       "    .dataframe thead th {\n",
       "        text-align: right;\n",
       "    }\n",
       "</style>\n",
       "<table border=\"1\" class=\"dataframe\">\n",
       "  <thead>\n",
       "    <tr style=\"text-align: right;\">\n",
       "      <th></th>\n",
       "      <th>title</th>\n",
       "      <th>authors</th>\n",
       "      <th>average_rating</th>\n",
       "      <th>language_code</th>\n",
       "      <th>num_pages</th>\n",
       "      <th>ratings_count</th>\n",
       "      <th>text_reviews_count</th>\n",
       "      <th>publication_date</th>\n",
       "      <th>publisher</th>\n",
       "      <th>publication_month</th>\n",
       "      <th>publication_year</th>\n",
       "    </tr>\n",
       "    <tr>\n",
       "      <th>bookID</th>\n",
       "      <th></th>\n",
       "      <th></th>\n",
       "      <th></th>\n",
       "      <th></th>\n",
       "      <th></th>\n",
       "      <th></th>\n",
       "      <th></th>\n",
       "      <th></th>\n",
       "      <th></th>\n",
       "      <th></th>\n",
       "      <th></th>\n",
       "    </tr>\n",
       "  </thead>\n",
       "  <tbody>\n",
       "    <tr>\n",
       "      <th>1</th>\n",
       "      <td>Harry Potter and the Half-Blood Prince (Harry ...</td>\n",
       "      <td>J.K. Rowling/Mary GrandPré</td>\n",
       "      <td>4.57</td>\n",
       "      <td>eng</td>\n",
       "      <td>652</td>\n",
       "      <td>2095690</td>\n",
       "      <td>27591</td>\n",
       "      <td>2006-09-16</td>\n",
       "      <td>Scholastic Inc.</td>\n",
       "      <td>9</td>\n",
       "      <td>2006</td>\n",
       "    </tr>\n",
       "    <tr>\n",
       "      <th>2</th>\n",
       "      <td>Harry Potter and the Order of the Phoenix (Har...</td>\n",
       "      <td>J.K. Rowling/Mary GrandPré</td>\n",
       "      <td>4.49</td>\n",
       "      <td>eng</td>\n",
       "      <td>870</td>\n",
       "      <td>2153167</td>\n",
       "      <td>29221</td>\n",
       "      <td>2004-09-01</td>\n",
       "      <td>Scholastic Inc.</td>\n",
       "      <td>9</td>\n",
       "      <td>2004</td>\n",
       "    </tr>\n",
       "  </tbody>\n",
       "</table>\n",
       "</div>"
      ],
      "text/plain": [
       "                                                    title  \\\n",
       "bookID                                                      \n",
       "1       Harry Potter and the Half-Blood Prince (Harry ...   \n",
       "2       Harry Potter and the Order of the Phoenix (Har...   \n",
       "\n",
       "                           authors  average_rating language_code  num_pages  \\\n",
       "bookID                                                                        \n",
       "1       J.K. Rowling/Mary GrandPré            4.57           eng        652   \n",
       "2       J.K. Rowling/Mary GrandPré            4.49           eng        870   \n",
       "\n",
       "        ratings_count  text_reviews_count publication_date        publisher  \\\n",
       "bookID                                                                        \n",
       "1             2095690               27591       2006-09-16  Scholastic Inc.   \n",
       "2             2153167               29221       2004-09-01  Scholastic Inc.   \n",
       "\n",
       "        publication_month  publication_year  \n",
       "bookID                                       \n",
       "1                       9              2006  \n",
       "2                       9              2004  "
      ]
     },
     "execution_count": 194,
     "metadata": {},
     "output_type": "execute_result"
    }
   ],
   "source": [
    "# Splitting date column into month and year columns - move in FE\n",
    "df['publication_month'] = df['publication_date'].dt.month\n",
    "df['publication_year'] = df['publication_date'].dt.year\n",
    "\n",
    "\n",
    "df.head(2)"
   ]
  },
  {
   "cell_type": "code",
   "execution_count": 195,
   "id": "d0258936",
   "metadata": {
    "scrolled": true
   },
   "outputs": [
    {
     "data": {
      "text/plain": [
       "<AxesSubplot:xlabel='publication_month', ylabel='average_rating'>"
      ]
     },
     "execution_count": 195,
     "metadata": {},
     "output_type": "execute_result"
    },
    {
     "data": {
      "image/png": "[encoded data removed]",
      "text/plain": [
       "<Figure size 504x360 with 1 Axes>"
      ]
     },
     "metadata": {},
     "output_type": "display_data"
    }
   ],
   "source": [
    "fig = plt.gcf()\n",
    "fig.set_size_inches(7, 5)\n",
    "sns.lineplot(x=\"publication_month\", y=\"average_rating\", data=df)\n",
    "# better rating around end of the year"
   ]
  },
  {
   "cell_type": "code",
   "execution_count": 196,
   "id": "74d2b28e",
   "metadata": {},
   "outputs": [
    {
     "data": {
      "text/plain": [
       "<AxesSubplot:xlabel='publication_year', ylabel='average_rating'>"
      ]
     },
     "execution_count": 196,
     "metadata": {},
     "output_type": "execute_result"
    },
    {
     "data": {
      "image/png": "[encoded data removed]",
      "text/plain": [
       "<Figure size 504x360 with 1 Axes>"
      ]
     },
     "metadata": {},
     "output_type": "display_data"
    }
   ],
   "source": [
    "# Average rating over the years\n",
    "fig = plt.gcf()\n",
    "fig.set_size_inches(7, 5)\n",
    "sns.lineplot(x=\"publication_year\", y=\"average_rating\", data=df)"
   ]
  },
  {
   "cell_type": "markdown",
   "id": "7927e93e",
   "metadata": {},
   "source": [
    "### Language grouping"
   ]
  },
  {
   "cell_type": "code",
   "execution_count": 197,
   "id": "03337fb0",
   "metadata": {},
   "outputs": [],
   "source": [
    "#step 1: group en-us, en-GB and en-CA under 1 language code (eng)\n",
    "df.language_code = df.language_code.replace({'en-US':'eng', 'en-GB':'eng', 'en-CA':'eng'})\n",
    "\n",
    "#step 2: groups of language: english (eng) vs other\n",
    "df['language_code'] = np.where(df['language_code'] != 'eng', 'other', 'eng')"
   ]
  },
  {
   "cell_type": "markdown",
   "id": "c985294e",
   "metadata": {},
   "source": [
    "### Authors"
   ]
  },
  {
   "cell_type": "code",
   "execution_count": 198,
   "id": "bb45e120",
   "metadata": {},
   "outputs": [
    {
     "data": {
      "text/html": [
       "<div>\n",
       "<style scoped>\n",
       "    .dataframe tbody tr th:only-of-type {\n",
       "        vertical-align: middle;\n",
       "    }\n",
       "\n",
       "    .dataframe tbody tr th {\n",
       "        vertical-align: top;\n",
       "    }\n",
       "\n",
       "    .dataframe thead th {\n",
       "        text-align: right;\n",
       "    }\n",
       "</style>\n",
       "<table border=\"1\" class=\"dataframe\">\n",
       "  <thead>\n",
       "    <tr style=\"text-align: right;\">\n",
       "      <th></th>\n",
       "      <th>title</th>\n",
       "      <th>authors</th>\n",
       "      <th>average_rating</th>\n",
       "      <th>language_code</th>\n",
       "      <th>num_pages</th>\n",
       "      <th>ratings_count</th>\n",
       "      <th>text_reviews_count</th>\n",
       "      <th>publication_date</th>\n",
       "      <th>publisher</th>\n",
       "      <th>publication_month</th>\n",
       "      <th>publication_year</th>\n",
       "      <th>number_of_authors</th>\n",
       "      <th>primary_author</th>\n",
       "    </tr>\n",
       "    <tr>\n",
       "      <th>bookID</th>\n",
       "      <th></th>\n",
       "      <th></th>\n",
       "      <th></th>\n",
       "      <th></th>\n",
       "      <th></th>\n",
       "      <th></th>\n",
       "      <th></th>\n",
       "      <th></th>\n",
       "      <th></th>\n",
       "      <th></th>\n",
       "      <th></th>\n",
       "      <th></th>\n",
       "      <th></th>\n",
       "    </tr>\n",
       "  </thead>\n",
       "  <tbody>\n",
       "    <tr>\n",
       "      <th>1</th>\n",
       "      <td>Harry Potter and the Half-Blood Prince (Harry ...</td>\n",
       "      <td>J.K. Rowling/Mary GrandPré</td>\n",
       "      <td>4.57</td>\n",
       "      <td>eng</td>\n",
       "      <td>652</td>\n",
       "      <td>2095690</td>\n",
       "      <td>27591</td>\n",
       "      <td>2006-09-16</td>\n",
       "      <td>Scholastic Inc.</td>\n",
       "      <td>9</td>\n",
       "      <td>2006</td>\n",
       "      <td>multiple</td>\n",
       "      <td>J.K. Rowling</td>\n",
       "    </tr>\n",
       "    <tr>\n",
       "      <th>2</th>\n",
       "      <td>Harry Potter and the Order of the Phoenix (Har...</td>\n",
       "      <td>J.K. Rowling/Mary GrandPré</td>\n",
       "      <td>4.49</td>\n",
       "      <td>eng</td>\n",
       "      <td>870</td>\n",
       "      <td>2153167</td>\n",
       "      <td>29221</td>\n",
       "      <td>2004-09-01</td>\n",
       "      <td>Scholastic Inc.</td>\n",
       "      <td>9</td>\n",
       "      <td>2004</td>\n",
       "      <td>multiple</td>\n",
       "      <td>J.K. Rowling</td>\n",
       "    </tr>\n",
       "    <tr>\n",
       "      <th>4</th>\n",
       "      <td>Harry Potter and the Chamber of Secrets (Harry...</td>\n",
       "      <td>J.K. Rowling</td>\n",
       "      <td>4.42</td>\n",
       "      <td>eng</td>\n",
       "      <td>352</td>\n",
       "      <td>6333</td>\n",
       "      <td>244</td>\n",
       "      <td>2003-11-01</td>\n",
       "      <td>Scholastic</td>\n",
       "      <td>11</td>\n",
       "      <td>2003</td>\n",
       "      <td>single</td>\n",
       "      <td>J.K. Rowling</td>\n",
       "    </tr>\n",
       "  </tbody>\n",
       "</table>\n",
       "</div>"
      ],
      "text/plain": [
       "                                                    title  \\\n",
       "bookID                                                      \n",
       "1       Harry Potter and the Half-Blood Prince (Harry ...   \n",
       "2       Harry Potter and the Order of the Phoenix (Har...   \n",
       "4       Harry Potter and the Chamber of Secrets (Harry...   \n",
       "\n",
       "                           authors  average_rating language_code  num_pages  \\\n",
       "bookID                                                                        \n",
       "1       J.K. Rowling/Mary GrandPré            4.57           eng        652   \n",
       "2       J.K. Rowling/Mary GrandPré            4.49           eng        870   \n",
       "4                     J.K. Rowling            4.42           eng        352   \n",
       "\n",
       "        ratings_count  text_reviews_count publication_date        publisher  \\\n",
       "bookID                                                                        \n",
       "1             2095690               27591       2006-09-16  Scholastic Inc.   \n",
       "2             2153167               29221       2004-09-01  Scholastic Inc.   \n",
       "4                6333                 244       2003-11-01       Scholastic   \n",
       "\n",
       "        publication_month  publication_year number_of_authors primary_author  \n",
       "bookID                                                                        \n",
       "1                       9              2006          multiple   J.K. Rowling  \n",
       "2                       9              2004          multiple   J.K. Rowling  \n",
       "4                      11              2003            single   J.K. Rowling  "
      ]
     },
     "execution_count": 198,
     "metadata": {},
     "output_type": "execute_result"
    }
   ],
   "source": [
    "# create 2 new columns related to author in order to simplify features:\n",
    "# number_of_authors: single author vs multiple authors -> Single/Multiple -> boolean\n",
    "df['number_of_authors']=np.where(df['authors'].str.split(pat=\"/\").str.len()==1, \"single\", \"multiple\")\n",
    "\n",
    "#primary_authror: keep 1st author in case of multiple authors\n",
    "df['primary_author']=df['authors'].str.split(pat=\"/\").str[0]\n",
    "\n",
    "df.head(3)"
   ]
  },
  {
   "cell_type": "code",
   "execution_count": 199,
   "id": "a19eeeb0",
   "metadata": {},
   "outputs": [
    {
     "data": {
      "text/html": [
       "<div>\n",
       "<style scoped>\n",
       "    .dataframe tbody tr th:only-of-type {\n",
       "        vertical-align: middle;\n",
       "    }\n",
       "\n",
       "    .dataframe tbody tr th {\n",
       "        vertical-align: top;\n",
       "    }\n",
       "\n",
       "    .dataframe thead th {\n",
       "        text-align: right;\n",
       "    }\n",
       "</style>\n",
       "<table border=\"1\" class=\"dataframe\">\n",
       "  <thead>\n",
       "    <tr style=\"text-align: right;\">\n",
       "      <th></th>\n",
       "      <th>count</th>\n",
       "      <th>mean</th>\n",
       "      <th>std</th>\n",
       "      <th>min</th>\n",
       "      <th>25%</th>\n",
       "      <th>50%</th>\n",
       "      <th>75%</th>\n",
       "      <th>max</th>\n",
       "    </tr>\n",
       "    <tr>\n",
       "      <th>number_of_authors</th>\n",
       "      <th></th>\n",
       "      <th></th>\n",
       "      <th></th>\n",
       "      <th></th>\n",
       "      <th></th>\n",
       "      <th></th>\n",
       "      <th></th>\n",
       "      <th></th>\n",
       "    </tr>\n",
       "  </thead>\n",
       "  <tbody>\n",
       "    <tr>\n",
       "      <th>multiple</th>\n",
       "      <td>4564.0</td>\n",
       "      <td>3.964963</td>\n",
       "      <td>0.357029</td>\n",
       "      <td>0.0</td>\n",
       "      <td>3.8075</td>\n",
       "      <td>3.99</td>\n",
       "      <td>4.17</td>\n",
       "      <td>5.0</td>\n",
       "    </tr>\n",
       "    <tr>\n",
       "      <th>single</th>\n",
       "      <td>6563.0</td>\n",
       "      <td>3.911842</td>\n",
       "      <td>0.347588</td>\n",
       "      <td>0.0</td>\n",
       "      <td>3.7500</td>\n",
       "      <td>3.94</td>\n",
       "      <td>4.11</td>\n",
       "      <td>5.0</td>\n",
       "    </tr>\n",
       "  </tbody>\n",
       "</table>\n",
       "</div>"
      ],
      "text/plain": [
       "                    count      mean       std  min     25%   50%   75%  max\n",
       "number_of_authors                                                          \n",
       "multiple           4564.0  3.964963  0.357029  0.0  3.8075  3.99  4.17  5.0\n",
       "single             6563.0  3.911842  0.347588  0.0  3.7500  3.94  4.11  5.0"
      ]
     },
     "execution_count": 199,
     "metadata": {},
     "output_type": "execute_result"
    }
   ],
   "source": [
    "df.groupby([\"number_of_authors\"]).describe().average_rating"
   ]
  },
  {
   "cell_type": "markdown",
   "id": "9636f67f",
   "metadata": {},
   "source": [
    "A bit more books with multiple authors but average_rating quite similar\n",
    "***"
   ]
  },
  {
   "cell_type": "markdown",
   "id": "4d8a7dbe",
   "metadata": {},
   "source": [
    "How many books per author? Can we create a new feature (author_total_book)"
   ]
  },
  {
   "cell_type": "code",
   "execution_count": 200,
   "id": "81abd18b",
   "metadata": {},
   "outputs": [
    {
     "data": {
      "text/html": [
       "<div>\n",
       "<style scoped>\n",
       "    .dataframe tbody tr th:only-of-type {\n",
       "        vertical-align: middle;\n",
       "    }\n",
       "\n",
       "    .dataframe tbody tr th {\n",
       "        vertical-align: top;\n",
       "    }\n",
       "\n",
       "    .dataframe thead th {\n",
       "        text-align: right;\n",
       "    }\n",
       "</style>\n",
       "<table border=\"1\" class=\"dataframe\">\n",
       "  <thead>\n",
       "    <tr style=\"text-align: right;\">\n",
       "      <th></th>\n",
       "      <th>title</th>\n",
       "      <th>authors</th>\n",
       "      <th>average_rating</th>\n",
       "      <th>language_code</th>\n",
       "      <th>num_pages</th>\n",
       "      <th>ratings_count</th>\n",
       "      <th>text_reviews_count</th>\n",
       "      <th>publication_date</th>\n",
       "      <th>publisher</th>\n",
       "      <th>publication_month</th>\n",
       "      <th>publication_year</th>\n",
       "      <th>number_of_authors</th>\n",
       "      <th>primary_author</th>\n",
       "      <th>author_total_book</th>\n",
       "    </tr>\n",
       "    <tr>\n",
       "      <th>bookID</th>\n",
       "      <th></th>\n",
       "      <th></th>\n",
       "      <th></th>\n",
       "      <th></th>\n",
       "      <th></th>\n",
       "      <th></th>\n",
       "      <th></th>\n",
       "      <th></th>\n",
       "      <th></th>\n",
       "      <th></th>\n",
       "      <th></th>\n",
       "      <th></th>\n",
       "      <th></th>\n",
       "      <th></th>\n",
       "    </tr>\n",
       "  </thead>\n",
       "  <tbody>\n",
       "    <tr>\n",
       "      <th>1</th>\n",
       "      <td>Harry Potter and the Half-Blood Prince (Harry ...</td>\n",
       "      <td>J.K. Rowling/Mary GrandPré</td>\n",
       "      <td>4.57</td>\n",
       "      <td>eng</td>\n",
       "      <td>652</td>\n",
       "      <td>2095690</td>\n",
       "      <td>27591</td>\n",
       "      <td>2006-09-16</td>\n",
       "      <td>Scholastic Inc.</td>\n",
       "      <td>9</td>\n",
       "      <td>2006</td>\n",
       "      <td>multiple</td>\n",
       "      <td>J.K. Rowling</td>\n",
       "      <td>24.0</td>\n",
       "    </tr>\n",
       "    <tr>\n",
       "      <th>2</th>\n",
       "      <td>Harry Potter and the Order of the Phoenix (Har...</td>\n",
       "      <td>J.K. Rowling/Mary GrandPré</td>\n",
       "      <td>4.49</td>\n",
       "      <td>eng</td>\n",
       "      <td>870</td>\n",
       "      <td>2153167</td>\n",
       "      <td>29221</td>\n",
       "      <td>2004-09-01</td>\n",
       "      <td>Scholastic Inc.</td>\n",
       "      <td>9</td>\n",
       "      <td>2004</td>\n",
       "      <td>multiple</td>\n",
       "      <td>J.K. Rowling</td>\n",
       "      <td>24.0</td>\n",
       "    </tr>\n",
       "    <tr>\n",
       "      <th>4</th>\n",
       "      <td>Harry Potter and the Chamber of Secrets (Harry...</td>\n",
       "      <td>J.K. Rowling</td>\n",
       "      <td>4.42</td>\n",
       "      <td>eng</td>\n",
       "      <td>352</td>\n",
       "      <td>6333</td>\n",
       "      <td>244</td>\n",
       "      <td>2003-11-01</td>\n",
       "      <td>Scholastic</td>\n",
       "      <td>11</td>\n",
       "      <td>2003</td>\n",
       "      <td>single</td>\n",
       "      <td>J.K. Rowling</td>\n",
       "      <td>24.0</td>\n",
       "    </tr>\n",
       "  </tbody>\n",
       "</table>\n",
       "</div>"
      ],
      "text/plain": [
       "                                                    title  \\\n",
       "bookID                                                      \n",
       "1       Harry Potter and the Half-Blood Prince (Harry ...   \n",
       "2       Harry Potter and the Order of the Phoenix (Har...   \n",
       "4       Harry Potter and the Chamber of Secrets (Harry...   \n",
       "\n",
       "                           authors  average_rating language_code  num_pages  \\\n",
       "bookID                                                                        \n",
       "1       J.K. Rowling/Mary GrandPré            4.57           eng        652   \n",
       "2       J.K. Rowling/Mary GrandPré            4.49           eng        870   \n",
       "4                     J.K. Rowling            4.42           eng        352   \n",
       "\n",
       "        ratings_count  text_reviews_count publication_date        publisher  \\\n",
       "bookID                                                                        \n",
       "1             2095690               27591       2006-09-16  Scholastic Inc.   \n",
       "2             2153167               29221       2004-09-01  Scholastic Inc.   \n",
       "4                6333                 244       2003-11-01       Scholastic   \n",
       "\n",
       "        publication_month  publication_year number_of_authors primary_author  \\\n",
       "bookID                                                                         \n",
       "1                       9              2006          multiple   J.K. Rowling   \n",
       "2                       9              2004          multiple   J.K. Rowling   \n",
       "4                      11              2003            single   J.K. Rowling   \n",
       "\n",
       "        author_total_book  \n",
       "bookID                     \n",
       "1                    24.0  \n",
       "2                    24.0  \n",
       "4                    24.0  "
      ]
     },
     "execution_count": 200,
     "metadata": {},
     "output_type": "execute_result"
    }
   ],
   "source": [
    "author_dict=df.groupby('primary_author').average_rating.count().to_dict()\n",
    "\n",
    "for author in author_dict.keys():\n",
    "    author_index = df.loc[(df.primary_author == author),:].index\n",
    "    df.loc[author_index,\"author_total_book\"] = author_dict[author]\n",
    "\n",
    "df.head(3)"
   ]
  },
  {
   "cell_type": "markdown",
   "id": "50afb148",
   "metadata": {},
   "source": [
    "### Title\n",
    "\n",
    "Let's create a new feature: title_len (= length of the title)"
   ]
  },
  {
   "cell_type": "code",
   "execution_count": 201,
   "id": "6bd237a2",
   "metadata": {},
   "outputs": [],
   "source": [
    "df['title_len']=df['title'].str.len()"
   ]
  },
  {
   "cell_type": "code",
   "execution_count": 202,
   "id": "1d09cb5f",
   "metadata": {},
   "outputs": [
    {
     "data": {
      "text/html": [
       "<div>\n",
       "<style scoped>\n",
       "    .dataframe tbody tr th:only-of-type {\n",
       "        vertical-align: middle;\n",
       "    }\n",
       "\n",
       "    .dataframe tbody tr th {\n",
       "        vertical-align: top;\n",
       "    }\n",
       "\n",
       "    .dataframe thead th {\n",
       "        text-align: right;\n",
       "    }\n",
       "</style>\n",
       "<table border=\"1\" class=\"dataframe\">\n",
       "  <thead>\n",
       "    <tr style=\"text-align: right;\">\n",
       "      <th></th>\n",
       "      <th>title</th>\n",
       "      <th>authors</th>\n",
       "      <th>average_rating</th>\n",
       "      <th>language_code</th>\n",
       "      <th>num_pages</th>\n",
       "      <th>ratings_count</th>\n",
       "      <th>text_reviews_count</th>\n",
       "      <th>publication_date</th>\n",
       "      <th>publisher</th>\n",
       "      <th>publication_month</th>\n",
       "      <th>publication_year</th>\n",
       "      <th>number_of_authors</th>\n",
       "      <th>primary_author</th>\n",
       "      <th>author_total_book</th>\n",
       "      <th>title_len</th>\n",
       "    </tr>\n",
       "    <tr>\n",
       "      <th>bookID</th>\n",
       "      <th></th>\n",
       "      <th></th>\n",
       "      <th></th>\n",
       "      <th></th>\n",
       "      <th></th>\n",
       "      <th></th>\n",
       "      <th></th>\n",
       "      <th></th>\n",
       "      <th></th>\n",
       "      <th></th>\n",
       "      <th></th>\n",
       "      <th></th>\n",
       "      <th></th>\n",
       "      <th></th>\n",
       "      <th></th>\n",
       "    </tr>\n",
       "  </thead>\n",
       "  <tbody>\n",
       "    <tr>\n",
       "      <th>1</th>\n",
       "      <td>Harry Potter and the Half-Blood Prince (Harry ...</td>\n",
       "      <td>J.K. Rowling/Mary GrandPré</td>\n",
       "      <td>4.57</td>\n",
       "      <td>eng</td>\n",
       "      <td>652</td>\n",
       "      <td>2095690</td>\n",
       "      <td>27591</td>\n",
       "      <td>2006-09-16</td>\n",
       "      <td>Scholastic Inc.</td>\n",
       "      <td>9</td>\n",
       "      <td>2006</td>\n",
       "      <td>multiple</td>\n",
       "      <td>J.K. Rowling</td>\n",
       "      <td>24.0</td>\n",
       "      <td>57</td>\n",
       "    </tr>\n",
       "    <tr>\n",
       "      <th>2</th>\n",
       "      <td>Harry Potter and the Order of the Phoenix (Har...</td>\n",
       "      <td>J.K. Rowling/Mary GrandPré</td>\n",
       "      <td>4.49</td>\n",
       "      <td>eng</td>\n",
       "      <td>870</td>\n",
       "      <td>2153167</td>\n",
       "      <td>29221</td>\n",
       "      <td>2004-09-01</td>\n",
       "      <td>Scholastic Inc.</td>\n",
       "      <td>9</td>\n",
       "      <td>2004</td>\n",
       "      <td>multiple</td>\n",
       "      <td>J.K. Rowling</td>\n",
       "      <td>24.0</td>\n",
       "      <td>60</td>\n",
       "    </tr>\n",
       "  </tbody>\n",
       "</table>\n",
       "</div>"
      ],
      "text/plain": [
       "                                                    title  \\\n",
       "bookID                                                      \n",
       "1       Harry Potter and the Half-Blood Prince (Harry ...   \n",
       "2       Harry Potter and the Order of the Phoenix (Har...   \n",
       "\n",
       "                           authors  average_rating language_code  num_pages  \\\n",
       "bookID                                                                        \n",
       "1       J.K. Rowling/Mary GrandPré            4.57           eng        652   \n",
       "2       J.K. Rowling/Mary GrandPré            4.49           eng        870   \n",
       "\n",
       "        ratings_count  text_reviews_count publication_date        publisher  \\\n",
       "bookID                                                                        \n",
       "1             2095690               27591       2006-09-16  Scholastic Inc.   \n",
       "2             2153167               29221       2004-09-01  Scholastic Inc.   \n",
       "\n",
       "        publication_month  publication_year number_of_authors primary_author  \\\n",
       "bookID                                                                         \n",
       "1                       9              2006          multiple   J.K. Rowling   \n",
       "2                       9              2004          multiple   J.K. Rowling   \n",
       "\n",
       "        author_total_book  title_len  \n",
       "bookID                                \n",
       "1                    24.0         57  \n",
       "2                    24.0         60  "
      ]
     },
     "execution_count": 202,
     "metadata": {},
     "output_type": "execute_result"
    }
   ],
   "source": [
    "df.head(2)"
   ]
  },
  {
   "cell_type": "markdown",
   "id": "6f58d124",
   "metadata": {},
   "source": [
    "## Target variable"
   ]
  },
  {
   "cell_type": "markdown",
   "id": "f99b55bb",
   "metadata": {},
   "source": [
    "### Average rating categorization"
   ]
  },
  {
   "cell_type": "code",
   "execution_count": 203,
   "id": "d40daa5a",
   "metadata": {},
   "outputs": [],
   "source": [
    "# create 3 categories 0: Low < 3, 1: Mid between 3 and 4 (excl) and 3:high above 4 (5.001 to include the rating = 5)\n",
    "bins = [ 0,3, 4, 5.001]\n",
    "label = [0, 1, 2]\n",
    "df['cat_rating'] = pd.cut(df['average_rating'], bins, labels=label, right = False)"
   ]
  },
  {
   "cell_type": "code",
   "execution_count": 204,
   "id": "564db747",
   "metadata": {},
   "outputs": [
    {
     "data": {
      "text/plain": [
       "cat_rating\n",
       "0      85\n",
       "1    6088\n",
       "2    4954\n",
       "Name: average_rating, dtype: int64"
      ]
     },
     "execution_count": 204,
     "metadata": {},
     "output_type": "execute_result"
    }
   ],
   "source": [
    "df.groupby([\"cat_rating\"]).count().average_rating"
   ]
  },
  {
   "cell_type": "markdown",
   "id": "1b583d03",
   "metadata": {},
   "source": [
    "**=>Imbalanced data** between Low and Mid / High - => SMOTE and undersampling required :)"
   ]
  },
  {
   "cell_type": "markdown",
   "id": "1e273066",
   "metadata": {},
   "source": [
    "### average_rating vs ratings_counts & text_reviews_counts"
   ]
  },
  {
   "cell_type": "code",
   "execution_count": 205,
   "id": "44b79e5e",
   "metadata": {},
   "outputs": [
    {
     "name": "stdout",
     "output_type": "stream",
     "text": [
      "Number of average_rating = 0:  26\n",
      "Number of rating_counts = 0:  81\n"
     ]
    }
   ],
   "source": [
    "print('Number of average_rating = 0: ', df['average_rating'].value_counts()[0])\n",
    "print('Number of rating_counts = 0: ', df['ratings_count'].value_counts()[0])"
   ]
  },
  {
   "cell_type": "code",
   "execution_count": 206,
   "id": "587a68a0",
   "metadata": {},
   "outputs": [
    {
     "data": {
      "text/html": [
       "<div>\n",
       "<style scoped>\n",
       "    .dataframe tbody tr th:only-of-type {\n",
       "        vertical-align: middle;\n",
       "    }\n",
       "\n",
       "    .dataframe tbody tr th {\n",
       "        vertical-align: top;\n",
       "    }\n",
       "\n",
       "    .dataframe thead th {\n",
       "        text-align: right;\n",
       "    }\n",
       "</style>\n",
       "<table border=\"1\" class=\"dataframe\">\n",
       "  <thead>\n",
       "    <tr style=\"text-align: right;\">\n",
       "      <th></th>\n",
       "      <th>title</th>\n",
       "      <th>authors</th>\n",
       "      <th>average_rating</th>\n",
       "      <th>language_code</th>\n",
       "      <th>num_pages</th>\n",
       "      <th>ratings_count</th>\n",
       "      <th>text_reviews_count</th>\n",
       "      <th>publication_date</th>\n",
       "      <th>publisher</th>\n",
       "      <th>publication_month</th>\n",
       "      <th>publication_year</th>\n",
       "      <th>number_of_authors</th>\n",
       "      <th>primary_author</th>\n",
       "      <th>author_total_book</th>\n",
       "      <th>title_len</th>\n",
       "      <th>cat_rating</th>\n",
       "    </tr>\n",
       "    <tr>\n",
       "      <th>bookID</th>\n",
       "      <th></th>\n",
       "      <th></th>\n",
       "      <th></th>\n",
       "      <th></th>\n",
       "      <th></th>\n",
       "      <th></th>\n",
       "      <th></th>\n",
       "      <th></th>\n",
       "      <th></th>\n",
       "      <th></th>\n",
       "      <th></th>\n",
       "      <th></th>\n",
       "      <th></th>\n",
       "      <th></th>\n",
       "      <th></th>\n",
       "      <th></th>\n",
       "    </tr>\n",
       "  </thead>\n",
       "  <tbody>\n",
       "    <tr>\n",
       "      <th>41044</th>\n",
       "      <td>Day and Night</td>\n",
       "      <td>Better Homes and Gardens</td>\n",
       "      <td>0.0</td>\n",
       "      <td>eng</td>\n",
       "      <td>32</td>\n",
       "      <td>0</td>\n",
       "      <td>1</td>\n",
       "      <td>1989-03-01</td>\n",
       "      <td>Meredith Corporation</td>\n",
       "      <td>3</td>\n",
       "      <td>1989</td>\n",
       "      <td>single</td>\n",
       "      <td>Better Homes and Gardens</td>\n",
       "      <td>1.0</td>\n",
       "      <td>13</td>\n",
       "      <td>0</td>\n",
       "    </tr>\n",
       "  </tbody>\n",
       "</table>\n",
       "</div>"
      ],
      "text/plain": [
       "                title                   authors  average_rating language_code  \\\n",
       "bookID                                                                          \n",
       "41044   Day and Night  Better Homes and Gardens             0.0           eng   \n",
       "\n",
       "        num_pages  ratings_count  text_reviews_count publication_date  \\\n",
       "bookID                                                                  \n",
       "41044          32              0                   1       1989-03-01   \n",
       "\n",
       "                   publisher  publication_month  publication_year  \\\n",
       "bookID                                                              \n",
       "41044   Meredith Corporation                  3              1989   \n",
       "\n",
       "       number_of_authors            primary_author  author_total_book  \\\n",
       "bookID                                                                  \n",
       "41044             single  Better Homes and Gardens                1.0   \n",
       "\n",
       "        title_len cat_rating  \n",
       "bookID                        \n",
       "41044          13          0  "
      ]
     },
     "execution_count": 206,
     "metadata": {},
     "output_type": "execute_result"
    }
   ],
   "source": [
    "df[df.average_rating==0].loc[df.text_reviews_count!=0]\n",
    "#1 text review but no rating associated (ratings count =0)"
   ]
  },
  {
   "cell_type": "markdown",
   "id": "d41980f3",
   "metadata": {},
   "source": [
    "* Rating = 0 with rating_count = 0 (n=26) -> is it relevant to keep it or should we replace by the average rating?\n",
    "* Average_rating != 0 but no ratings_count or texte_reviews_count? how to consider them\n",
    "\n",
    "=> We keep those 26 rows modifying values in ratings_counts by 1 (rate of 0 is possible <=> at least 1 ratings_count\n",
    "***"
   ]
  },
  {
   "cell_type": "code",
   "execution_count": 207,
   "id": "d6bf3bc6",
   "metadata": {},
   "outputs": [],
   "source": [
    "df.loc[(df['ratings_count']== 0) & (df['average_rating']==0), 'ratings_count'] = 1"
   ]
  },
  {
   "cell_type": "code",
   "execution_count": 208,
   "id": "e03432e7",
   "metadata": {
    "scrolled": true
   },
   "outputs": [
    {
     "name": "stdout",
     "output_type": "stream",
     "text": [
      "Number of average_rating = 0:  26\n",
      "Number of rating_counts = 0:  55\n"
     ]
    }
   ],
   "source": [
    "print('Number of average_rating = 0: ', df['average_rating'].value_counts()[0])\n",
    "print('Number of rating_counts = 0: ', df['ratings_count'].value_counts()[0]) #80-26=54"
   ]
  },
  {
   "cell_type": "markdown",
   "id": "57538970",
   "metadata": {},
   "source": [
    "We have still 55 rating_count equal to 0 whereas we have an average_rating at least equal to 1 => how can we have a rating without any count? <br>\n"
   ]
  },
  {
   "cell_type": "code",
   "execution_count": 209,
   "id": "38a4d8e3",
   "metadata": {
    "scrolled": true
   },
   "outputs": [
    {
     "data": {
      "text/html": [
       "<div>\n",
       "<style scoped>\n",
       "    .dataframe tbody tr th:only-of-type {\n",
       "        vertical-align: middle;\n",
       "    }\n",
       "\n",
       "    .dataframe tbody tr th {\n",
       "        vertical-align: top;\n",
       "    }\n",
       "\n",
       "    .dataframe thead th {\n",
       "        text-align: right;\n",
       "    }\n",
       "</style>\n",
       "<table border=\"1\" class=\"dataframe\">\n",
       "  <thead>\n",
       "    <tr style=\"text-align: right;\">\n",
       "      <th></th>\n",
       "      <th>title</th>\n",
       "      <th>authors</th>\n",
       "      <th>average_rating</th>\n",
       "      <th>language_code</th>\n",
       "      <th>num_pages</th>\n",
       "      <th>ratings_count</th>\n",
       "      <th>text_reviews_count</th>\n",
       "      <th>publication_date</th>\n",
       "      <th>publisher</th>\n",
       "      <th>publication_month</th>\n",
       "      <th>publication_year</th>\n",
       "      <th>number_of_authors</th>\n",
       "      <th>primary_author</th>\n",
       "      <th>author_total_book</th>\n",
       "      <th>title_len</th>\n",
       "      <th>cat_rating</th>\n",
       "    </tr>\n",
       "    <tr>\n",
       "      <th>bookID</th>\n",
       "      <th></th>\n",
       "      <th></th>\n",
       "      <th></th>\n",
       "      <th></th>\n",
       "      <th></th>\n",
       "      <th></th>\n",
       "      <th></th>\n",
       "      <th></th>\n",
       "      <th></th>\n",
       "      <th></th>\n",
       "      <th></th>\n",
       "      <th></th>\n",
       "      <th></th>\n",
       "      <th></th>\n",
       "      <th></th>\n",
       "      <th></th>\n",
       "    </tr>\n",
       "  </thead>\n",
       "  <tbody>\n",
       "    <tr>\n",
       "      <th>797</th>\n",
       "      <td>Lonely Planet Londres</td>\n",
       "      <td>Lonely Planet/Sarah Johnstone/Tom Masters</td>\n",
       "      <td>4.03</td>\n",
       "      <td>other</td>\n",
       "      <td>480</td>\n",
       "      <td>0</td>\n",
       "      <td>0</td>\n",
       "      <td>2006-05-01</td>\n",
       "      <td>Geoplaneta</td>\n",
       "      <td>5</td>\n",
       "      <td>2006</td>\n",
       "      <td>multiple</td>\n",
       "      <td>Lonely Planet</td>\n",
       "      <td>3.0</td>\n",
       "      <td>21</td>\n",
       "      <td>2</td>\n",
       "    </tr>\n",
       "    <tr>\n",
       "      <th>1658</th>\n",
       "      <td>American Government: Continuity and Change  Al...</td>\n",
       "      <td>Karen  O'Connor/Larry J. Sabato</td>\n",
       "      <td>2.83</td>\n",
       "      <td>eng</td>\n",
       "      <td>664</td>\n",
       "      <td>0</td>\n",
       "      <td>0</td>\n",
       "      <td>2005-03-11</td>\n",
       "      <td>Longman Publishing Group</td>\n",
       "      <td>3</td>\n",
       "      <td>2005</td>\n",
       "      <td>multiple</td>\n",
       "      <td>Karen  O'Connor</td>\n",
       "      <td>5.0</td>\n",
       "      <td>61</td>\n",
       "      <td>0</td>\n",
       "    </tr>\n",
       "    <tr>\n",
       "      <th>1664</th>\n",
       "      <td>Essentials of American and Texas Government: C...</td>\n",
       "      <td>Karen  O'Connor/Larry J. Sabato</td>\n",
       "      <td>3.50</td>\n",
       "      <td>eng</td>\n",
       "      <td>854</td>\n",
       "      <td>0</td>\n",
       "      <td>0</td>\n",
       "      <td>2005-07-29</td>\n",
       "      <td>Longman Publishing Group</td>\n",
       "      <td>7</td>\n",
       "      <td>2005</td>\n",
       "      <td>multiple</td>\n",
       "      <td>Karen  O'Connor</td>\n",
       "      <td>5.0</td>\n",
       "      <td>66</td>\n",
       "      <td>1</td>\n",
       "    </tr>\n",
       "  </tbody>\n",
       "</table>\n",
       "</div>"
      ],
      "text/plain": [
       "                                                    title  \\\n",
       "bookID                                                      \n",
       "797                                 Lonely Planet Londres   \n",
       "1658    American Government: Continuity and Change  Al...   \n",
       "1664    Essentials of American and Texas Government: C...   \n",
       "\n",
       "                                          authors  average_rating  \\\n",
       "bookID                                                              \n",
       "797     Lonely Planet/Sarah Johnstone/Tom Masters            4.03   \n",
       "1658              Karen  O'Connor/Larry J. Sabato            2.83   \n",
       "1664              Karen  O'Connor/Larry J. Sabato            3.50   \n",
       "\n",
       "       language_code  num_pages  ratings_count  text_reviews_count  \\\n",
       "bookID                                                               \n",
       "797            other        480              0                   0   \n",
       "1658             eng        664              0                   0   \n",
       "1664             eng        854              0                   0   \n",
       "\n",
       "       publication_date                 publisher  publication_month  \\\n",
       "bookID                                                                 \n",
       "797          2006-05-01                Geoplaneta                  5   \n",
       "1658         2005-03-11  Longman Publishing Group                  3   \n",
       "1664         2005-07-29  Longman Publishing Group                  7   \n",
       "\n",
       "        publication_year number_of_authors   primary_author  \\\n",
       "bookID                                                        \n",
       "797                 2006          multiple    Lonely Planet   \n",
       "1658                2005          multiple  Karen  O'Connor   \n",
       "1664                2005          multiple  Karen  O'Connor   \n",
       "\n",
       "        author_total_book  title_len cat_rating  \n",
       "bookID                                           \n",
       "797                   3.0         21          2  \n",
       "1658                  5.0         61          0  \n",
       "1664                  5.0         66          1  "
      ]
     },
     "execution_count": 209,
     "metadata": {},
     "output_type": "execute_result"
    }
   ],
   "source": [
    "df[df.ratings_count==0].head(3)"
   ]
  },
  {
   "cell_type": "markdown",
   "id": "54a11922",
   "metadata": {},
   "source": [
    "We decide to replace ratings_counts = 0 by average ratings_counts of the corresponding rating category"
   ]
  },
  {
   "cell_type": "code",
   "execution_count": 210,
   "id": "5b96c6bb",
   "metadata": {},
   "outputs": [
    {
     "name": "stdout",
     "output_type": "stream",
     "text": [
      "{0: 768.5176470588235, 1: 15089.132720105124, 2: 21730.01332256762}\n",
      "\n",
      " ID7400 before: 0\n",
      "\n",
      " ID7400 after: 15089.132720105124\n"
     ]
    }
   ],
   "source": [
    "avg_count = df.groupby([\"cat_rating\"]).mean().ratings_count.to_dict()\n",
    "print(avg_count)\n",
    "\n",
    "check= df.loc[7400].ratings_count\n",
    "\n",
    "for rate in avg_count.keys():\n",
    "    temp_df = df.loc[(df.cat_rating == rate),:]\n",
    "    missing_values_index = temp_df.loc[temp_df.ratings_count == 0].index\n",
    "    df.loc[missing_values_index,\"ratings_count\"] = avg_count[rate]\n",
    "\n",
    "print ('\\n ID7400 before:',check)\n",
    "print ('\\n ID7400 after:',df.loc[7400].ratings_count)"
   ]
  },
  {
   "cell_type": "markdown",
   "id": "b4261179",
   "metadata": {},
   "source": [
    "New feature: **text_review_rate** which represents the rate of comments let by reader"
   ]
  },
  {
   "cell_type": "code",
   "execution_count": 211,
   "id": "3dff0619",
   "metadata": {},
   "outputs": [
    {
     "data": {
      "text/html": [
       "<div>\n",
       "<style scoped>\n",
       "    .dataframe tbody tr th:only-of-type {\n",
       "        vertical-align: middle;\n",
       "    }\n",
       "\n",
       "    .dataframe tbody tr th {\n",
       "        vertical-align: top;\n",
       "    }\n",
       "\n",
       "    .dataframe thead th {\n",
       "        text-align: right;\n",
       "    }\n",
       "</style>\n",
       "<table border=\"1\" class=\"dataframe\">\n",
       "  <thead>\n",
       "    <tr style=\"text-align: right;\">\n",
       "      <th></th>\n",
       "      <th>title</th>\n",
       "      <th>authors</th>\n",
       "      <th>average_rating</th>\n",
       "      <th>language_code</th>\n",
       "      <th>num_pages</th>\n",
       "      <th>ratings_count</th>\n",
       "      <th>text_reviews_count</th>\n",
       "      <th>publication_date</th>\n",
       "      <th>publisher</th>\n",
       "      <th>publication_month</th>\n",
       "      <th>publication_year</th>\n",
       "      <th>number_of_authors</th>\n",
       "      <th>primary_author</th>\n",
       "      <th>author_total_book</th>\n",
       "      <th>title_len</th>\n",
       "      <th>cat_rating</th>\n",
       "      <th>text_review_rate</th>\n",
       "    </tr>\n",
       "    <tr>\n",
       "      <th>bookID</th>\n",
       "      <th></th>\n",
       "      <th></th>\n",
       "      <th></th>\n",
       "      <th></th>\n",
       "      <th></th>\n",
       "      <th></th>\n",
       "      <th></th>\n",
       "      <th></th>\n",
       "      <th></th>\n",
       "      <th></th>\n",
       "      <th></th>\n",
       "      <th></th>\n",
       "      <th></th>\n",
       "      <th></th>\n",
       "      <th></th>\n",
       "      <th></th>\n",
       "      <th></th>\n",
       "    </tr>\n",
       "  </thead>\n",
       "  <tbody>\n",
       "    <tr>\n",
       "      <th>1</th>\n",
       "      <td>Harry Potter and the Half-Blood Prince (Harry ...</td>\n",
       "      <td>J.K. Rowling/Mary GrandPré</td>\n",
       "      <td>4.57</td>\n",
       "      <td>eng</td>\n",
       "      <td>652</td>\n",
       "      <td>2095690.0</td>\n",
       "      <td>27591</td>\n",
       "      <td>2006-09-16</td>\n",
       "      <td>Scholastic Inc.</td>\n",
       "      <td>9</td>\n",
       "      <td>2006</td>\n",
       "      <td>multiple</td>\n",
       "      <td>J.K. Rowling</td>\n",
       "      <td>24.0</td>\n",
       "      <td>57</td>\n",
       "      <td>2</td>\n",
       "      <td>0.013166</td>\n",
       "    </tr>\n",
       "    <tr>\n",
       "      <th>2</th>\n",
       "      <td>Harry Potter and the Order of the Phoenix (Har...</td>\n",
       "      <td>J.K. Rowling/Mary GrandPré</td>\n",
       "      <td>4.49</td>\n",
       "      <td>eng</td>\n",
       "      <td>870</td>\n",
       "      <td>2153167.0</td>\n",
       "      <td>29221</td>\n",
       "      <td>2004-09-01</td>\n",
       "      <td>Scholastic Inc.</td>\n",
       "      <td>9</td>\n",
       "      <td>2004</td>\n",
       "      <td>multiple</td>\n",
       "      <td>J.K. Rowling</td>\n",
       "      <td>24.0</td>\n",
       "      <td>60</td>\n",
       "      <td>2</td>\n",
       "      <td>0.013571</td>\n",
       "    </tr>\n",
       "    <tr>\n",
       "      <th>4</th>\n",
       "      <td>Harry Potter and the Chamber of Secrets (Harry...</td>\n",
       "      <td>J.K. Rowling</td>\n",
       "      <td>4.42</td>\n",
       "      <td>eng</td>\n",
       "      <td>352</td>\n",
       "      <td>6333.0</td>\n",
       "      <td>244</td>\n",
       "      <td>2003-11-01</td>\n",
       "      <td>Scholastic</td>\n",
       "      <td>11</td>\n",
       "      <td>2003</td>\n",
       "      <td>single</td>\n",
       "      <td>J.K. Rowling</td>\n",
       "      <td>24.0</td>\n",
       "      <td>58</td>\n",
       "      <td>2</td>\n",
       "      <td>0.038528</td>\n",
       "    </tr>\n",
       "  </tbody>\n",
       "</table>\n",
       "</div>"
      ],
      "text/plain": [
       "                                                    title  \\\n",
       "bookID                                                      \n",
       "1       Harry Potter and the Half-Blood Prince (Harry ...   \n",
       "2       Harry Potter and the Order of the Phoenix (Har...   \n",
       "4       Harry Potter and the Chamber of Secrets (Harry...   \n",
       "\n",
       "                           authors  average_rating language_code  num_pages  \\\n",
       "bookID                                                                        \n",
       "1       J.K. Rowling/Mary GrandPré            4.57           eng        652   \n",
       "2       J.K. Rowling/Mary GrandPré            4.49           eng        870   \n",
       "4                     J.K. Rowling            4.42           eng        352   \n",
       "\n",
       "        ratings_count  text_reviews_count publication_date        publisher  \\\n",
       "bookID                                                                        \n",
       "1           2095690.0               27591       2006-09-16  Scholastic Inc.   \n",
       "2           2153167.0               29221       2004-09-01  Scholastic Inc.   \n",
       "4              6333.0                 244       2003-11-01       Scholastic   \n",
       "\n",
       "        publication_month  publication_year number_of_authors primary_author  \\\n",
       "bookID                                                                         \n",
       "1                       9              2006          multiple   J.K. Rowling   \n",
       "2                       9              2004          multiple   J.K. Rowling   \n",
       "4                      11              2003            single   J.K. Rowling   \n",
       "\n",
       "        author_total_book  title_len cat_rating  text_review_rate  \n",
       "bookID                                                             \n",
       "1                    24.0         57          2          0.013166  \n",
       "2                    24.0         60          2          0.013571  \n",
       "4                    24.0         58          2          0.038528  "
      ]
     },
     "execution_count": 211,
     "metadata": {},
     "output_type": "execute_result"
    }
   ],
   "source": [
    "df['text_review_rate']=df['text_reviews_count']/df['ratings_count']\n",
    "df.head(3)"
   ]
  },
  {
   "cell_type": "markdown",
   "id": "1efeeeb4",
   "metadata": {},
   "source": [
    "## Pre-processing of features and target"
   ]
  },
  {
   "cell_type": "markdown",
   "id": "03eae6f4",
   "metadata": {},
   "source": [
    "### Encoding of categorical data"
   ]
  },
  {
   "cell_type": "code",
   "execution_count": 212,
   "id": "4b13b73e",
   "metadata": {},
   "outputs": [],
   "source": [
    "labelencoder = LabelEncoder()\n",
    "df['language_cat'] = labelencoder.fit_transform(df['language_code'])\n",
    "\n",
    "df[\"co-author\"] = df['number_of_authors'].replace({'single': 0, 'multiple': 1})\n",
    "\n",
    "df['author_cat'] = labelencoder.fit_transform(df['primary_author'])\n",
    "\n",
    "df['cat_rating'] = labelencoder.fit_transform(df['cat_rating'])"
   ]
  },
  {
   "cell_type": "code",
   "execution_count": 213,
   "id": "9718e4d0",
   "metadata": {},
   "outputs": [
    {
     "data": {
      "text/html": [
       "<div>\n",
       "<style scoped>\n",
       "    .dataframe tbody tr th:only-of-type {\n",
       "        vertical-align: middle;\n",
       "    }\n",
       "\n",
       "    .dataframe tbody tr th {\n",
       "        vertical-align: top;\n",
       "    }\n",
       "\n",
       "    .dataframe thead th {\n",
       "        text-align: right;\n",
       "    }\n",
       "</style>\n",
       "<table border=\"1\" class=\"dataframe\">\n",
       "  <thead>\n",
       "    <tr style=\"text-align: right;\">\n",
       "      <th></th>\n",
       "      <th>title</th>\n",
       "      <th>authors</th>\n",
       "      <th>average_rating</th>\n",
       "      <th>language_code</th>\n",
       "      <th>num_pages</th>\n",
       "      <th>ratings_count</th>\n",
       "      <th>text_reviews_count</th>\n",
       "      <th>publication_date</th>\n",
       "      <th>publisher</th>\n",
       "      <th>publication_month</th>\n",
       "      <th>publication_year</th>\n",
       "      <th>number_of_authors</th>\n",
       "      <th>primary_author</th>\n",
       "      <th>author_total_book</th>\n",
       "      <th>title_len</th>\n",
       "      <th>cat_rating</th>\n",
       "      <th>text_review_rate</th>\n",
       "      <th>language_cat</th>\n",
       "      <th>co-author</th>\n",
       "      <th>author_cat</th>\n",
       "    </tr>\n",
       "    <tr>\n",
       "      <th>bookID</th>\n",
       "      <th></th>\n",
       "      <th></th>\n",
       "      <th></th>\n",
       "      <th></th>\n",
       "      <th></th>\n",
       "      <th></th>\n",
       "      <th></th>\n",
       "      <th></th>\n",
       "      <th></th>\n",
       "      <th></th>\n",
       "      <th></th>\n",
       "      <th></th>\n",
       "      <th></th>\n",
       "      <th></th>\n",
       "      <th></th>\n",
       "      <th></th>\n",
       "      <th></th>\n",
       "      <th></th>\n",
       "      <th></th>\n",
       "      <th></th>\n",
       "    </tr>\n",
       "  </thead>\n",
       "  <tbody>\n",
       "    <tr>\n",
       "      <th>1</th>\n",
       "      <td>Harry Potter and the Half-Blood Prince (Harry ...</td>\n",
       "      <td>J.K. Rowling/Mary GrandPré</td>\n",
       "      <td>4.57</td>\n",
       "      <td>eng</td>\n",
       "      <td>652</td>\n",
       "      <td>2095690.0</td>\n",
       "      <td>27591</td>\n",
       "      <td>2006-09-16</td>\n",
       "      <td>Scholastic Inc.</td>\n",
       "      <td>9</td>\n",
       "      <td>2006</td>\n",
       "      <td>multiple</td>\n",
       "      <td>J.K. Rowling</td>\n",
       "      <td>24.0</td>\n",
       "      <td>57</td>\n",
       "      <td>2</td>\n",
       "      <td>0.013166</td>\n",
       "      <td>0</td>\n",
       "      <td>1</td>\n",
       "      <td>1600</td>\n",
       "    </tr>\n",
       "    <tr>\n",
       "      <th>2</th>\n",
       "      <td>Harry Potter and the Order of the Phoenix (Har...</td>\n",
       "      <td>J.K. Rowling/Mary GrandPré</td>\n",
       "      <td>4.49</td>\n",
       "      <td>eng</td>\n",
       "      <td>870</td>\n",
       "      <td>2153167.0</td>\n",
       "      <td>29221</td>\n",
       "      <td>2004-09-01</td>\n",
       "      <td>Scholastic Inc.</td>\n",
       "      <td>9</td>\n",
       "      <td>2004</td>\n",
       "      <td>multiple</td>\n",
       "      <td>J.K. Rowling</td>\n",
       "      <td>24.0</td>\n",
       "      <td>60</td>\n",
       "      <td>2</td>\n",
       "      <td>0.013571</td>\n",
       "      <td>0</td>\n",
       "      <td>1</td>\n",
       "      <td>1600</td>\n",
       "    </tr>\n",
       "    <tr>\n",
       "      <th>4</th>\n",
       "      <td>Harry Potter and the Chamber of Secrets (Harry...</td>\n",
       "      <td>J.K. Rowling</td>\n",
       "      <td>4.42</td>\n",
       "      <td>eng</td>\n",
       "      <td>352</td>\n",
       "      <td>6333.0</td>\n",
       "      <td>244</td>\n",
       "      <td>2003-11-01</td>\n",
       "      <td>Scholastic</td>\n",
       "      <td>11</td>\n",
       "      <td>2003</td>\n",
       "      <td>single</td>\n",
       "      <td>J.K. Rowling</td>\n",
       "      <td>24.0</td>\n",
       "      <td>58</td>\n",
       "      <td>2</td>\n",
       "      <td>0.038528</td>\n",
       "      <td>0</td>\n",
       "      <td>0</td>\n",
       "      <td>1600</td>\n",
       "    </tr>\n",
       "  </tbody>\n",
       "</table>\n",
       "</div>"
      ],
      "text/plain": [
       "                                                    title  \\\n",
       "bookID                                                      \n",
       "1       Harry Potter and the Half-Blood Prince (Harry ...   \n",
       "2       Harry Potter and the Order of the Phoenix (Har...   \n",
       "4       Harry Potter and the Chamber of Secrets (Harry...   \n",
       "\n",
       "                           authors  average_rating language_code  num_pages  \\\n",
       "bookID                                                                        \n",
       "1       J.K. Rowling/Mary GrandPré            4.57           eng        652   \n",
       "2       J.K. Rowling/Mary GrandPré            4.49           eng        870   \n",
       "4                     J.K. Rowling            4.42           eng        352   \n",
       "\n",
       "        ratings_count  text_reviews_count publication_date        publisher  \\\n",
       "bookID                                                                        \n",
       "1           2095690.0               27591       2006-09-16  Scholastic Inc.   \n",
       "2           2153167.0               29221       2004-09-01  Scholastic Inc.   \n",
       "4              6333.0                 244       2003-11-01       Scholastic   \n",
       "\n",
       "        publication_month  publication_year number_of_authors primary_author  \\\n",
       "bookID                                                                         \n",
       "1                       9              2006          multiple   J.K. Rowling   \n",
       "2                       9              2004          multiple   J.K. Rowling   \n",
       "4                      11              2003            single   J.K. Rowling   \n",
       "\n",
       "        author_total_book  title_len  cat_rating  text_review_rate  \\\n",
       "bookID                                                               \n",
       "1                    24.0         57           2          0.013166   \n",
       "2                    24.0         60           2          0.013571   \n",
       "4                    24.0         58           2          0.038528   \n",
       "\n",
       "        language_cat  co-author  author_cat  \n",
       "bookID                                       \n",
       "1                  0          1        1600  \n",
       "2                  0          1        1600  \n",
       "4                  0          0        1600  "
      ]
     },
     "execution_count": 213,
     "metadata": {},
     "output_type": "execute_result"
    }
   ],
   "source": [
    "df.head(3)"
   ]
  },
  {
   "cell_type": "markdown",
   "id": "6eb0ac86",
   "metadata": {},
   "source": [
    "# Modeling"
   ]
  },
  {
   "cell_type": "markdown",
   "id": "9eb168e4",
   "metadata": {},
   "source": [
    "### Datasets (train/test)"
   ]
  },
  {
   "cell_type": "code",
   "execution_count": 214,
   "id": "d7ce8c0e",
   "metadata": {},
   "outputs": [],
   "source": [
    "df_processed=df.drop(columns=['title','authors', 'average_rating', 'number_of_authors', 'language_code','publication_date', 'publisher','primary_author'])\n",
    "\n",
    "df_train, df_test = train_test_split(df_processed ,test_size = 0.3, random_state = 63)"
   ]
  },
  {
   "cell_type": "code",
   "execution_count": 215,
   "id": "4f811807",
   "metadata": {},
   "outputs": [],
   "source": [
    "features = ['num_pages', 'ratings_count',\n",
    "            'author_cat', 'text_review_rate','author_total_book','title_len']\n",
    "\n",
    "\n",
    "X_train = df_train.loc[:,features]\n",
    "y_train = df_train.cat_rating\n",
    "\n",
    "X_test = df_test.loc[:,features]\n",
    "y_test = df_test.cat_rating"
   ]
  },
  {
   "cell_type": "markdown",
   "id": "f3187b77",
   "metadata": {},
   "source": [
    "### Sampling rebalancing"
   ]
  },
  {
   "cell_type": "code",
   "execution_count": 216,
   "id": "d75dfdf6",
   "metadata": {},
   "outputs": [
    {
     "data": {
      "image/png": "[encoded data removed]",
      "text/plain": [
       "<Figure size 432x288 with 1 Axes>"
      ]
     },
     "metadata": {},
     "output_type": "display_data"
    }
   ],
   "source": [
    "#plot the class size before resampling\n",
    "count = y_train.value_counts()\n",
    "ax=count.plot.bar()\n",
    "plt.ylabel('Number of records')\n",
    "plt.xlabel('Target Class')\n",
    "\n",
    "for i in ax.patches:\n",
    "    height = i.get_height()\n",
    "    ax.text(i.get_x() + i.get_width() / 2., height + 0.5, f'{height:.0f}', ha='center', fontweight='bold')\n",
    "\n",
    "plt.show()"
   ]
  },
  {
   "cell_type": "code",
   "execution_count": 217,
   "id": "d49609c5",
   "metadata": {},
   "outputs": [
    {
     "name": "stdout",
     "output_type": "stream",
     "text": [
      "1    4257\n",
      "2    3471\n",
      "0      60\n",
      "Name: cat_rating, dtype: int64\n",
      "\n",
      " Median is:  3471\n"
     ]
    }
   ],
   "source": [
    "count = y_train.value_counts()\n",
    "n_samples = np.int64(y_train.value_counts().median())\n",
    "\n",
    "print(count)\n",
    "print('\\n Median is: ', n_samples)"
   ]
  },
  {
   "cell_type": "markdown",
   "id": "980b8489",
   "metadata": {},
   "source": [
    "Based on the median, the sample strategy for undersampling and oversampling will be the following:\n",
    "* over sampling: 0.95*3400\n",
    "* undersampling: 1.05 * 3400"
   ]
  },
  {
   "cell_type": "code",
   "execution_count": 218,
   "id": "75739931",
   "metadata": {},
   "outputs": [],
   "source": [
    "over_strategy={0: 3060}\n",
    "under_strategy={1: 3740, 2: 3670}\n",
    "\n",
    "over=SMOTE(sampling_strategy=over_strategy, k_neighbors=7, random_state=63)\n",
    "X_over, y_over = over.fit_resample(X_train, y_train)\n",
    "\n",
    "X_over_df= pd.DataFrame(X_over)\n",
    "y_over_df= pd.DataFrame(y_over)\n",
    "\n",
    "under = RandomUnderSampler(sampling_strategy=under_strategy, random_state=63)\n",
    "\n",
    "X_train_balanced, y_train_balanced = over.fit_resample(X_over_df, y_over_df)"
   ]
  },
  {
   "cell_type": "markdown",
   "id": "08ef7966",
   "metadata": {},
   "source": [
    "### Modeling"
   ]
  },
  {
   "cell_type": "code",
   "execution_count": 220,
   "id": "0fa3948b",
   "metadata": {
    "scrolled": true
   },
   "outputs": [
    {
     "name": "stdout",
     "output_type": "stream",
     "text": [
      "\u001b[1m Features \u001b[0m:\n",
      " ['num_pages', 'ratings_count', 'author_cat', 'text_review_rate', 'author_total_book', 'title_len'] \n",
      "\n",
      "Confusion Matrix:\n",
      "[[   9   14    2]\n",
      " [  12 1360  459]\n",
      " [  14  589  880]]\n",
      "\n",
      "Classification Report\n",
      "              precision    recall  f1-score   support\n",
      "\n",
      "           0       0.26      0.36      0.30        25\n",
      "           1       0.69      0.74      0.72      1831\n",
      "           2       0.66      0.59      0.62      1483\n",
      "\n",
      "    accuracy                           0.67      3339\n",
      "   macro avg       0.54      0.57      0.55      3339\n",
      "weighted avg       0.67      0.67      0.67      3339\n",
      "\n"
     ]
    },
    {
     "data": {
      "image/png": "[encoded data removed]",
      "text/plain": [
       "<Figure size 432x288 with 1 Axes>"
      ]
     },
     "metadata": {},
     "output_type": "display_data"
    },
    {
     "name": "stdout",
     "output_type": "stream",
     "text": [
      "\n",
      " \u001b[1m Features importance: \u001b[0m \n",
      " num_pages            0.118468\n",
      "ratings_count        0.217049\n",
      "author_cat           0.124505\n",
      "text_review_rate     0.135264\n",
      "author_total_book    0.290397\n",
      "title_len            0.114318\n",
      "dtype: float32\n",
      "\n",
      "Execution time:  3.4992449283599854 \n",
      "\n"
     ]
    }
   ],
   "source": [
    "model= XGBClassifier(booster ='gbtree',objective=\"multi:softpro\", tree_method='exact', subsample= 0.9, num_class= 10, \n",
    "                     n_estimators=250, max_depth= 10, learning_rate= 0.2, colsample_bytree= 0.9, \n",
    "                     colsample_bylevel= 0.8,random_state = 63)\n",
    "\n",
    "names = \"XGB Classifier\"\n",
    "\n",
    "# evaluate pipeline\n",
    "print (\"\\033[1m Features \\033[0m:\\n\", features, '\\n')\n",
    "\n",
    "\n",
    "start = time.time()\n",
    "model.fit(X_train_balanced, y_train_balanced)\n",
    "predictions = model.predict(X_test)\n",
    "y_score = model.predict_proba(X_test)\n",
    "\n",
    "\n",
    "    \n",
    "print(\"Confusion Matrix:\")\n",
    "print(confusion_matrix(y_test, predictions))\n",
    "print()\n",
    "print(\"Classification Report\")\n",
    "print(classification_report(y_test, predictions))\n",
    "\n",
    "plot_roc(y_test, y_score)\n",
    "plt.show()\n",
    "       \n",
    "model_importances = pd.Series(model.feature_importances_, index=features)\n",
    "print('\\n \\033[1m Features importance: \\033[0m \\n', model_importances)\n",
    "    \n",
    "\n",
    "print('\\nExecution time: ', time.time() - start, '\\n')"
   ]
  },
  {
   "cell_type": "markdown",
   "id": "2f0855b8",
   "metadata": {},
   "source": [
    "**CONCLUSION**</BR>\n",
    "That model is the \"best\" that we obtained after model comparison, feature tuning and hyperparameters tuning. It seems enough good for mid and high rating but will miss low rating."
   ]
  }
 ],
 "metadata": {
  "kernelspec": {
   "display_name": "Python 3 (ipykernel)",
   "language": "python",
   "name": "python3"
  },
  "language_info": {
   "codemirror_mode": {
    "name": "ipython",
    "version": 3
   },
   "file_extension": ".py",
   "mimetype": "text/x-python",
   "name": "python",
   "nbconvert_exporter": "python",
   "pygments_lexer": "ipython3",
   "version": "3.9.12"
  },
  "toc": {
   "base_numbering": 1,
   "nav_menu": {},
   "number_sections": true,
   "sideBar": true,
   "skip_h1_title": false,
   "title_cell": "Table of Contents",
   "title_sidebar": "Contents",
   "toc_cell": false,
   "toc_position": {
    "height": "calc(100% - 180px)",
    "left": "10px",
    "top": "150px",
    "width": "165px"
   },
   "toc_section_display": true,
   "toc_window_display": true
  }
 },
 "nbformat": 4,
 "nbformat_minor": 5
}
